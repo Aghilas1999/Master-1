{
 "cells": [
  {
   "cell_type": "markdown",
   "metadata": {
    "colab_type": "text",
    "id": "Th6KMiyZfOd1"
   },
   "source": [
    "# Introduction à la Science de Données\n",
    "# TP4 - Clustering et visualisation\n",
    "\n",
    "Ce TP s'intéresse au clustering. Les données viennent d'une compétition kaggle sur le [niveau de bonheur dans le monde](https://www.kaggle.com/unsdsn/world-happiness) (si, si, ...)\n",
    "\n",
    "## Indice de Bonheur\n",
    "Dans un premier temps, il faut récupérer les données stockées dans le fichier \"bonheur.csv\". Comme d'habitude, on commence par regarder les données et leur description statistique :"
   ]
  },
  {
   "cell_type": "code",
   "execution_count": null,
   "metadata": {},
   "outputs": [],
   "source": []
  },
  {
   "cell_type": "code",
   "execution_count": 2,
   "metadata": {
    "colab": {
     "base_uri": "https://localhost:8080/",
     "height": 320
    },
    "colab_type": "code",
    "id": "w5v_kpBbfOeL",
    "outputId": "eb614ed9-dc54-4592-82df-09c588efee00"
   },
   "outputs": [
    {
     "data": {
      "text/html": [
       "<div>\n",
       "<style scoped>\n",
       "    .dataframe tbody tr th:only-of-type {\n",
       "        vertical-align: middle;\n",
       "    }\n",
       "\n",
       "    .dataframe tbody tr th {\n",
       "        vertical-align: top;\n",
       "    }\n",
       "\n",
       "    .dataframe thead th {\n",
       "        text-align: right;\n",
       "    }\n",
       "</style>\n",
       "<table border=\"1\" class=\"dataframe\">\n",
       "  <thead>\n",
       "    <tr style=\"text-align: right;\">\n",
       "      <th></th>\n",
       "      <th>Happiness.Rank</th>\n",
       "      <th>Happiness.Score</th>\n",
       "      <th>Whisker.high</th>\n",
       "      <th>Whisker.low</th>\n",
       "      <th>Economy..GDP.per.Capita.</th>\n",
       "      <th>Family</th>\n",
       "      <th>Health..Life.Expectancy.</th>\n",
       "      <th>Freedom</th>\n",
       "      <th>Generosity</th>\n",
       "      <th>Trust..Government.Corruption.</th>\n",
       "      <th>Dystopia.Residual</th>\n",
       "    </tr>\n",
       "  </thead>\n",
       "  <tbody>\n",
       "    <tr>\n",
       "      <th>count</th>\n",
       "      <td>155.000000</td>\n",
       "      <td>155.000000</td>\n",
       "      <td>155.000000</td>\n",
       "      <td>155.000000</td>\n",
       "      <td>155.000000</td>\n",
       "      <td>155.000000</td>\n",
       "      <td>155.000000</td>\n",
       "      <td>155.000000</td>\n",
       "      <td>155.000000</td>\n",
       "      <td>155.000000</td>\n",
       "      <td>155.000000</td>\n",
       "    </tr>\n",
       "    <tr>\n",
       "      <th>mean</th>\n",
       "      <td>78.000000</td>\n",
       "      <td>5.354019</td>\n",
       "      <td>5.452326</td>\n",
       "      <td>5.255713</td>\n",
       "      <td>0.984718</td>\n",
       "      <td>1.188898</td>\n",
       "      <td>0.551341</td>\n",
       "      <td>0.408786</td>\n",
       "      <td>0.246883</td>\n",
       "      <td>0.123120</td>\n",
       "      <td>1.850238</td>\n",
       "    </tr>\n",
       "    <tr>\n",
       "      <th>std</th>\n",
       "      <td>44.888751</td>\n",
       "      <td>1.131230</td>\n",
       "      <td>1.118542</td>\n",
       "      <td>1.145030</td>\n",
       "      <td>0.420793</td>\n",
       "      <td>0.287263</td>\n",
       "      <td>0.237073</td>\n",
       "      <td>0.149997</td>\n",
       "      <td>0.134780</td>\n",
       "      <td>0.101661</td>\n",
       "      <td>0.500028</td>\n",
       "    </tr>\n",
       "    <tr>\n",
       "      <th>min</th>\n",
       "      <td>1.000000</td>\n",
       "      <td>2.693000</td>\n",
       "      <td>2.864884</td>\n",
       "      <td>2.521116</td>\n",
       "      <td>0.000000</td>\n",
       "      <td>0.000000</td>\n",
       "      <td>0.000000</td>\n",
       "      <td>0.000000</td>\n",
       "      <td>0.000000</td>\n",
       "      <td>0.000000</td>\n",
       "      <td>0.377914</td>\n",
       "    </tr>\n",
       "    <tr>\n",
       "      <th>25%</th>\n",
       "      <td>39.500000</td>\n",
       "      <td>4.505500</td>\n",
       "      <td>4.608172</td>\n",
       "      <td>4.374955</td>\n",
       "      <td>0.663371</td>\n",
       "      <td>1.042635</td>\n",
       "      <td>0.369866</td>\n",
       "      <td>0.303677</td>\n",
       "      <td>0.154106</td>\n",
       "      <td>0.057271</td>\n",
       "      <td>1.591291</td>\n",
       "    </tr>\n",
       "    <tr>\n",
       "      <th>50%</th>\n",
       "      <td>78.000000</td>\n",
       "      <td>5.279000</td>\n",
       "      <td>5.370032</td>\n",
       "      <td>5.193152</td>\n",
       "      <td>1.064578</td>\n",
       "      <td>1.253918</td>\n",
       "      <td>0.606042</td>\n",
       "      <td>0.437454</td>\n",
       "      <td>0.231538</td>\n",
       "      <td>0.089848</td>\n",
       "      <td>1.832910</td>\n",
       "    </tr>\n",
       "    <tr>\n",
       "      <th>75%</th>\n",
       "      <td>116.500000</td>\n",
       "      <td>6.101500</td>\n",
       "      <td>6.194600</td>\n",
       "      <td>6.006527</td>\n",
       "      <td>1.318027</td>\n",
       "      <td>1.414316</td>\n",
       "      <td>0.723008</td>\n",
       "      <td>0.516561</td>\n",
       "      <td>0.323762</td>\n",
       "      <td>0.153296</td>\n",
       "      <td>2.144654</td>\n",
       "    </tr>\n",
       "    <tr>\n",
       "      <th>max</th>\n",
       "      <td>155.000000</td>\n",
       "      <td>7.537000</td>\n",
       "      <td>7.622030</td>\n",
       "      <td>7.479556</td>\n",
       "      <td>1.870766</td>\n",
       "      <td>1.610574</td>\n",
       "      <td>0.949492</td>\n",
       "      <td>0.658249</td>\n",
       "      <td>0.838075</td>\n",
       "      <td>0.464308</td>\n",
       "      <td>3.117485</td>\n",
       "    </tr>\n",
       "  </tbody>\n",
       "</table>\n",
       "</div>"
      ],
      "text/plain": [
       "       Happiness.Rank  Happiness.Score  Whisker.high  Whisker.low  \\\n",
       "count      155.000000       155.000000    155.000000   155.000000   \n",
       "mean        78.000000         5.354019      5.452326     5.255713   \n",
       "std         44.888751         1.131230      1.118542     1.145030   \n",
       "min          1.000000         2.693000      2.864884     2.521116   \n",
       "25%         39.500000         4.505500      4.608172     4.374955   \n",
       "50%         78.000000         5.279000      5.370032     5.193152   \n",
       "75%        116.500000         6.101500      6.194600     6.006527   \n",
       "max        155.000000         7.537000      7.622030     7.479556   \n",
       "\n",
       "       Economy..GDP.per.Capita.      Family  Health..Life.Expectancy.  \\\n",
       "count                155.000000  155.000000                155.000000   \n",
       "mean                   0.984718    1.188898                  0.551341   \n",
       "std                    0.420793    0.287263                  0.237073   \n",
       "min                    0.000000    0.000000                  0.000000   \n",
       "25%                    0.663371    1.042635                  0.369866   \n",
       "50%                    1.064578    1.253918                  0.606042   \n",
       "75%                    1.318027    1.414316                  0.723008   \n",
       "max                    1.870766    1.610574                  0.949492   \n",
       "\n",
       "          Freedom  Generosity  Trust..Government.Corruption.  \\\n",
       "count  155.000000  155.000000                     155.000000   \n",
       "mean     0.408786    0.246883                       0.123120   \n",
       "std      0.149997    0.134780                       0.101661   \n",
       "min      0.000000    0.000000                       0.000000   \n",
       "25%      0.303677    0.154106                       0.057271   \n",
       "50%      0.437454    0.231538                       0.089848   \n",
       "75%      0.516561    0.323762                       0.153296   \n",
       "max      0.658249    0.838075                       0.464308   \n",
       "\n",
       "       Dystopia.Residual  \n",
       "count         155.000000  \n",
       "mean            1.850238  \n",
       "std             0.500028  \n",
       "min             0.377914  \n",
       "25%             1.591291  \n",
       "50%             1.832910  \n",
       "75%             2.144654  \n",
       "max             3.117485  "
      ]
     },
     "execution_count": 2,
     "metadata": {},
     "output_type": "execute_result"
    }
   ],
   "source": [
    "import pandas as pd\n",
    "donnees = pd.read_csv(\"bonheur.csv\")\n",
    "donnees.describe()"
   ]
  },
  {
   "cell_type": "markdown",
   "metadata": {
    "colab_type": "text",
    "id": "qjiCDDEsfOeU"
   },
   "source": [
    "Le but initial de cette compétition était de prédire le *score de bonheur* (colonne *Happiness.Score*) en fonction des autres (sauf celle du *classement de bonheur*, *Happiness.Rank*).\n",
    "\n",
    "Nous allons prendre une approche différente et travailler à regrouper les données en clusters et voir quelle information en tirer.\n",
    "\n",
    "La première chose à faire est de créer une variable $Clean$ qui ne contient que les colonnes utiles.\n",
    "\n",
    "**Question.** Supprimer les colonnes *Happiness.Rank*, *Whisker.high*, et *Whisker.low* et stocker le résultat dans une dataframe s'appellant *Clean*."
   ]
  },
  {
   "cell_type": "code",
   "execution_count": 8,
   "metadata": {
    "colab": {},
    "colab_type": "code",
    "id": "ErxO6TI8fOeW"
   },
   "outputs": [
    {
     "data": {
      "text/html": [
       "<div>\n",
       "<style scoped>\n",
       "    .dataframe tbody tr th:only-of-type {\n",
       "        vertical-align: middle;\n",
       "    }\n",
       "\n",
       "    .dataframe tbody tr th {\n",
       "        vertical-align: top;\n",
       "    }\n",
       "\n",
       "    .dataframe thead th {\n",
       "        text-align: right;\n",
       "    }\n",
       "</style>\n",
       "<table border=\"1\" class=\"dataframe\">\n",
       "  <thead>\n",
       "    <tr style=\"text-align: right;\">\n",
       "      <th></th>\n",
       "      <th>Happiness.Score</th>\n",
       "      <th>Economy..GDP.per.Capita.</th>\n",
       "      <th>Family</th>\n",
       "      <th>Health..Life.Expectancy.</th>\n",
       "      <th>Freedom</th>\n",
       "      <th>Generosity</th>\n",
       "      <th>Trust..Government.Corruption.</th>\n",
       "      <th>Dystopia.Residual</th>\n",
       "    </tr>\n",
       "  </thead>\n",
       "  <tbody>\n",
       "    <tr>\n",
       "      <th>count</th>\n",
       "      <td>155.000000</td>\n",
       "      <td>155.000000</td>\n",
       "      <td>155.000000</td>\n",
       "      <td>155.000000</td>\n",
       "      <td>155.000000</td>\n",
       "      <td>155.000000</td>\n",
       "      <td>155.000000</td>\n",
       "      <td>155.000000</td>\n",
       "    </tr>\n",
       "    <tr>\n",
       "      <th>mean</th>\n",
       "      <td>5.354019</td>\n",
       "      <td>0.984718</td>\n",
       "      <td>1.188898</td>\n",
       "      <td>0.551341</td>\n",
       "      <td>0.408786</td>\n",
       "      <td>0.246883</td>\n",
       "      <td>0.123120</td>\n",
       "      <td>1.850238</td>\n",
       "    </tr>\n",
       "    <tr>\n",
       "      <th>std</th>\n",
       "      <td>1.131230</td>\n",
       "      <td>0.420793</td>\n",
       "      <td>0.287263</td>\n",
       "      <td>0.237073</td>\n",
       "      <td>0.149997</td>\n",
       "      <td>0.134780</td>\n",
       "      <td>0.101661</td>\n",
       "      <td>0.500028</td>\n",
       "    </tr>\n",
       "    <tr>\n",
       "      <th>min</th>\n",
       "      <td>2.693000</td>\n",
       "      <td>0.000000</td>\n",
       "      <td>0.000000</td>\n",
       "      <td>0.000000</td>\n",
       "      <td>0.000000</td>\n",
       "      <td>0.000000</td>\n",
       "      <td>0.000000</td>\n",
       "      <td>0.377914</td>\n",
       "    </tr>\n",
       "    <tr>\n",
       "      <th>25%</th>\n",
       "      <td>4.505500</td>\n",
       "      <td>0.663371</td>\n",
       "      <td>1.042635</td>\n",
       "      <td>0.369866</td>\n",
       "      <td>0.303677</td>\n",
       "      <td>0.154106</td>\n",
       "      <td>0.057271</td>\n",
       "      <td>1.591291</td>\n",
       "    </tr>\n",
       "    <tr>\n",
       "      <th>50%</th>\n",
       "      <td>5.279000</td>\n",
       "      <td>1.064578</td>\n",
       "      <td>1.253918</td>\n",
       "      <td>0.606042</td>\n",
       "      <td>0.437454</td>\n",
       "      <td>0.231538</td>\n",
       "      <td>0.089848</td>\n",
       "      <td>1.832910</td>\n",
       "    </tr>\n",
       "    <tr>\n",
       "      <th>75%</th>\n",
       "      <td>6.101500</td>\n",
       "      <td>1.318027</td>\n",
       "      <td>1.414316</td>\n",
       "      <td>0.723008</td>\n",
       "      <td>0.516561</td>\n",
       "      <td>0.323762</td>\n",
       "      <td>0.153296</td>\n",
       "      <td>2.144654</td>\n",
       "    </tr>\n",
       "    <tr>\n",
       "      <th>max</th>\n",
       "      <td>7.537000</td>\n",
       "      <td>1.870766</td>\n",
       "      <td>1.610574</td>\n",
       "      <td>0.949492</td>\n",
       "      <td>0.658249</td>\n",
       "      <td>0.838075</td>\n",
       "      <td>0.464308</td>\n",
       "      <td>3.117485</td>\n",
       "    </tr>\n",
       "  </tbody>\n",
       "</table>\n",
       "</div>"
      ],
      "text/plain": [
       "       Happiness.Score  Economy..GDP.per.Capita.      Family  \\\n",
       "count       155.000000                155.000000  155.000000   \n",
       "mean          5.354019                  0.984718    1.188898   \n",
       "std           1.131230                  0.420793    0.287263   \n",
       "min           2.693000                  0.000000    0.000000   \n",
       "25%           4.505500                  0.663371    1.042635   \n",
       "50%           5.279000                  1.064578    1.253918   \n",
       "75%           6.101500                  1.318027    1.414316   \n",
       "max           7.537000                  1.870766    1.610574   \n",
       "\n",
       "       Health..Life.Expectancy.     Freedom  Generosity  \\\n",
       "count                155.000000  155.000000  155.000000   \n",
       "mean                   0.551341    0.408786    0.246883   \n",
       "std                    0.237073    0.149997    0.134780   \n",
       "min                    0.000000    0.000000    0.000000   \n",
       "25%                    0.369866    0.303677    0.154106   \n",
       "50%                    0.606042    0.437454    0.231538   \n",
       "75%                    0.723008    0.516561    0.323762   \n",
       "max                    0.949492    0.658249    0.838075   \n",
       "\n",
       "       Trust..Government.Corruption.  Dystopia.Residual  \n",
       "count                     155.000000         155.000000  \n",
       "mean                        0.123120           1.850238  \n",
       "std                         0.101661           0.500028  \n",
       "min                         0.000000           0.377914  \n",
       "25%                         0.057271           1.591291  \n",
       "50%                         0.089848           1.832910  \n",
       "75%                         0.153296           2.144654  \n",
       "max                         0.464308           3.117485  "
      ]
     },
     "execution_count": 8,
     "metadata": {},
     "output_type": "execute_result"
    }
   ],
   "source": [
    "# suppression des colonnes Happines Rank , Whisker.high et Whisker.low\n",
    "Colm = ['Happiness.Rank','Whisker.high','Whisker.low']\n",
    "Clean = donnees.drop(Colm ,axis = 1)\n",
    "Clean.describe()"
   ]
  },
  {
   "cell_type": "markdown",
   "metadata": {
    "colab_type": "text",
    "id": "dUCki_d6fOej"
   },
   "source": [
    "On commence par regarder les corrélations entre les 8 attributs restants et le score de bonheur :"
   ]
  },
  {
   "cell_type": "code",
   "execution_count": 9,
   "metadata": {
    "colab": {
     "base_uri": "https://localhost:8080/",
     "height": 552
    },
    "colab_type": "code",
    "id": "eScL6OpJfOel",
    "outputId": "d2fa823c-4d07-4950-e70a-76cad59f6962"
   },
   "outputs": [
    {
     "data": {
      "text/plain": [
       "([<matplotlib.axis.YTick at 0x23e351c9f70>,\n",
       "  <matplotlib.axis.YTick at 0x23e351c97f0>,\n",
       "  <matplotlib.axis.YTick at 0x23e351b3670>,\n",
       "  <matplotlib.axis.YTick at 0x23e358c6070>,\n",
       "  <matplotlib.axis.YTick at 0x23e358c67c0>,\n",
       "  <matplotlib.axis.YTick at 0x23e358ca070>,\n",
       "  <matplotlib.axis.YTick at 0x23e358c6c70>,\n",
       "  <matplotlib.axis.YTick at 0x23e358c1df0>],\n",
       " [Text(0, 0, 'Happiness.Score'),\n",
       "  Text(0, 1, 'Economy..GDP.per.Capita.'),\n",
       "  Text(0, 2, 'Family'),\n",
       "  Text(0, 3, 'Health..Life.Expectancy.'),\n",
       "  Text(0, 4, 'Freedom'),\n",
       "  Text(0, 5, 'Generosity'),\n",
       "  Text(0, 6, 'Trust..Government.Corruption.'),\n",
       "  Text(0, 7, 'Dystopia.Residual')])"
      ]
     },
     "execution_count": 9,
     "metadata": {},
     "output_type": "execute_result"
    },
    {
     "data": {
      "image/png": "[encoded data removed]",
      "text/plain": [
       "<Figure size 288x288 with 1 Axes>"
      ]
     },
     "metadata": {
      "needs_background": "light"
     },
     "output_type": "display_data"
    }
   ],
   "source": [
    "cor = Clean.corr() # calcul de la matrice de correlation \n",
    "\n",
    "\n",
    "import matplotlib.pyplot as plt\n",
    "%matplotlib inline\n",
    "\n",
    "plt.matshow(cor)\n",
    "plt.xticks(range(len(cor.columns)), cor.columns, rotation=90)\n",
    "plt.yticks(range(len(cor.columns)), cor.columns)"
   ]
  },
  {
   "cell_type": "markdown",
   "metadata": {
    "colab_type": "text",
    "id": "QcwQj49WfOew"
   },
   "source": [
    "**Question** Quelles sont les colonnes les plus corrélées ? Quelle(s) colonne(s)semble(nt) le(s) plus corrélée(s) au score de bonheur ? Quelle(s) est/sont celle(s) qui le sont le moins ?"
   ]
  },
  {
   "cell_type": "raw",
   "metadata": {},
   "source": [
    "Les colonnes les plus corrélées est les colonnes \"Generosity\" et \"Dystopia.Residual\".\n",
    "La colonne qui semble le plus corrélés au score de bonheur est la colonne \"Dystopia.Residual\".\n"
   ]
  },
  {
   "cell_type": "markdown",
   "metadata": {},
   "source": [
    "## Associer des étiquettes à des intervalles de bonheur\n",
    "\n",
    "Si nous séparions le happiness score en quatre percentiles, nous pourrions attribuer une étiquette àchaque pays correspondant à ce happiness score ('très malheureux', 'malheureux', 'heureux' et 'très heureux' donc sur une échelle de 1 à 4 (ou de 0 à 3...).\n",
    "\n",
    "Calculer les 4 percentiles sur la base de toutes les données, créer un dictionnaire qui, à chaque percentile, associe son intitulé : appelons cela des classes de bonheur. Créer et calculer, enfin, un vecteur ``B1'' de taille le nombre de données (pays = lignes), qui indique pour chaque pays le numéro de sa classe en fonction de son appartenance au percentile associé, en fonction donc de son score de happiness."
   ]
  },
  {
   "cell_type": "code",
   "execution_count": null,
   "metadata": {},
   "outputs": [],
   "source": [
    "# a vous\n",
    "Dic = {1,2,3,4}\n",
    "B1 = [donnees]"
   ]
  },
  {
   "cell_type": "markdown",
   "metadata": {},
   "source": [
    "Représenter, sous forme graphique de votre choix (réflechissez avant de coder !), l'attribution des classes aux pays."
   ]
  },
  {
   "cell_type": "code",
   "execution_count": null,
   "metadata": {},
   "outputs": [],
   "source": [
    "# a vous"
   ]
  },
  {
   "cell_type": "markdown",
   "metadata": {
    "colab_type": "text",
    "id": "gglUPZHtfOfZ"
   },
   "source": [
    "## Clustering (partie à rendre, jusqu'à stabilité exclue)\n",
    "\n",
    "Nous cherchons maintenant à voir si, étant données les colonnes (variables) disponibles, mais sans le score de bonheur (happiness score) dans l'apprentissage, nous pouvons approcher la classification faite et visualisée ci-avant sur la base du happiness score. Autrement dit, nous cherchons à vérifier dans quelle mesure ce score de bonheur est issu des autres variables observées. Pour cela, nous allons utiliser l'algorithme de classification non-supervisée, $k$-moyennes, qui ne considérera pas du tout le score de bonheur (puisque d'une certaine manière c'est ce que nous cherchons à retrouver).\n",
    "\n",
    "En scikit-learn, l'algorithme des kmeans est géré par la classe *sklearn.cluster.KMeans* dont la [documentation](https://scikit-learn.org/stable/modules/generated/sklearn.cluster.KMeans.html) peu s'avérer très utile.\n",
    "\n",
    "**Question.**\n",
    "1. Stocker dans une variable *X* les 7 attributs descriptifs (on enlève Happiness Score que nous allons essayer de retrouver à l'intérieur des clusters)\n",
    "2. Réaliser un clustering à l'aide de l'algorithme des k-means sur l'ensemble de ces données, avec un *k* raisonable.\n",
    "3. Représenter visuellement l'attribution de chaque classe à chaque pays.\n",
    "4. Au regard de l'objectif présenté, analyser et comparer **visuellement** le résultat précédent qui était basé uniquement sur les percentiles liés à l'indice de bonheur (*Happiness.Score*) qui n'a pas servi au clustering. "
   ]
  },
  {
   "cell_type": "code",
   "execution_count": null,
   "metadata": {},
   "outputs": [],
   "source": [
    "# A vous"
   ]
  },
  {
   "cell_type": "markdown",
   "metadata": {
    "colab_type": "text",
    "id": "_gmRkFrTMo2s"
   },
   "source": [
    "### Evaluation de la qualité\n",
    "\n",
    "Pour évaluer **quantitativement** la qualité d'un clustering, l'analyse **visuelle** précédente ne suffit plus : nous devons quantifier la qualité du clustering en se basant sur des mesures adéqautes. \n",
    "\n",
    "Q1.  Nous savons (depuis le cours) que nous devons regarder les distances intra-classes et inter-classes. Mais avant de faire cela, nous ne pouvons  pas nous empêcher de regarder en détail ce que donne notre clustering à l'aide de la partie supervisée des données (avouez que ce serait dommage, non ? C'est déjà ce que nous avions abordé avec nos percentiles sur l'indice du bonheur, maintenant nous allons nous basé sur le rang de bonheur !).\n",
    "\n",
    "L'idée est donc la suivante : puisque l'on connaît le classement de chaque pays (colonne *Happiness.rank* initialement présente dans les données), on peut regarder pays par pays et regarder combien sont dans la bonne classe (ou dans la mauvaise). On va considérer qu'un pays est dans la bonne classe si le précédent dans le classement et le suivant sont **tous les deux** dans la même classe que lui ; il est dans la mauvaise classe sinon."
   ]
  },
  {
   "cell_type": "code",
   "execution_count": null,
   "metadata": {
    "colab": {},
    "colab_type": "code",
    "id": "sFmpLYU7SiVi"
   },
   "outputs": [],
   "source": [
    "Col = donnees['Happiness.Rank']\n",
    "classe_bonne_mauvaise= []\n",
    "\n",
    "c = 0\n",
    "# Premier condition.\n",
    "if(prediction[0] == predcition[1]):\n",
    "    c +=1\n",
    "else:\n",
    "    classe_bonne_mauvaise.append(0)\n",
    "    \n",
    "# Deuxieme condition.\n",
    "# Verifier le dernier et l'avant dernier si il sont simailir.\n",
    "if (prediction[len(new_Column) - 1] == prediction[len(new_column) - 2]):\n",
    "    c +=1\n",
    "else:\n",
    "    # Le 155 est le count de Happenis Rank.\n",
    "    classe_bonne_mauvaise.append(155)"
   ]
  },
  {
   "cell_type": "markdown",
   "metadata": {
    "colab_type": "text",
    "id": "iq1RmzK2ViDY"
   },
   "source": [
    "Q2. Cette façon de faire n'est toutefois pas satisfaisante : d'abord elle repose sur l'utilisation d'une information \"supervisée\" ce qui n'est pas possible normalement~; ensuite parce que nous ne savons pas comment le score est calculé : les différents critères sont sans doute pondérés pour l'obtenir. \n",
    "\n",
    "L'idée ici est de regarder dans un premier temps la distance moyenne des éléments dans chacun des clusters (calcul de l'homogénéité de chaque cluster -- appelée aussi intra-classes). En déduire l'homogénéité moyenne du clustering obtenu. On peut obtenir les points moyens de chaque cluster en lisant la documentation des kmeans."
   ]
  },
  {
   "cell_type": "code",
   "execution_count": null,
   "metadata": {
    "colab": {},
    "colab_type": "code",
    "id": "TJ6zJopvcUCu"
   },
   "outputs": [],
   "source": [
    "# A vous"
   ]
  },
  {
   "cell_type": "markdown",
   "metadata": {
    "colab_type": "text",
    "id": "Om7H0yRecbPn"
   },
   "source": [
    "Q3. Il faut maintenant calculer la distance entre cluster (séparabilité). Pour cela, une façon de faire est de calculer le barycentre de chacun des cluster, puis de calculer la distance entre chacun de ces centre de gravité deux par deux. Il est possible que vous trouviez dans la documentation une façon de récupérer les coordonnées des barycentre directement à partir du classifieur (on dit ça, on dit rien). Calculer ainsi la séparabilité entre chaque couple de cluster, et terminer par le score global de séparabilité du clustering."
   ]
  },
  {
   "cell_type": "code",
   "execution_count": null,
   "metadata": {
    "colab": {},
    "colab_type": "code",
    "id": "4sl2XW1hcqZB"
   },
   "outputs": [],
   "source": [
    "# A vous"
   ]
  },
  {
   "cell_type": "markdown",
   "metadata": {},
   "source": [
    "Q4. Calculer maintenant le score de silhouette de chaque donnée de l'échantillon. Quelle est la proportion de silhouettes négatives ? Qu'est-ce que cela signifie ?"
   ]
  },
  {
   "cell_type": "code",
   "execution_count": null,
   "metadata": {},
   "outputs": [],
   "source": [
    "# A vous"
   ]
  },
  {
   "cell_type": "markdown",
   "metadata": {},
   "source": [
    "Q5. Refaire les Q2, Q3 et Q4 pour d'autres valeurs de $k$ (par exemple $k=2, 5, 10$) : Quel(s) $k$ vous semble(nt) meilleur(s) ? Si besoin, vous pouvez produire un graphique avec $k$ en abscisse, et les trois courbes en ordonnées avec des couleurs différentes (homogénéité moyenne, séparabilité globale, et silhouette moyenne). Si vous avez encore du mal à decider, est-ceque l'indice de Davies aiderait ?"
   ]
  },
  {
   "cell_type": "code",
   "execution_count": null,
   "metadata": {},
   "outputs": [],
   "source": [
    "# A vous"
   ]
  },
  {
   "cell_type": "markdown",
   "metadata": {},
   "source": [
    "### Etude de la stabilité (bonus)\n",
    "\n",
    "Nous pouvons étudier la stabilité d'un algorithme de clustering pour un échantillon donné en observant la variation des mesures de qualité ci-avant, en fonction de la variation de l'échantillon et/ou de l'initialisation. Ici, nous proposons d'étudier cette stabilité en procédant comme suit:\n",
    "\n",
    "Répéter 20 fois (avec le meilleur $k$ trouvé précédemment):\n",
    "1. Prendre 80% de l'échantillon initial\n",
    "2. Lancer l'algorithmede clustering \n",
    "3. Calculer homogénéité $H$, séparabilité $S$, l'indice de Davis-Bouldin ($D_b$) et la proportion de silhouettes négatives ($F$)\n",
    "\n",
    "Puis, pour chaque mesure de qualité, un diagramme de Tukey indiquant médiane et quartiles. Conclure sur la stabilité des $k$-moyennes sur le clustering de cet échantillon."
   ]
  },
  {
   "cell_type": "code",
   "execution_count": null,
   "metadata": {},
   "outputs": [],
   "source": [
    "# A vous"
   ]
  },
  {
   "cell_type": "markdown",
   "metadata": {},
   "source": [
    "__Pour les plus curieu-ses-x__\n",
    "\n",
    "Faire une recherche sur l'indice de Rand permettant de mesure la stabilité d'un algorithme de clustering, et appliquer cette technique à l'étude du clustering précédent. Indiquer la source de documentation retenue. Conclure au regard de la technique précédente."
   ]
  },
  {
   "cell_type": "code",
   "execution_count": null,
   "metadata": {},
   "outputs": [],
   "source": [
    "# A vous"
   ]
  },
  {
   "cell_type": "markdown",
   "metadata": {},
   "source": [
    "## Conclusion\n",
    "\n",
    "L'indice de bonheur est-il plutôt fondé sur les autres variables descriptives, ou sur le rang de bonheur ? Dans le premier cas, que signifie ce \"rang\" dans les données ? Dans le second cas, comment score et rang de bonheur sont-ils corrélés ?"
   ]
  },
  {
   "cell_type": "code",
   "execution_count": null,
   "metadata": {},
   "outputs": [],
   "source": [
    "# A vous : code et texte libre bienvenus"
   ]
  }
 ],
 "metadata": {
  "colab": {
   "collapsed_sections": [],
   "name": "Correction-TP4-ISD.ipynb",
   "provenance": [],
   "version": "0.3.2"
  },
  "kernelspec": {
   "display_name": "Python 3 (ipykernel)",
   "language": "python",
   "name": "python3"
  },
  "language_info": {
   "codemirror_mode": {
    "name": "ipython",
    "version": 3
   },
   "file_extension": ".py",
   "mimetype": "text/x-python",
   "name": "python",
   "nbconvert_exporter": "python",
   "pygments_lexer": "ipython3",
   "version": "3.9.12"
  }
 },
 "nbformat": 4,
 "nbformat_minor": 1
}
