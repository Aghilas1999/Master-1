
<!-- saved from url=(0093)https://ametice.univ-amu.fr/pluginfile.php/6663896/mod_resource/content/3/cor_TPbonheur.ipynb -->
<html><head><meta http-equiv="Content-Type" content="text/html; charset=UTF-8"></head><body>{
 "cells": [
  {
   "cell_type": "markdown",
   "metadata": {
    "colab_type": "text",
    "id": "Th6KMiyZfOd1"
   },
   "source": [
    "# Introduction à la Science de Données\n",
    "# TP4 - Clustering et visualisation\n",
    "\n",
    "Ce TP s'intéresse à la visualisation à l'aide de cartes, ainsi qu'au clustering. Les données viennent d'une compétition kaggle sur le [niveau de bonheur dans le monde](https://www.kaggle.com/unsdsn/world-happiness) (si, si, ...)\n",
    "\n",
    "## Indice de Bonheur\n",
    "Dans un premier temps, il faut récupérer les données stockées dans le fichier \"2017.csv\". Comme d'habitude, on commence par regarder les données et leur description statistique :"
   ]
  },
  {
   "cell_type": "code",
   "execution_count": 1,
   "metadata": {
    "colab": {
     "base_uri": "https://localhost:8080/",
     "height": 320
    },
    "colab_type": "code",
    "id": "w5v_kpBbfOeL",
    "outputId": "eb614ed9-dc54-4592-82df-09c588efee00"
   },
   "outputs": [
    {
     "data": {
      "text/html": [
       "<div>\n",
       "<style scoped="">\n",
       "    .dataframe tbody tr th:only-of-type {\n",
       "        vertical-align: middle;\n",
       "    }\n",
       "\n",
       "    .dataframe tbody tr th {\n",
       "        vertical-align: top;\n",
       "    }\n",
       "\n",
       "    .dataframe thead th {\n",
       "        text-align: right;\n",
       "    }\n",
       "</style>\n",
       "\n",
       "  \n",
       "    \n",
       "      \n",
       "      \n",
       "      \n",
       "      \n",
       "      \n",
       "      \n",
       "      \n",
       "      \n",
       "      \n",
       "      \n",
       "      \n",
       "      \n",
       "    \n",
       "  \n",
       "  \n",
       "    \n",
       "      \n",
       "      \n",
       "      \n",
       "      \n",
       "      \n",
       "      \n",
       "      \n",
       "      \n",
       "      \n",
       "      \n",
       "      \n",
       "      \n",
       "    \n",
       "    \n",
       "      \n",
       "      \n",
       "      \n",
       "      \n",
       "      \n",
       "      \n",
       "      \n",
       "      \n",
       "      \n",
       "      \n",
       "      \n",
       "      \n",
       "    \n",
       "    \n",
       "      \n",
       "      \n",
       "      \n",
       "      \n",
       "      \n",
       "      \n",
       "      \n",
       "      \n",
       "      \n",
       "      \n",
       "      \n",
       "      \n",
       "    \n",
       "    \n",
       "      \n",
       "      \n",
       "      \n",
       "      \n",
       "      \n",
       "      \n",
       "      \n",
       "      \n",
       "      \n",
       "      \n",
       "      \n",
       "      \n",
       "    \n",
       "    \n",
       "      \n",
       "      \n",
       "      \n",
       "      \n",
       "      \n",
       "      \n",
       "      \n",
       "      \n",
       "      \n",
       "      \n",
       "      \n",
       "      \n",
       "    \n",
       "    \n",
       "      \n",
       "      \n",
       "      \n",
       "      \n",
       "      \n",
       "      \n",
       "      \n",
       "      \n",
       "      \n",
       "      \n",
       "      \n",
       "      \n",
       "    \n",
       "    \n",
       "      \n",
       "      \n",
       "      \n",
       "      \n",
       "      \n",
       "      \n",
       "      \n",
       "      \n",
       "      \n",
       "      \n",
       "      \n",
       "      \n",
       "    \n",
       "    \n",
       "      \n",
       "      \n",
       "      \n",
       "      \n",
       "      \n",
       "      \n",
       "      \n",
       "      \n",
       "      \n",
       "      \n",
       "      \n",
       "      \n",
       "    \n",
       "  \n",
       "<table border="\&quot;1\&quot;" class="\&quot;dataframe\&quot;"><thead><tr style="\&quot;text-align:" right;\"=""><th></th><th>Happiness.Rank</th><th>Happiness.Score</th><th>Whisker.high</th><th>Whisker.low</th><th>Economy..GDP.per.Capita.</th><th>Family</th><th>Health..Life.Expectancy.</th><th>Freedom</th><th>Generosity</th><th>Trust..Government.Corruption.</th><th>Dystopia.Residual</th></tr></thead><tbody><tr><th>count</th><td>155.000000</td><td>155.000000</td><td>155.000000</td><td>155.000000</td><td>155.000000</td><td>155.000000</td><td>155.000000</td><td>155.000000</td><td>155.000000</td><td>155.000000</td><td>155.000000</td></tr><tr><th>mean</th><td>78.000000</td><td>5.354019</td><td>5.452326</td><td>5.255713</td><td>0.984718</td><td>1.188898</td><td>0.551341</td><td>0.408786</td><td>0.246883</td><td>0.123120</td><td>1.850238</td></tr><tr><th>std</th><td>44.888751</td><td>1.131230</td><td>1.118542</td><td>1.145030</td><td>0.420793</td><td>0.287263</td><td>0.237073</td><td>0.149997</td><td>0.134780</td><td>0.101661</td><td>0.500028</td></tr><tr><th>min</th><td>1.000000</td><td>2.693000</td><td>2.864884</td><td>2.521116</td><td>0.000000</td><td>0.000000</td><td>0.000000</td><td>0.000000</td><td>0.000000</td><td>0.000000</td><td>0.377914</td></tr><tr><th>25%</th><td>39.500000</td><td>4.505500</td><td>4.608172</td><td>4.374955</td><td>0.663371</td><td>1.042635</td><td>0.369866</td><td>0.303677</td><td>0.154106</td><td>0.057271</td><td>1.591291</td></tr><tr><th>50%</th><td>78.000000</td><td>5.279000</td><td>5.370032</td><td>5.193152</td><td>1.064578</td><td>1.253918</td><td>0.606042</td><td>0.437454</td><td>0.231538</td><td>0.089848</td><td>1.832910</td></tr><tr><th>75%</th><td>116.500000</td><td>6.101500</td><td>6.194600</td><td>6.006527</td><td>1.318027</td><td>1.414316</td><td>0.723008</td><td>0.516561</td><td>0.323762</td><td>0.153296</td><td>2.144654</td></tr><tr><th>max</th><td>155.000000</td><td>7.537000</td><td>7.622030</td><td>7.479556</td><td>1.870766</td><td>1.610574</td><td>0.949492</td><td>0.658249</td><td>0.838075</td><td>0.464308</td><td>3.117485</td></tr></tbody></table>\n",
       "</div>"
      ],
      "text/plain": [
       "       Happiness.Rank  Happiness.Score  Whisker.high  Whisker.low  \\\n",
       "count      155.000000       155.000000    155.000000   155.000000   \n",
       "mean        78.000000         5.354019      5.452326     5.255713   \n",
       "std         44.888751         1.131230      1.118542     1.145030   \n",
       "min          1.000000         2.693000      2.864884     2.521116   \n",
       "25%         39.500000         4.505500      4.608172     4.374955   \n",
       "50%         78.000000         5.279000      5.370032     5.193152   \n",
       "75%        116.500000         6.101500      6.194600     6.006527   \n",
       "max        155.000000         7.537000      7.622030     7.479556   \n",
       "\n",
       "       Economy..GDP.per.Capita.      Family  Health..Life.Expectancy.  \\\n",
       "count                155.000000  155.000000                155.000000   \n",
       "mean                   0.984718    1.188898                  0.551341   \n",
       "std                    0.420793    0.287263                  0.237073   \n",
       "min                    0.000000    0.000000                  0.000000   \n",
       "25%                    0.663371    1.042635                  0.369866   \n",
       "50%                    1.064578    1.253918                  0.606042   \n",
       "75%                    1.318027    1.414316                  0.723008   \n",
       "max                    1.870766    1.610574                  0.949492   \n",
       "\n",
       "          Freedom  Generosity  Trust..Government.Corruption.  \\\n",
       "count  155.000000  155.000000                     155.000000   \n",
       "mean     0.408786    0.246883                       0.123120   \n",
       "std      0.149997    0.134780                       0.101661   \n",
       "min      0.000000    0.000000                       0.000000   \n",
       "25%      0.303677    0.154106                       0.057271   \n",
       "50%      0.437454    0.231538                       0.089848   \n",
       "75%      0.516561    0.323762                       0.153296   \n",
       "max      0.658249    0.838075                       0.464308   \n",
       "\n",
       "       Dystopia.Residual  \n",
       "count         155.000000  \n",
       "mean            1.850238  \n",
       "std             0.500028  \n",
       "min             0.377914  \n",
       "25%             1.591291  \n",
       "50%             1.832910  \n",
       "75%             2.144654  \n",
       "max             3.117485  "
      ]
     },
     "execution_count": 1,
     "metadata": {},
     "output_type": "execute_result"
    }
   ],
   "source": [
    "import pandas as pd\n",
    "donnees = pd.read_csv(\"bonheur.csv\")\n",
    "donnees.describe()"
   ]
  },
  {
   "cell_type": "markdown",
   "metadata": {
    "colab_type": "text",
    "id": "qjiCDDEsfOeU"
   },
   "source": [
    "Le but initial de cette compétition était de prédire le *score de bonheur* (colonne *Happiness.Score*) en fonction des autres (sauf celle du *classement de bonheur*, *Happiness.Rank*).\n",
    "\n",
    "Nous allons prendre une approche différente et travailler à regrouper les données en clusters et voir quelle information en tirer.\n",
    "\n",
    "La première chose à faire est de créer une variable $Clean$ qui ne contient que les colonnes utiles.\n",
    "\n",
    "**Question.** Supprimer les colonnes *Happiness.Rank*, *Whisker.high*, et *Whisker.low* et stocker le résultat dans une dataframe s'appellant *Clean*."
   ]
  },
  {
   "cell_type": "code",
   "execution_count": 2,
   "metadata": {
    "colab": {},
    "colab_type": "code",
    "id": "ErxO6TI8fOeW"
   },
   "outputs": [
    {
     "name": "stdout",
     "output_type": "stream",
     "text": [
      "155\n"
     ]
    }
   ],
   "source": [
    "Clean = donnees.copy(deep=True)\n",
    "del Clean['Happiness.Rank']\n",
    "del Clean['Whisker.high']\n",
    "del Clean['Whisker.low']\n",
    "print(len(Clean))"
   ]
  },
  {
   "cell_type": "markdown",
   "metadata": {
    "colab_type": "text",
    "id": "dUCki_d6fOej"
   },
   "source": [
    "On commence par regarder les corrélations entre les 8 attributs restants et le score de bonheur :"
   ]
  },
  {
   "cell_type": "code",
   "execution_count": 3,
   "metadata": {
    "colab": {
     "base_uri": "https://localhost:8080/",
     "height": 552
    },
    "colab_type": "code",
    "id": "eScL6OpJfOel",
    "outputId": "d2fa823c-4d07-4950-e70a-76cad59f6962"
   },
   "outputs": [
    {
     "data": {
      "text/plain": [
       "([<matplotlib.axis.ytick at="" 0x7f487c58cd30="">,\n",
       "  <matplotlib.axis.ytick at="" 0x7f487c58c910="">,\n",
       "  <matplotlib.axis.ytick at="" 0x7f487c56cf40="">,\n",
       "  <matplotlib.axis.ytick at="" 0x7f487c51e2b0="">,\n",
       "  <matplotlib.axis.ytick at="" 0x7f487c51edc0="">,\n",
       "  <matplotlib.axis.ytick at="" 0x7f487bd0c310="">,\n",
       "  <matplotlib.axis.ytick at="" 0x7f487bd0c820="">,\n",
       "  <matplotlib.axis.ytick at="" 0x7f487bd0cd30="">],\n",
       " [Text(0, 0, 'Happiness.Score'),\n",
       "  Text(0, 1, 'Economy..GDP.per.Capita.'),\n",
       "  Text(0, 2, 'Family'),\n",
       "  Text(0, 3, 'Health..Life.Expectancy.'),\n",
       "  Text(0, 4, 'Freedom'),\n",
       "  Text(0, 5, 'Generosity'),\n",
       "  Text(0, 6, 'Trust..Government.Corruption.'),\n",
       "  Text(0, 7, 'Dystopia.Residual')])"
      ]
     },
     "execution_count": 3,
     "metadata": {},
     "output_type": "execute_result"
    },
    {
     "data": {
      "image/png": "iVBORw0KGgoAAAANSUhEUgAAAYwAAAGQCAYAAAC9LVeqAAAAOXRFWHRTb2Z0d2FyZQBNYXRwbG90bGliIHZlcnNpb24zLjMuNCwgaHR0cHM6Ly9tYXRwbG90bGliLm9yZy8QVMy6AAAACXBIWXMAAAsTAAALEwEAmpwYAABINUlEQVR4nO3dd5xcVd3H8c83oSQQQpHQFAjSIUAgIfQqWJAqSKSooI+IgBTFikqxgYqIICIiAaQ8gBQBCz2UEAkhpFKlPSpIryG05Pv8cc6Qm2V3M7t778zO8nu/XvvauWXu78xkM785554i24QQQgjz06/ZBQghhNAaImGEEEKoSySMEEIIdYmEEUIIoS6RMEIIIdQlEkYIIYS6RMIIIYRQl0gYIYQQ6hIJI4QQGkTStc0uQ08oRnqHEEJjSFre9lPNLkd3RcIIIYRQlwWaXYAQQuiLJG0BHAesTPqsFWDbH25muXoiahghhFABSQ8ARwH3ALNr+20/37RC9VDUMEIIoRov2/5bswtRpqhhhBBCBSSdCPQHrgDerO23PalpheqhSBghhFABSbe0s9u2t294YUoSCSOEEEJdYuBeCCFUQNLikn4paWL+OVnS4s0uV09EwgghhGqcA7wK7J1/XgHGNLVEPRRNUiGEUAFJk20Pn9++VhI1jBBCqMYsSVvWNvJAvllNLE+PRQ0jhBAqIGk4cB6wOGmU9wvAAbanNLNcPREJI4QQKiRpMIDtV5pdlp6KhBFCCCWStL/tCyR9rb3jtn/Z6DKVJaYGCSGEci2afy/WzrGW/oYeNYwQQqiApC1sj5vfvlYSCSOEECogaZLtjea3r5VEk1QIIZRI0mbA5sCQNvcxBpMmI2xZkTBCCKFcCwGDSJ+vxfsYrwB7NaVEJYkmqRBCqICklW0/kbvV2varzS5TT8VI7xBCqMYQSdOAqcA0SVMkjWh2oXoiahghhFABSVOBQ23fnre3BM6wvX5zS9Z9UcMIoQSSlmt2GUKv82otWQDYvoM0e23LihpGCCWQ9Bfbn2x2OULvIekUYBHgYtKAvdHAi8Dl0JpLtUbCCCGECnSwRGtNSy7VGgkjhG6StAwwoLZt+/+aWJwQKhfjMELoIkm7AicDKwDPACsD9wPrNrNcoXeR9IP29ts+odFlKUvc9A6h634IbAo8ZHsV4CNAy84PFCozs/AzG/gEMLSZBeqpaJIKoYskTbQ9UtIUYEPbcyRNsD2q2WULvZekhYGrbX+s2WXprmiSCqHrXpI0CLgNuFDSM8A7TS5T6P0WAT7c7EL0RNQwQugiSYuS1mbuB+xHWoLzAtsvNLVgFZK0USt2A22mPMq79gHbHxgCnGD79OaVqmciYYTQRZJOsv2t+e1rVZKWapv8JP3e9peaVaZWJGnlwuY7wNO2W7omGgkjhC7qYJ2Dqa085UORpIeBycAY4G+OD4kuk9QPmGp7WLPLUqboJRVCnSR9JTczrClpauHnMdIEc33FGsBZwGeBf0r6iaTVm1ymlmJ7DjBF0krNLkuZooYRQp0kLQ4sCfwU+Hbh0Kt99f6FpO2AC0jrO0wGvm17fFML1SIk3QxsDEwgda0FwPauTStUD0XCCKFOkgbbfkXSUu0d7ytJQ9IHgP1JNYyngT8AVwPDgcvy2JMwH5K2aW+/7VsbXZayRLfaEOp3EbAzcA+p94sKx0yLd5ksGA/8Edjd9r8L+ydKOrNJZWop+R7Gb/raPYyoYYQQ5iFJcaO75yRdCHynL80xFjWMELpB0qeALUk1i9ttX9XcEpXqekmftv0SgKQlgf9t5RHKTbI8MENSn7mHEQkjhC6SdAawGmmdA4CDJe1o+9AmFqtMQ2rJAsD2i3lm3tA1xze7AGWLhBFC120DDKs120g6D5jW3CKVaraklWpNKXkAWjRRdZHtWyUtS+opBTDB9jPNLFNPxTiMELruQaDYv35F+tY4jGOAOyT9UdIfSXNmfafJZWo5kvYmdan9NLA3cJekvZpbqp6Jm94hdJGkW5nbv578eDzwOrR2G3WNpKVJU7gLGG/7uSYXqeXk2Yx3rNUqJA0BbrS9QXNL1n3RJBVC17W7ME4fszDwAukzYh1J2L6tyWVqNf3aNEE9T4u36kTCCKGLWnngVT0knQSMBmYAc/Juk5qmQv3+Luk65naOGA38rYnl6bFokgqhiyRtCpwGrA0sRJq6eqbtwU0tWEkkPQisb/vNZpel1RW6Xwu4zfaVTS5Sj0QNI4SuOx34DHAZMBL4HNCXJud7FFgQiITRDZJWA5a1Pc72FcAVef/Wkla1/UhzS9h9kTBC6Abb/5TU3/ZsYIykO5tdphK9DkyWdBOFpGH78OYVqaX8CvhuO/tfz8d2aWRhyhQJI4Sue13SQqQP1Z8BTwGLNrlMZbo6/4TuGWr7Pd2sbU+UNLQJ5SlN3MMIoYvyQLanSfcvjiIt0XqG7X82tWChV5D0T9urdfVYK4gaRgh1yv3oh9i+L+96Azhe0jDg5eaVrFx5saSfAusAA2r7bfeV2XirdrekL9n+fXGnpC+SZjpuWZEwQqjfacBv29n/QVKb9b6NLU5lxgDHAqcA2wEHMu9U7qFzRwJXStqPuQliJKlGukezClWGaJIKoU6SZthet4Nj0/vK2geS7rE9QtI02+vlfbfb3qrZZWslebXC2t/EDNs3N7M8ZYgaRgj1W7Cbx1rNG3kBoIclHQb8B4jZarvI9i3ALc0uR5laeph6CA32sKSd2u6U9AnS2IW+4khgEeBwYARpudbPNbNAfYWka5tdhp6IJqkQ6iRpDeBa4E7mbZveDNjZ9kPNKluZ8uJJl81vX+g6ScvbfqrZ5eiuqGGEUKecENYDbgWG5p9bSdNo9IlkkbU3lXlMb95Fko5oZ/feDS9IiaKGEUIA3m1a24n0oXZJ4dBgYB3bo5pSsBYlaZLtjdrsu9f2hs0qU0/FTe8QSiDpLNsHNbscPfQkMBHYlXnHC7xKGqAY6iBpH1IX61UkFUfML0aa4rxlRQ0jhC6Q1B843PYpbfaPsN3Sg7JqJA0mzb47O2/3Bxa2/XpzS9Ya8kwAq5AGP367cOhVYKrtd5pSsBJEwgihiySNtb1ts8tRFUn/AHaw/VreHgRcb3vz5pYsNFs0SYXQdeMknU5q559Z22l7UvOKVKoBtWQBYPs1SYs0s0CtKK+FcRJpDIvyj6tYN0XSNaRFrtpV1rLBkTBC6LraN+0TCvsMbN+EslRhpqSNaglQ0ghgVpPL1Ip+Buxi+/4GxPpFA2JEk1QIYV6SNgb+l3QTHGB5YHRfuUfTKJLG2d6i2eUoUySMELpI0rLAT4AVbH9C0jrAZrb/0OSilUbSgsCapGaUB2y/3eQitRxJpwLLAVcx70JUV1QYs9KZhmPgXghddy5wHbBC3n6INJ1Gn5DvV3wLOML2NGCopJ2bXKxWNJi0yt5HSavs7QJU/T6OIc2o/A5ppuHzgT+WdfGoYYTQRZLutr1xcRCWpMm2hze5aKWQdAlpHMbnbA+TNBAY31deX19W9UzDUcMIfYKkLSUdmB8PkbRKheFmSvoAuVeKpE3pQwsoAava/hnwNoDtWcR6GF0maQ1JN0manrfXl/S9isPOM9OwpD0ocabhSBih5Uk6ltSEUpvvaEHgggpDfo205vWqksaRqv1frTBeo72VaxW1hLgqhTb4ULffk/4ma4l3KvCZimMeybwzDX8W+HxZF49utaEv2APYEJgEYPtJSYtVFcz2JEnbMPem8IN97KbwscDfgRUlXQhsARzQ1BK1pkVsT5DmqZxVOsrb9t354WuklRJLFQkj9AVv2bak2jfiRasMJmkAcAiwJelb+O2SzrT9RpVxG8X2DZImAZuSEuIRtp9rcrFa0XO5dlb7u9wLqHRqc0m30M4APtuljBGKhBH6gksl/Q5YQtKXgC+QmgOqcj5pXqDT8vY+pJ4on64wZqNtw9yEuCBwZXOL05IOBc4C1pL0H+Ax0mJUVTq68HgAsCcl1mqil1RoaUr1/Q8Ba5G6Lwq4zvYNFcacYnuD+e1rVZLOAFYDLs67RgOP2D60eaVqXbnG28/2q02Kf6vtbcq4VtQwQkvLTVFX2R4BVJYk2rhX0qa2/wEgaRNgXINiN8I2wDDnb5OSzgOmNbdIrUfSEqSlbYcCC9TuZdg+vMKYSxU2+5FufC9X1vUjYYS+4B+SNi7c8KvaJsDnJP1f3l4JuF/SNFIOW79B5ajKg6TX9ETeXhGY2rzitKy/Av8gJds5DYp5D6kZUaSmqMeAL5Z18WiSCi1P0n2kHkuPk2aPrc0KWskHd17voEO2n+jseG8n6VZgY2BC3rUx6YNvJpQ382lf196Ke60uEkZoeR19gLf6B3ez5C7DHbJ9a6PK0sokHUXq3not884l9UIFsT7V2fGy5q+KJqnQ8mw/IWkDoDb9we22pzSyDJKutd1X5lt61vZ9xR2StrU9tknlaVVvAT8HjmFuV1cDpUwE2MYu+fcypOn3b87b2wFjgVISRoz0Di1P0hHAhaT/LMsAF0gqfeS1pNUl/VnSdEkXS/pg4fCXyo7XRJdK+qaSgZJOI82AGrrma8BqtofaXiX/VJEssH2g7QNJCWkd23va3hNYt8w4kTBCX/BFYBPbP7D9A9KAsyo+wM8hNS/sSRpVXhuHge1KB2Q12Cakm953AneT1sXoU+s6NMgM0my1jTS0zd/i08AaZV08mqRCXyBgdmF7NtVMlreY7dqAwJ/n0dB90dukFfYGkgZ/PWa7Ub18+pLZwOQ8+rp4D6OybrXAWEnXkcbQmDR31S1lXTwSRugLxgB3SaqNRt4dqGIxowGSNmRuMhpY3O5Da3rfDfyZ1DvqA8DvJO1le6/mFqvlXJV/Gsb2YfkGeO1+3lm2SxulH72kQp8gaSPSVBYCbrN9bwUxOvum5rLm62k2SSNtT2yz77O2S1uIJ7SmSBih5eX1KGbUpl7IM9WuY/uu5pastUja3vbN+fEqth8rHPtUlUuL9kWStgCOA1YmtebUxgeVfuNb0h22t5T0KvNOPliLObiUOJEwQquTdC+wUWEqi37AxCoGTeWFk/YlzV0FcD9wURV96xutONCs7aCzvjgIrWqSHgCOIo2+fvcem+3nm1aoHopeUqEvkAvffPIN2tLvz0laG5hOmp/nIeBhUjv/dElrdfbcFqEOHre3HebvZdt/s/2M7edrP1UGlLSqpIXz420lHZ7ntCpF3PQOfcGjkg4Hfpu3DwEerSDOD0lrQ1xa3ClpT+DHpO62rcwdPG5vO8zfLZJ+Tho0V+wlVWXniMuBkZJWI3X8uBq4CNipjItHk1RoeZKWAX4N1G463wgcafuZkuM8aHvNrh5rFZJeAm4j1Sa2yo/J21vaXrJJRWtJHXSSqLRzRK3pUNI3gDdsnybpXtsblnH9qGGElpcTQ9VrJUOefK8bx1rFboXHv2hzrO126ISk/sDVtk9pcOi3Je1DWse7Nl3IgmVdPBJGaFl5db2xth/OCyn9gdQs9ARwQAVV/2Ukfa29ogBDSo7VcDGpYHlsz5a0K9DohHEgcDDwY9uPSVoFuKCsi0eTVGhZkqYDG9p+W9K+wNdJq+5tCBxre6tOL9D1eMd2dtz28WXG600kHWf7uGaXo5VI+jGwOHAJhRpo1QM8JQ0EVrL9YOnXjoQRWpWkybaH58cXAXfZPjVvRzfQEknaxfY1zS5HK2nSPYxdSM2HC9leRdJw4ISy1jCJhBFaVp7L6ZPAi6RmqO1tz8jH7re9dsnx1gVWtX113j6F9A0S4PQ+NDVIaFGS7iF1/hhbu9EtaZrt9cq4fozDCK3sB8BE0kp7VxeSxTZU0632ROC5wvbHgL+QJnf7QQXxmkLSGpJuyk1+SFpf0veaXa5WI2lZSX+Q9Le8vY6k0pZL7cA7tl9us6+0WkEkjNCybF9LmnZhbdvF6cwnAqMrCLm87TsL26/YvjzPsbR0BfGa5ffAd0iz1mJ7Ko3phdbXnAtcB6yQtx8Cjqw45vR8P69/Xr/lNNI09aWIhBFamu13bL/YZt9MYFAF4RZrE2fTwuYyFcRrlkVsT2iz752mlKS1LZ0Hec6B9LfKvNPwV+GrpEWT3iRNcf4ycERZF4+EEfqqKqY3f1LSJm135skPn6wgXrM8J2lVclOGpL2APrFAlKTLJX0yzzdWtZl57rHa+7gp6QO8MrZft32M7Y1tjyR1qT29rOvHTe8Q6iRpFKmL5LmkFfcgzSv1eWB0O9/KW5KkDwNnkdaGfhF4DNjP9hNNLVgJJO1AGquwKXAZcK7tByqKNYI0A8Ew0hxkQ4C9chNf2bHWJ/WOWgG4kpQkziCtnnhyWQMII2GElpe/Df/b9puStgXWB863/VIFsZYBDmPuWskzgN/YfrrsWI0m6Qjbp0rawvY4SYsC/WrTxvclkhYH9gGOAf5Fum9zge23S46zALAmaXDng2VfvxDnLtJcauOBjwPfJM0h9X3bb5QWJxJGaHWSJgMjgaGkm4xXA2vaLmXCtfeL2riWvj6GJTcT7Q98ltSUeCFp8a31bG9bYpwppBrpJbYfKeu6HcR6d0xS3v4XaX3vUu+ZxNQgoS+YY/sdSXsAv6pNuNbIAvSRkdD3S3ocGCKp2GxSW4Rn/eYUqzySriCtZfJHYBfbtXszl0ia2PEzu2VXUm+9SyXNISWPS23/X8lx4L3LB78GrJ+nzCltdHnUMELLy9XxX5GaF3bJc+hMtz2sgWXoEyOhJS1HqqW9Z2RwH7mHsZPtv7bZt7DtNzt6TklxVwe+T7oX1L+C6zdk+eBIGKHlSVqHNOHaeNsX5wnXRts+sclFC71Me81tVTbBSRoK7E2qacwmNU+dXEWsRogmqdDybN8HHA4gaUlgsUYnC0k754GELUvSpbb3ljSN9teFbtkmqVxz+iAwsE3TzWBgkYpi3kWaWvwy4NO2q5h9oJ5yLGf7v2VcKxJGaHmSxpKaUBYAJgPPSrrVdntTkZcRb5jt6W12bwy0dMJg7gCvnZtaimp8DDgA+BDwy8L+V4HvVhTz81V12e2iP5DmXOuxaJIKLa+2opik/wFWtH2spKlVfSOWdAewEGk8xkVVdN/tbSSNs71Fs8vRU5L2tH15g2ItDhwLbJ133UqaObbSwXtVihpG6AsWkLQ8qa34mKqD2d4y38T8AjBR0gRgjO0bqo7dRCs1uwA9IWl/2xcAQ9tbBMv2L9t5Wk+dQxqwt3fe/iwwBvhUBbHmkccLDahtl9UzKxJG6AtOIPXsGWf77jxS+eEqA+ZV/r5Hmujw18CGuQvjd21fUWXsJqm0KSKPVB5K4TOp5Pdx0fy7ijnGOrKq7T0L28fnMUOVyav8nUwa8f0MaXLO+5k70LRn148mqRC6Jn+4HUhqF74B+IPtSZJWIPXUWrmpBewmSR198xVwpu1KlqGVdA5pdP4M8kR9pJvsX6giXqNIGg98w/YdeXsL4Be2N6sw5hTSehg35mba7YB9bB9UxvWjhhFanqQ1SNMiLGt7WP5A39X2jyoKeTpwNqk2Mau20/aTLb5uxC6dHKvyhv6mttep8PrvkvQz4EfALODvwAbAkbm5qmwHA+fnexkCXiDdeK/S27afl9RPUj/bt0g6qayLRw0jtDxJtwLfAH5XWGWsoQP3QvdJ+gNpgrz7GhCrNv3JHsDuwFHALbY3qDDmYADbr1QVoxDrRtLr+ilpjZZngI1tb17G9aOGEfqCRWxPyLMg1FS2foOknYEfktrc+zN3nMLgqmI2m6SNyppeoh3nAeMl/Ze0jkOV4z4WzL93Ai62/UKbv5sek/Qh0jxOd+Rd/wMMynEusv3PUgPOazfgDVIi3I+0hPAJZV08EkboCxq9fsOvSD1dpvn9U0X/CvCl+Z7VPeeQehBNY+49jKpcI+kBUpPUIZKGkD5gy/Rz0oSGNV8mTRe/CHA86YO8EnnxsJrzyr5+NEmFltfB+g372368oni3AB+xXfWH2/uCpJvLmuuoznhLkpbXnS1pEWBwWSOh8/XnmWqkNk4oP77d9lZlxSrEuCN3936V9MVJxd9l1X4jYYQ+o1HrN0jamNQkdSupCQWorC9/nyfpDGAJ4BrmfT9L754saUFSbak4mO7MMtepkHRf8Sa+pKVsv9DesVYTTVKh5UlaGNiT3I+/1iZtu7S22zZ+TJo+egBpxHefV/EaGQNJieKjhX0GqhjP8lvSfYwz8vZn877/KTHGq5LWsP0QQCFZrEX6u6mUpI1I63sYuMN2aVP9Rw0jtDxJfyetlXwPaUZQAKqaFVTSRKf1kkOLkTSlbY+o9vb1MMbHSYM5f8y8S/l+FzjC9t/KitVO7B8An2Zust0duKysLuaRMELLa8LaFycCN9u+vlEx+7Lcq+g0YAvyt2LSB+u/K4g1iTRz7CN5+8PAn8quPUkaRlomtTbCejrw83YmrSyVpPuBDZ2XZZU0EJhke+0yrh9NUqEvuFPSeranNSjeocA3Jb0F1Nq+K+tWm1eCG0PqkvliFTHaxPsUcBKwDOmmadXdhseQ1p/+dN7eP+/bsYJYRwO3SHqU9LpWJo3aL1VODJ8r+7p1eJzUVFrr+bUwUNrysFHDCC1P0n3AaqTeUVX34284SauRPtRGk+auGgNcX1WXXkn/JK1ceH8V128n3jzrUXe0r4Q4/UnrppwBrEn6O3nAFa+216YMB9k+q8LrX0Waav8GUm1tR1KN7RkA24f35PpRwwh9wScaHTBP8lbraTPWFS6elAd6HSPp+6S1Ks4B5uQ5mE6t3VQt0dONShbZc5L2By7O2/sAz5cdJHej3dX2KcDU+T6hGuWOEnyvK/NPzdgyLx41jNCyJA22/Yqkpdo7XsEHaS3uiaRvcbXBWfsA99j+dhXxcszahIc7kWbmvZDUE+azZX0TL0w+uA2wHHAVFXdzzXFXIs3PtRnpW/GdpHsYpa8hLunHpNHPlwDvDnKrcBR7w0laCFgjbz5YapfhSBihVUm61vbOkh5j7iClGtv+cEVxpwLDawP3clPHvVU1gUm6B3iJtHLa5cUmFElX2C5lfQVJYzo53PKzx8K7gy7bcqMGDlY8xQqStiWN8H6c9P9hRdLKf7eVcv1IGCF0TU4Y2xb61y9FapaqKmF82A1cD1rSFrbHzW9fCXFOo5N1Nnra3t4bSfq97aqmWKl9udjX9oN5ew3SnFkjyrh+3MMIfUJuTqkNVrrd9lUVhvspcG/+tirSvYzvlB1EhZXh2psgr8KR5acBbbuZtrevpybm31sA65CaiSD1lrqn5FgASFoW+Amwgu1PSFoH2Mz2H6qI11aVySJbsJYscryH8uj2UkQNI7S8PLXEasy9aToaeMT2oRXGXJ50H0PAXWXORVSIcWxnx20fX3K8zUjzcR0JnFI4NBjYo8zBbW3i3gJ8tNbWnj/grre9XQWx/kbqZXaM7Q0kLUBqTlyvglg32f7I/PaVHPMc0pemP+Zd+wEL2C6l63DUMEJfsA0wrNbNVNJ5pJlPq9QPeI70f2iNPBVEKe3ENWUnhDosRFrCdAFgscL+V4C9Koy7Qo5X66QwKO+rwtK2L5X0HQDb70iaPb8ndYWkAaSZaZfOEx3WqoeDqe511XyFNE7o8Bz3NuA3ZV08EkboCx4EVgJqvWpWpMJuk3kFs9G0WVKU9J+zzDjftP2zjtr6y27jt30rcKukc6voodSJE5nbxAfpC8BxFcWaKekDzJ0Kf1PStDJl+jKplrYCqWmtljBeocQP7w4cnJsq322ulHQEcGoZF48mqdDylFbc2xiYkHdtDIwHXgewvWvJ8R4E1q96wJekXWxfI+nz7R23Xep6B5KuofOb0KW+j21iLwdskjcraeLLcTYi3Y8ZRpquYwiwl+3Sv2BI+qrt08q+7nxivmeSyOL06j0VNYzQF/ygwfEeJc14WmnCsH1N/l36Qjgd+EWD4sxD6Y7+DsCHbZ8gaSVJo2xPmN9zu8r2JEnbMHekd6njFNr4r6TFbL+qtNb7RsCPquhWK2kfYF9gFUlXFw4NpsRBkFHDCH1C/oY6ivQN+e6qvqHmWJcDGwA3Me/Atkq6gUoaCRxDmvfo3S95fWjqk9+Smva2t712bve/3vbGFcXbnDwVfm2f7fMriDPV9vqStiT1rPsF8F3bm8znqd2JtTKwSo5THED6KjDVdilLFkcNI7Q8Sf9DqmXcTPrWeJqkE2yfU1HIq/NPo1wIfIPGLGGKpNVJHzzrkCayA6CqgZDAJrY3knRvjvNiHq1cOkl/BFYFJjN3KnwDpSeMwvU/CfzW9p8lHVdBHPI9pyck7QDMsj0nj8FYixI7gETCCH3BN0hTOj8PkG9q3kmac6l0ts+rcvqFdjxru5EJagxwLKlr7XakKUmqnAPp7TxavnYjegjVJcaRwDpVTdzYxn8k/Y7U3HaS0kJf/SqOeRuwVa6l3UQa6zKaktYRr7rwITTCv0lV75pXgX9VFSxPv/AwqcfLGcBDkrbu7Dk9dKyksyXtI+lTtZ8K4w20fROpyfoJ28cBVU6d8WvShHnL5rme7iANrqvCdNI8WY2wN2ner4/bfglYivTlpkqy/TrwKeA023uQaoqliBpG6Av+A9wl6c+kb6m7ARNqI6UrGBF9Mmmg2TzTL5BWVavCgaSmhQWZtxtvJZMBAm9I6gc8LOkw0vu7TEWxsH1hntLiI6SazO4Vzpa7NHCfpAnMe/+pih5gS5NHs+cJFgEeqCBOkfIAzP2AL+Z9pX3OR8IIfcEjzLtIzJ/z78XaObcMlU6/0I4NqhiJ3IkjSQPPDgd+SGqWardrb4mWBl63PUbSEEmr2H6sgjjHVXDNjvyFuZNiDiDdlH6QuavwVeEI0jQ1V9qeobSiYHsTLnZL9JIKoYuqnn6hnXi/B06xfV8V1+8k7qK2Z87/zB7HOZZ0b2FN22tIWoG0DvUWFcVbGVjd9o2SFgH62351fs8rIe5GwJdtf7nCGMNc4TKwkTBCy8s3SWvrJxd79VTS7p5vXh5KmuywNv3CGVUN5FNap3lVGrSiYG7S+AMwyPZKkjYgfdAdUlG8ycCGpLWnN8z7plbx+iR9CTgIWMr2qrlH2JlVzu/UJv57BtaVfP07SFO8nEta0velMq8fTVKhL7iQNNPpzsDBpOaTZyuMtwBppbtfwrvrYSxcYbyPV3jt9vwK+Bi567DtKRXf1H/LtiXVekktWmGsQ0njde4CsP2wpEruzxRnGyZ1MNqIav8usb1lvqd2IDAx36s51/b1ZVw/ekmFvuADeXrqt23f6rTQz6YVxrsJGFjYHgjcWFWw3FPpCWAWqSms9lMZ2217mZU6QV8bl+bup0vkGsCNwO8rivWm7bdqG3m22qrey8UKPwuT7mnsVlGsd9l+CPge8C3SvFynSnqgjJ51UcMIfUFtDMRTkj4JPAl8qMJ4A2y/Vtuw/VpuC6+E0vrhJ5Mms3uGNOL7fqq7efqvPBraebzJ4Tle6fK0IJeQeoG9Qpqy4we2b6giHmlyxe8CAyXtCBwCXFN2kFzrHGS76m60bePWlvL9JHADsEueDmUF0vxqPepZFwkj9AU/krQ48HXSxHKDgaMqjDdThaU2JY0gffuvyg9JNaYbbW8oaTvSOuJVOZg0u+kHSWNcric15ZQuN0Vd5bQiXFVJoujbpO6m00j3Mv5i++wyA0haIE+bXtm9ik6cTqqdfdf2u3+Ttp/M81n1SNz0DqGLJG0M/C+pJgOwPPAZ2xM7flaP4k20PVLSFNKI9jmSJtgeVUW8RpP0G1I7+90VxtgN+JDt3+TtCaSZag180/afSow1KU91cjKwOnAZ8G5vM9tVjZ+pxR+S45R+vyRqGKFlqUlrQtu+W9JazJ3x9IGKpwZ5SdIgUm+sCyU9A5QymVxRs95P0jiPgyU9TvpgraIX2DeBzxS2FyINtBxEmgqltIRRsBRpptjtmTseo5IBl7lp71hSTbAf0E/SO6TR3ieUFScSRmhlxW/0x5P+w1RGeUGjvLm77csKx35i+7slx1vJ9v+RbpTOIjWz7QcsDpT2IVDQ6Pez9vo+UWWcbKE2N/LvsP0C8EIFvbKWyT2kpjM3UdRU1aRzJGlt9FG1AY950N5vJR1l+5TOnlyvaJIKfYJKXCSmkxjv9qFv25++iv71beJdbnvPMq8/n9iNfj8rfX2S/ml7tQ6OPWJ71RJjPQX8lvYnbHSZ3/gLMe8FdrT9XJv9Q0hTxccCSiEUNOKbjzp43N522fGqmlq8I41+P6t+fXdJ+pLtebrrSvoyc1dqLMtTVSSF+ViwbbKAdB+jzGlrImGEUD938Li97arj9QWNfH1HAVdJ2heorXg3gjQ+YveSY1U5FXxH3urmsS6JJqnQsiS9ytwPmkXIa3gz96bp4JLjzWbuTdmBbeINsF3qBITziVfF6+tN72fp8XLM7Zk7fmWG7ZsriLFUvj/SMIX38j2HKPFvMxJGCCGEusTUICGEEOoSCSOEEEJdImGEPkXSQREv4kW8amJFwgh9TUM/ACJexOvF8SJhhBBCaI7oJRV6paWX6u+hK3a9J+Czz89myAf6d/l5z8xeqMvPAXjthbcZtFTXy/nmnO4NgZr14psMXLLrazX115xuxXv9xbdYZMmuvzcvvNG92TZmvzKT/oO7/twFXuje0Id33pzJAgt3Pd7bg7oXb/bMmfRftBvvTb+uf07Pfm0m/Qd1PdY7z7/I7NdmtvsCY+Be6JWGrrggE65bsWHxTntx5YbFAnjkjSENjbfkAq/P/6QSXfzgiIbGW+bCgfM/qURPbtXYxpnZi3Qv4XfHf396aofHokkqhBBCXSJhhBBCqEskjBBCCHWJhBFCCKEukTBCCCHUJRJGCCGEukTCCCGEUJdIGCGEEOoSCaMbJL3WZvsASadXEOevkpYo+7rzibmzpHslTZF0X17CMoQQYqR3b2Z7p0bGy2v/ngWMsv1vSQsDQ3t4TZGmoGncUNUQQiWihlEySbtIuit/S79R0rJ5/3GS/ijpZkkPS/pS3r+tpNskXZm/0Z8pqV8+9rikpSUNlXS/pN9LmiHpekkD8zmrSvq7pHsk3S5prbz/05Km55rCbXnfupImSJosaaqk1dsUfzHSl4jnAWy/afvB/Nxlcxmn5J/N8/6v5TjTJR2Z99XKewZp/eQVJX1D0t057vFV/huEEKoRCaN7BuYP3cmSJgMnFI7dAWxqe0Pgf4FvFo6tD3wS2Az4gaQV8v5RwNeB9YBVgU+1E3N14De21wVeAvbM+88Cvmp7BHA0cEbe/wPgY7Y3AHbN+w4GTrU9HBgJ/LsYIK9DfDXwhKSLJe1XS17Ar4Fb8/U2AmZIGgEcCGwCbAp8SdKG+fw1gfPz+7BmLv8oYDgwQtLW7bzGEEIvFk1S3TMrf+gC6R4G6QMY4EPAJZKWBxYCHis878+2ZwGzJN1C+gB9CZhg+9F8rYuBLYE/tYn5mO3J+fE9wFBJg4DNgctSyw8AtalMxwHnSroUuCLvGw8cI+lDwBW2H277wmz/j6T1gB1ICWhH4ABge+Bz+ZzZwMuStgSutD0zl/0KYCty0rH9j3zZj+afe/P2IFICua0YOy/4chDASh+MP80QepuoYZTvNOB02+sBXwYGFI61naPY89lf9Gbh8WxSsu8HvGR7eOFnbQDbBwPfA1YEJkv6gO2LSLWNWcB1krZv7wXYnmb7FFKy2LO9c7LO5nie2ea8nxbKuJrtP7QT9yzbI22P7M4U5SGEakXCKN/iwH/y48+3ObabpAGSPgBsC9yd94+StEpu/hlNataaL9uvAI9J+jSkG8ySNsiPV7V9l+0fAM+R7iN8GHjU9q9JtYD1i9eTNEjStoVdw4En8uObgK/k8/pLGkyqIewuaRFJiwJ7ALe3U9TrgC/kGhGSPihpmXpeYwih94iEUb7jSE1Et5M+qIsmAH8B/gH80PaTef944ERgOqkJ68ouxNsP+KKkKcAMYLe8/+eSpkmaTvpgn0JKRtPzfZe1gPPh3e67K5BqAt+U9GA+53hScxTAEcB2kqaRmsTWtT0JODe/rruAs23Xmp3eZft64CJgfH7+n0g32EMILSRW3GsQSccBr9n+RZv92wJH2965CcXqtUZuMMCxgFJ5YgGlcvX1BZTefOLf7TY3Rw0jhBBCXaIrSoPYPq6D/WOBsY0sSwghdEfUMEIIIdQlEkYIIYS6RMIIIYRQl0gYIYQQ6hIJI4QQQl0iYYQQQqhLdKsNvdIzsxdq6GC6ry75xPxPKtHuD6/V0HgbL/fY/E8qkWY0diD/YpP/1dB4Cw1r3KBSgKFjXmxYrJeemd3hsahhhBBCqEskjBBCCHWJhBFCCKEukTBCCCHUJRJGCCGEukTCCCGEUJdIGCGEEOoSCSOEEEJdImGEEEKoSySMEEIIdWl6wpA0W9Lkws+3m12m7pI0StJYSQ9LmiTpL5LWy8eOk/Sf/BoflnSFpHUKzx0r6UFJUySNk7RmheVcQ9JfJf1T0v2SLpW0bDev9VdJS+SfQ8ouawih9+gNc0nNsj282YXoqfyBeymwr+07874tgVWBafm0U2z/Ih8bDdwsaT3bz+bj+9meKOkg4OfAriWVbQHb7+THA4C/AF+zfU3etx0wBHi6q9e2vVO+xlDgEOCMMsocQuh9ml7D6IikjSXdmb9xT5C0mKQBksZImibp3vxBh6QD8jf2v+dv7z8rXGeffP50SScV9r8m6SRJ90i6sVA7eFTSrvmc2yUNLzxnnKT1OyjyYcB5tWQBYPsO21e1d7LtS4DrgX3bOXwbsFoh7lBJD0g6T9JUSX+StEg+NkLSrfl1XCdp+bx/rKSfSLoVOKJw7X2B8bVkkctyi+3pOc7tuXY0SdLm+VrbSrpN0pWS7pN0pqR++djjkpYGTgRWzTWon0saJOmmfJ1pknbr4H0LIbSI3pAwBrZpkhotaSHgEuAI2xsAOwCzgEMBbK8H7AOcl78xAwwHRgPrAaMlrShpBeAkYPt8fGNJu+fzFwXG2h4BvAr8CNgR2AM4IZ9zNnAApGYcYGHbUzt4HesCk7r42icB7U1bugtzayU1awJn2V4feAU4RNKCwGnAXvl1nAP8uPCcJWxvY/vkwr5hwD0dlOcZYEfbG5Hey18Xjo0Cvk56f1cFPtXmud8GHrE93PY3gDeAPfK1tgNOlqQO4oYQWkCvbJLK7f5P2b4bwPYref+WpA9IbD8g6Qlgjfy0m2y/nM+7D1gZ+AApKTyb918IbA1cBbwF/D0/dxrwpu23JU0Dhub9lwHfl/QN4AvAufW+KEl3AYOB620f0dFpbbYvlDQLeBz4aptj/7I9Lj++ADg8l38YcEP+LO4PPFV4ziX1ljdbEDg916pmM/e9BZhg+1EASRcDWwJ/6uRaAn4iaWtgDvBBYFngvx0+ITXFHQSw5PIDOjothNAkvSFhtEeAO9jfkTcLj2eTXltn579tuxZjTu35tudIWiA/fl3SDcBuwN7AyE6uNwPYCPhzfu4mkvYCdu7kORsCEwvb+9me2MG5bd8Pk17fDNubdfCcmR2Uc5sOzj+KdB9jA1Lt8435xO/MfqT7IiNyIn4c6DQL2D4LOAtgpWGD53f9EEKD9YYmqfY8AKwgaWOAfP9iAVLb/n553xrASsCDnVznLmAbSUtL6k9qxrq1i2U5m9Q0c7ftFzo57zfAAbV2/2yRjk6WtCfwUeDiOsuxkqRaYtgHuIP02ofU9ktaUNK687nORcDmkj5ZKMvHc61ucVLNbg7wWVKNpWaUpFXyvYvROX7Rq0Bx1ZzFgWdystiOVOMLIbSw3pAw2t7DONH2W6QPpdMkTQFuIH07PQPon5uNLgEOsP1mRxe2/RTwHeAWYAowyfafu1I42/eQ7hmMAZB0QuGm+K6STsjn/TeX+adK3VXvBPYCTi9c7qj8Gh8G9ge2L/SQmoekFST9tbDrfuDzkqYCSwG/ze/TXsBJ+X2aDGzezrVGSjo7l3MWqdbz1dxB4D7SfZpnSO/v5yX9g9QcVayhjCfd2J4OPAZc2eZ9eh4YlzsX/By4EBgpaSIpyT9QKM9f8/2lEEIL0dxWmdCe/ME2Flgrf/NuRhmGAtfaHtak+NsCR9vurHmtVCsNG+yvXzaqUeGasETrxxoa79PLddTSWY0fXTS6ofE+fG5jl2h9bP8GL9F61fMNizX+n3/g5VlPtduc3xtqGL2WpM+RmrWOaVayCCGE3qK33vTuFWyfD5zfC8rxOKk3VLPijyXVskII72NRwwghhFCXSBghhBDqEgkjhBBCXSJhhBBCqEskjBBCCHWJhBFCCKEu0a029EpvzlmAR94Y0rB4uz/c3qTB1blq9esaGm/EPXs3NN7bgxo7IHj20oMbGm/Qfxr8+hZbuGGx3L/jekTUMEIIIdQlEkYIIYS6RMIIIYRQl0gYIYQQ6hIJI4QQQl0iYYQQQqhLJIwQQgh1iYQRQgihLpEwQggh1CUSRgghhLpEwnifkzRb0uTCz9AeXm9XSd/Oj4+TdHQpBQ0hNF3MJRVm2R5e1sVsXw1cXdb1Qgi9R9QwwjwkDZJ0k6RJkqZJ2i3vHyrpAUlnS5ou6UJJO0gaJ+lhSaPyeQdIOr3NNVeVNKmwvbqkexr7ykIIPRUJIwwsNEddCbwB7GF7I2A74GRJyueuBpwKrA+sBewLbAkcDXy3owC2HwFeljQ87zoQOLeC1xJCqFA0SYV5mqQkLQj8RNLWwBzgg8Cy+fBjtqfl82YAN9m2pGnA0PnEORs4UNLXgNHAqLYnSDoIOAhgseUW6clrCiFUIGoYoa39gCHAiJxIngYG5GNvFs6bU9iew/y/fFwOfALYGbjH9vNtT7B9lu2RtkcOXLJx8/+HEOoTCSO0tTjwjO23JW0HrFzGRW2/AVwH/BYYU8Y1QwiNFQkjtHUhMFLSRFJt44GSr23g+hKvGUJokLiH8T5ne1Cb7eeAzTo4fVjhvAMKjx+vHbN9LvmGtu3j2jx/S+Ac27N7VOgQQlNEwggNkXtgrQps3+yyhBC6JxJGaAjbezS7DCGEnol7GCGEEOoSCSOEEEJdImGEEEKoSySMEEIIdYmEEUIIoS6RMEIIIdQlutWGXqm/5rDkAq83LN7Gyz3WsFgAI+7Zu6Hx7hlxaUPjrTv+kIbGc//Gfvd9e1HN/6QS6Z05jQtmd3goahghhBDqEgkjhBBCXSJhhBBCqEskjBBCCHWJhBFCCKEukTBCCCHUJRJGCCGEukTCCCGEUJdIGCGEEOoSCSOEEEJden3CkPRam+0DJJ3ezWttK+nawuPNC8fOlbRXF6/3nudIWkHSnwrbF0uaKumoLpTxZUmTCz87dKVc3SFpuKSdqo4TQmhd7+e5pLYFXgPuLPOitp8E9gKQtBywue2Vu3iZ223vXGa56jAcGAn8tcFxQwgtotfXMDojaYikyyXdnX+2yPtHSbpT0r3595ptnjcUOBg4Kn+D3yof2jqf/2hXaxvFa0uanjevB5apxZC0qqS/S7pH0u2S1urCdTfONZUBkhaVNEPSsFwjuU3SlZLuk3SmpH75OR+VNF7SJEmXSRpUuNadkqZImiBpceAEYHQu6+iO3sNcw7siv46HJf2sUMaP51hTJN0kqV8+Z0g+3k/SPyUt3Z33NoTQXK1QwxgoaXJheyng6vz4VOAU23dIWgm4DlgbeADY2vY7uTnnJ8CetQvYflzSmcBrtn8BIOmLwPLAlsBaOca7TUvdtCtwre3hOcZNwMG2H5a0CXAGsH07z9uqzWve0/bdkq4GfgQMBC6wPV3StsAoYB3gCeDvwKckjQW+B+xge6akbwFfk3QicAkwOl9zMPA68ANgpO3DclkH0/F7OBzYEHgTeFDSacAbwO/zcx6TtJTtOZIuAPYDfgXsAEyx/Vw3388QQhO1QsKYVfvAhfQNl9R0AukDaB3p3amGB0taDFgcOE/S6oCBBeuMdZXtOcB9kpYtoezvyt/uNwcuK5R34Q5O76hJ6gTgbtKH8+GF/RNsP5rjXExKem+Qksi4HG8hYDywJvCU7bsBbL+Sn9c2Vmfv4U22X87Puw9YGVgSuM32Y/m6L+RzzwH+TEoYXwDGdPCakXQQcBDA4ssP7Oi0EEKTtELC6Ew/YDPbs4o78zfeW2zvkZufxtZ5vTeLlymlhHP1A14qJr9uWAoYRPrwHgDMzPvbTmBvUvlvsL1P8YCk9ds5vz0/pOP3sPg+zSb9Ham969r+l6SnJW0PbEKqbbTL9lnAWQArrLtEPWUMITRQS9/DIN0jOKy2IWl4frg48J/8+IAOnvsqsFhVBWsrf5N/TNKnAZRs0MXLnAV8H7gQOKmwf5SkVfK9i9HAHcA/gC0krZbjLSJpDVJz3QqSNs77F5O0AO99P+p5D4vGA9tIWiVfd6nCsbOBC4BLbc/uwusNIfQirZ4wDgdG5pvB95FuZAP8DPippHFA/w6eew2wR5ub3u0q3k+QdLakkYXDv5P07/wzfj7l3Q/4oqQpwAxgt3zNXSWdUDhvK83brXYvSZ8D3rF9EXAisHH+1g7pw/pEYDrwGHCl7WdJH/QXS5pKSiBr2X6LlFROy+W4gVRbuYXUvDdZ0mjqew/fleMdBFyRr3tJ4fDVpJrRmA7ewxBCC5A7WY4v9H75pvfRTeiGW7ecHE6x3WliLlph3SX8pf/dpsJSzWu1AU83LBbALx/6SEPjNXyJ1tMbu0Trh258taHxntm4YY0TACx71ysNi/WPGb/jlZlPttsk3+r3MEIvJ+nbwFfo5N5FCKE1tHqT1Pue7bG9uXZh+0TbK9u+o9llCSH0TCSMEEIIdYmEEUIIoS6RMEIIIdQlEkYIIYS6RMIIIYRQl0gYIYQQ6hLjMEKv9MIbi3LxgyMaFk8zGjsQ6+1BjR0wu+74xg6km3HYGQ2Nt95bjX19r635dkPjDZncwI/qfh1Poxc1jBBCCHWJhBFCCKEukTBCCCHUJRJGCCGEukTCCCGEUJdIGCGEEOoSCSOEEEJdImGEEEKoSySMEEIIdYmEEUIIoS6RMPogSbMlTS78DC35+gdIOr3Ma4YQer+YS6pvmmV7eHsHJAmQ7TmNLVIIodVFDeN9QNJQSfdLOgOYBKwo6RuS7pY0VdLxhXP3lzQh10x+J6l/3n+gpIck3QpsUTh/ZUk35evcJGmlvP9cSb+VdIukRyVtI+mcXI5zG/sOhBDKEAmjbxpYaI66Mu9bEzjf9ob58erAKGA4MELS1pLWBkYDW+QaymxgP0nLA8eTEsWOwDqFWKfn664PXAj8unBsSWB74CjgGuAUYF1gPUnDS3/VIYRKRZNU3zRPk1S+h/GE7X/kXR/NP/fm7UGkBLI+MAK4O7VcMRB4BtgEGGv72Xy9S4A18nM3Az6VH/8R+FmhHNfYtqRpwNO2p+XnzwCGApOLhZZ0EHAQwAJLL97d1x5CqEgkjPePmYXHAn5q+3fFEyR9FTjP9nfa7N8dqHcBh+J5b+bfcwqPa9vv+duzfRZwFsCAVT/Y2AUjQgjzFU1S70/XAV+QNAhA0gclLQPcBOyVHyNpKUkrA3cB20r6gKQFgU8XrnUn8Jn8eD/gjka9iBBCY0UN433I9vX5fsX43PT0GrC/7fskfQ+4XlI/4G3gUNv/kHQcMB54inTjvH++3OHAOZK+ATwLHNjYVxNCaJRIGH2Q7UFtth8HhrXZdypwajvPvQS4pJ39Y4Ax7ex/nHRju+3+AzqKXzwWQmgd0SQVQgihLpEwQggh1CUSRgghhLpEwgghhFCXSBghhBDqEgkjhBBCXSJhhBBCqEskjBBCCHWJgXuhV1rgBbHMhQMbFm+xyf9qWCyA2UsPbmg892/sd8P13jqkofGmfe2Mhsbb4KTGvj6Nu7txwTyrw0NRwwghhFCXSBghhBDqEgkjhBBCXSJhhBBCqEskjBBCCHWJhBFCCKEukTBCCCHUJRJGCCGEukTCCCGEUJdIGCGEEOoSCaOFSFpW0kWSHpV0j6TxkvZodrlqJB0s6XP58QGSVmh2mUII5Ym5pFqEJAFXAefZ3jfvWxnYtcKYC9h+p97zbZ9Z2DwAmA48WXa5QgjNETWM1rE98FbxQ9n2E7ZPk9Rf0s8l3S1pqqQvA0jaVtJYSX+S9ICkC3PiQdIISbfmmsp1kpbP+8dK+omkW4EjJH1E0r2Spkk6R9LC+bwTJd2X4/0i7ztO0tGS9gJGAhdKmizpk5KurJVb0o6SrmjUGxdCKEfUMFrHusCkDo59EXjZ9sb5A32cpOvzsQ3zc58ExgFbSLoLOA3YzfazkkYDPwa+kJ+zhO1tJA0AHgY+YvshSecDX8m/9wDWsm1JSxQLY/tPkg4DjrY9MSepkyUNsf0scCAwpow3JYTQOJEwWpSk3wBbAm8BTwDr52/2AIsDq+djE2z/Oz9nMjAUeAkYBtyQKxz9gacKl78k/14TeMz2Q3n7POBQ4HTgDeBsSX8Bru2srDmp/BHYX9IYYDPgc+28poOAgwAWHrjE/N+EEEJDRcJoHTOAPWsbtg+VtDQwEfg/4Ku2rys+QdK2wJuFXbNJ/+YCZtjerINYM2uXaO+g7XckjQI+AnwGOIzUZNaZMcA1pERzWXv3RmyfBZwFMGjJD3k+1wshNFjcw2gdNwMDJH2lsG+R/Ps6UlPRggCS1pC0aCfXehAYImmzfP6CktZt57wHgKGSVsvbnwVulTQIWNz2X4EjgeHtPPdVYLHahu0nSc1i3wPO7aRsIYReKmoYLSI36+wOnCLpm8CzpJrAt4DLSE1Nk/L9gmeB3Tu51lu5+erXkhYn/R38ilSLKZ73hqQDgcskLQDcDZwJLAX8Od/jEHBUO2HOBc6UNAvYzPYs4EJgiO37uvMehBCaKxJGC7H9FKkJqD3fzT9FY/NP7fmHFR5PBrZuJ8a2bbZvIt04L3oKGNXOc48rPL4cuLzNKVsCv++g/CGEXi4SRmgISfeQakRfb3ZZQgjdEwkjNITtEc0uQwihZ+KmdwghhLpEwgghhFCXSBghhBDqEgkjhBBCXSJhhBBCqEskjBBCCHWJbrWhV3p7kHhyq8Z9n1lo2IoNiwUw6D+NnSrr7UXbnRasMq+t+XZD421w0iENjTflW2c0NN4nr9i5YbH03wU7PBY1jBBCCHWJhBFCCKEukTBCCCHUJRJGCCGEukTCCCGEUJdIGCGEEOoSCSOEEEJdImGEEEKoSySMEEIIdYmEEUIIoS6dJgxJH5A0Of/8V9J/CtsLdSegpCMlLVLnuR+XNEHSAznmJZJW6k7c3krSUEn7dnJ8OUn/K+kRSfdJ+qukNRpcxm0lbV7YPljS5xpZhhBC83U6l5Tt54HhAJKOA16z/YvacUkL2H6nizGPBC4AXu/sJEnDgNOAXW3fn/ftCgwF/q+LMevSzdfTU0OBfYGL2imPgCuB82x/Ju8bDiwLPDS/C0vqb3t2R9tdsC3wGnAngO0zu3GNEEKL6/Lkg5LOBV4ANgQmSXqVQiKRNB3YGXgWuBT4ENAf+CHpg24F4BZJz9nerpNQ3wJ+UksWALavLpRjOHAmsAjwCPAFYDnSh+uofM5Q4Grb60saAfwSGAQ8Bxxg+ylJY0kfhFsAV0vaBbgL2A5YAvii7dslHQDsnl/LMOBkYCHgs8CbwE62X5C0KvAbYAgpKX7J9gP5fXsFGJnL+U3bfwJOBNaWNDmX/ZTCe7Ad8HbxA9r25PzaBPwM+ARg4Ee2L5G0LXAs8BQwXNIhbbZ3Aq61PSxf52hgkO3j8nsxGRgFDM7v6TPAwcBsSfsDXwU+Qv43b+/fwfaL+VrveR8JIbSs7t7DWAPYwfbXOznn48CTtjfIH05/t/1r4Elgu/kkC4B1gUmdHD8f+Jbt9YFpwLE5uSwk6cP5nNHApZIWJNVW9rI9AjgH+HHhWkvY3sb2yXl7gZx0jiR92NYMI9UGRuXnv257Q2A8UGuiOQv4ao5zNFCc1nJ5YEtSQj0x7/s2cLvt4W2SRS3ePR28/k+Ran8bADsAP5e0fD42CjjG9jodbHdmUdubA4cA59h+nJQQTsllbPuh/55/h8Kxjt7Hdkk6SNJESRNnz5xZR1FDCI3U3YRxWR1NG9OAHSSdJGkr2y93M1bxXspDko6WtDjpQ/7WfMp5wNb58aXA3vnxaOASYE3Sh+8N+Zv890g1n5pL2oS8Iv++h9RkVHOL7VdtPwu8DFxTeK1DJQ0CNgcuy3F+R0oSNVfZnmP7PlJtqye2BC62Pdv208CtwMb52ATbjxXObbvdmYsBbN8GDJa0REcnzuffATp+H9tl+yzbI22P7L/oonUWN4TQKN1dD6P49e8d5k08AwBsP5SbgXYCfirpetsndCHGDGAjYErtXkqt+WQ+z7uE9IF9RSqGH5a0HjDD9mZ1vB5ITUwAs5n3PXqz8HhOYXtOPq8f8JLt4R3EKT6/ngUKZgB7dXCss+e3fT3z/fcqaLtQQ08WbujofQwhtKAyutU+TvpgR9JGwCr58QqkJpsLgF/UzgFeBRar47o/A46RtHZh3yIAubbyoqSt8v7Pkr5hY/sR0gfU95lbc3gQGCJps1y2BSWt2+VXOh+2XwEek/TpHEeSNpjP0zp7P24GFpb0pdoOSRtL2ga4DRgtqb+kIaRv9hPqKObTwDK51rYwqXmsaHSOsyXwcn6v2y1jZ/8OIYS+p4yEcTmwVG6C+Qpze++sB0zI+48BfpT3nwX8TdItAJLOljQyPz5Y0sEAtqcBRwDn526144C1mdub6POkdvuppLb8Yu3lEmB/UvMUtt8ifVM/SdIU0o3dzanGfsAXc5wZwG7zOX8q8I6kKZKOkrSCpL/mchvYA9gxd6udARxHug90ZX7uFFJi+abt/86vcLbfJr1XdwHXAg+0OeVFSXeS7lt8Me+7BtgjNwtu1eb8zv4d3qP4+kIIrUXpMykEyD2bjrY9sdllWXjFFf3Bo45sWLyFXmzsGNa+vkTrS8Mbu0Tr4OkdLytahYYv0bpJ45ZovfO/F/Hym0+3+wcTI71DCCHUJW5EhnfZ3rbZZQgh9F5RwwghhFCXSBghhBDqEgkjhBBCXSJhhBBCqEskjBBCCHWJhBFCCKEu0a029E79zOxF5jQs3NAxLzYsFsDsxRZuaDy907j3EmDI5MZ+tGjc3Q2N98krGjeQDuAvd13bsFijPtbxPLFRwwghhFCXSBghhBDqEgkjhBBCXSJhhBBCqEskjBBCCHWJhBFCCKEukTBCCCHUJRJGCCGEukTCCCGEUJdIGJ2QNDuvYz0jr7n9NUldfs8kDZW0bw/LcmcXzx8r6cFc7rslDS8zrqRzJe3VzWtuK6lxQ1dDCKWIhNG5WbaH214X2BHYCTi2G9cZCvQoYdjevBtP28/2BsAZwM8bGDeE0AdFwqiT7WeAg4DDlNxe/NYuaZyk9SVtk2slkyXdK2kx4ERgq7zvKEkDJI2RNC2fs12+xgGS/izp77l2cGzh+q/l34Mk3SRpUn7+bnUUfzzwwfz8RSWdk2sd99aeL2ldSRNyGadKWr1NXEk6XdJ9kv4CLFMo2+OSls6PR0oamx+PknRnjnOnpDW7+faHEHqBmHywC2w/mpuklgHOBg4AjpS0BrCw7amSrgEOtT1O0iDgDeDbwNG2dwaQ9PV8vfUkrQVcn68BMAoYBrwO3C3pL7YnForxBrCH7Vfyh/Q/JF1t250U/ePAVfnxMcDNtr8gaQlggqQbgYOBU21fKGkhoH+ba+wBrAmsBywL3AecM5+37AFga9vvSNoB+Amw53yeE0LopSJhdJ3y78uA70v6BvAF4Ny8fxzwS0kXAlfY/rekttfYEjgNwPYDkp4AagnjBtvPA0i6Ip9bTBgCfiJpa2AOqeawLPDfdsp6oaRFSR/+G+V9HwV2lXR03h4ArESqhRwj6UO53A+3udbWwMW2ZwNPSrq5ozeoYHHgvFxbMbBgZydLOohUi6P/UkvUcfkQQiNFk1QXSPowMBt4xvbrwA3AbsDewEUAtk8E/gcYSPr2v1Z7l+okTNuaQtvt/YAhwAjbw4GnSR/67dkPWCWX7TeF2HvmezPDba9k+37bFwG7ArOA6yRtX0fZat5h7t9SsSw/BG6xPQzYpZNypovbZ9keaXtk/0GLdnZqCKEJImHUSdIQ4Ezg9ELzz9nAr4G7bb+Qz1vV9jTbJ5FqBmsBrwKLFS53G+nDnNwUtRLwYD62o6SlJA0EdifVWIoWJyWst/O9j5U7K7ftt4HvAZtKWhu4DviqcrVH0ob594eBR23/GrgaWL/NpW4DPiOpv6Tlge0Kxx4HRuTHxSanxYH/5McHdFbOEELvFwmjcwNr3WqBG4HrgeNrB23fA7wCjCk850hJ0yVNIX1b/xswFXgnd3E9itRrqb+kacAlwAG238zPvwP4IzAZuLzN/QuAC4GRkiaSks4DtQOS/ipphbYvwvYs4GTgaNK3/gWBqZKm522A0cB0SZNJSe78Npe5EngYmAb8Fri1cOx44FRJt5NqYDU/A34qaRzvvScSQmgx6vxeaehM/nAeC6xlu8dLmkk6ABhp+7CeXqvVLbzyh7zcd45oWLy1f9PxKmNV6Osr7s1ZuNEr7k1uaLwFVvxQQ+M1dsW9fzFxyhvtNptHDaObJH0OuAs4poxkEUIIvV30kuom2+fz3mabnl7zXOb2tgohhF4lahghhBDqEgkjhBBCXSJhhBBCqEskjBBCCHWJhBFCCKEukTBCCCHUJRJGCCGEusRI79ArSXoWeKIbT10aeK7k4kS8iNeK8boba2XbQ9o7EAkj9CmSJtoeGfEi3vs9XhWxokkqhBBCXSJhhBBCqEskjNDXnBXxIl7EqyZW3MMIIYRQl6hhhBBCqEskjBBCCHWJhBFCCKEukTBCCCHUJRJGCCGEuvw/G30SXwqVB9sAAAAASUVORK5CYII=\n",
      "text/plain": [
       "<figure size="" 288x288="" with="" 1="" axes="">"
      ]
     },
     "metadata": {
      "needs_background": "light"
     },
     "output_type": "display_data"
    }
   ],
   "source": [
    "cor = Clean.corr() # calcul de la matrice de correlation \n",
    "\n",
    "\n",
    "import matplotlib.pyplot as plt\n",
    "%matplotlib inline\n",
    "\n",
    "plt.matshow(cor)\n",
    "plt.xticks(range(len(cor.columns)), cor.columns, rotation=90)\n",
    "plt.yticks(range(len(cor.columns)), cor.columns)"
   ]
  },
  {
   "cell_type": "markdown",
   "metadata": {
    "colab_type": "text",
    "id": "QcwQj49WfOew"
   },
   "source": [
    "**Question** Quelles sont les colonnes les plus corrélées ? Quelle(s) colonne(s)semble(nt) le(s) plus corrélée(s) au score de bonheur ? Quelle(s) est/sont celle(s) qui le sont le moins ?"
   ]
  },
  {
   "cell_type": "markdown",
   "metadata": {},
   "source": [
    "En dehors de la diagonale, les colonnes les plus correlées sont celles dont la couleur est plutôt chaude (jaune, vert clair). Par exemple, Economy et Happiness score le sont, ainsi que Economy et Health, mais encore Health et Happiness score. Dans une moindre mesure, Family et Happiness score, ou encore Family et Economy. "
   ]
  },
  {
   "cell_type": "markdown",
   "metadata": {},
   "source": [
    "## Associer des étiquettes à des intervalles de bonheur\n",
    "\n",
    "Si nous séparions le happiness score en quatre percentiles, nous pourrions attribuer une étiquette àchaque pays correspondant à ce happiness score ('très malheureux', 'malheureux', 'heureux' et 'très heureux' donc sur une échelle de 1 à 4 (ou de 0 à 3...).\n",
    "\n",
    "Calculer les 4 percentiles sur la base de toutes les données, créer un dictionnaire qui, à chaque percentile, associe son intitulé : appelons cela des classes de bonheur. Créer et calculer, enfin, un vecteur ``B1'' de taille le nombre de données (pays = lignes), qui indique pour chaque pays le numéro de sa classe en fonction de son appartenance au percentile associé, en fonction donc de son score de happiness."
   ]
  },
  {
   "cell_type": "code",
   "execution_count": 4,
   "metadata": {},
   "outputs": [
    {
     "name": "stdout",
     "output_type": "stream",
     "text": [
      "4.50550007820129 5.27899980545044 6.101500034332275\n",
      "[[3]\n",
      " [3]\n",
      " [3]\n",
      " [3]\n",
      " [3]\n",
      " [3]\n",
      " [3]\n",
      " [3]\n",
      " [3]\n",
      " [3]\n",
      " [3]\n",
      " [3]\n",
      " [3]\n",
      " [3]\n",
      " [3]\n",
      " [3]\n",
      " [3]\n",
      " [3]\n",
      " [3]\n",
      " [3]\n",
      " [3]\n",
      " [3]\n",
      " [3]\n",
      " [3]\n",
      " [3]\n",
      " [3]\n",
      " [3]\n",
      " [3]\n",
      " [3]\n",
      " [3]\n",
      " [3]\n",
      " [3]\n",
      " [3]\n",
      " [3]\n",
      " [3]\n",
      " [3]\n",
      " [3]\n",
      " [3]\n",
      " [3]\n",
      " [2]\n",
      " [2]\n",
      " [2]\n",
      " [2]\n",
      " [2]\n",
      " [2]\n",
      " [2]\n",
      " [2]\n",
      " [2]\n",
      " [2]\n",
      " [2]\n",
      " [2]\n",
      " [2]\n",
      " [2]\n",
      " [2]\n",
      " [2]\n",
      " [2]\n",
      " [2]\n",
      " [2]\n",
      " [2]\n",
      " [2]\n",
      " [2]\n",
      " [2]\n",
      " [2]\n",
      " [2]\n",
      " [2]\n",
      " [2]\n",
      " [2]\n",
      " [2]\n",
      " [2]\n",
      " [2]\n",
      " [2]\n",
      " [2]\n",
      " [2]\n",
      " [2]\n",
      " [2]\n",
      " [2]\n",
      " [2]\n",
      " [2]\n",
      " [1]\n",
      " [1]\n",
      " [1]\n",
      " [1]\n",
      " [1]\n",
      " [1]\n",
      " [1]\n",
      " [1]\n",
      " [1]\n",
      " [1]\n",
      " [1]\n",
      " [1]\n",
      " [1]\n",
      " [1]\n",
      " [1]\n",
      " [1]\n",
      " [1]\n",
      " [1]\n",
      " [1]\n",
      " [1]\n",
      " [1]\n",
      " [1]\n",
      " [1]\n",
      " [1]\n",
      " [1]\n",
      " [1]\n",
      " [1]\n",
      " [1]\n",
      " [1]\n",
      " [1]\n",
      " [1]\n",
      " [1]\n",
      " [1]\n",
      " [1]\n",
      " [1]\n",
      " [1]\n",
      " [1]\n",
      " [1]\n",
      " [0]\n",
      " [0]\n",
      " [0]\n",
      " [0]\n",
      " [0]\n",
      " [0]\n",
      " [0]\n",
      " [0]\n",
      " [0]\n",
      " [0]\n",
      " [0]\n",
      " [0]\n",
      " [0]\n",
      " [0]\n",
      " [0]\n",
      " [0]\n",
      " [0]\n",
      " [0]\n",
      " [0]\n",
      " [0]\n",
      " [0]\n",
      " [0]\n",
      " [0]\n",
      " [0]\n",
      " [0]\n",
      " [0]\n",
      " [0]\n",
      " [0]\n",
      " [0]\n",
      " [0]\n",
      " [0]\n",
      " [0]\n",
      " [0]\n",
      " [0]\n",
      " [0]\n",
      " [0]\n",
      " [0]\n",
      " [0]\n",
      " [0]]\n"
     ]
    }
   ],
   "source": [
    "import numpy as np\n",
    "\n",
    "p1 = Clean['Happiness.Score'].quantile(0.25)\n",
    "p2 = Clean['Happiness.Score'].quantile(0.50)\n",
    "p3 = Clean['Happiness.Score'].quantile(0.75)\n",
    "\n",
    "print(p1,p2,p3)\n",
    "\n",
    "intitule_bonheur = {\n",
    "      0 : 'Très malheureux',\n",
    "      1 : 'Malheureux',\n",
    "      2 : 'Heureux',\n",
    "      3 : 'Très heureux'\n",
    "      }\n",
    "\n",
    "B1 = np.ndarray((len(Clean),1), dtype=int)\n",
    "\n",
    "for iex in range(len(Clean)):\n",
    "    value = Clean['Happiness.Score'][iex] \n",
    "    if ( value &lt; p1 ):\n",
    "        B1[iex] = 0\n",
    "    elif ( value &lt; p2 ):\n",
    "        B1[iex] = 1\n",
    "    elif ( value &lt; p3 ):\n",
    "        B1[iex] = 2\n",
    "    else:\n",
    "        B1[iex] = 3\n",
    "        \n",
    "print(B1)"
   ]
  },
  {
   "cell_type": "markdown",
   "metadata": {},
   "source": [
    "Nous remarquons que, dans le dataframe, les pays sont ordonnés par ordre décroissant de bonheur. Il faudra donc faire attention lors de la création d'échantillon apprentissage/ test en assurant un shuffle."
   ]
  },
  {
   "cell_type": "markdown",
   "metadata": {},
   "source": [
    "Représenter, sous forme graphique de votre choix (réflechissez avant de coder !), l'attribution des classes aux pays."
   ]
  },
  {
   "cell_type": "code",
   "execution_count": 5,
   "metadata": {},
   "outputs": [
    {
     "data": {
      "image/png": "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\n",
      "text/plain": [
       "<figure size="" 576x576="" with="" 1="" axes="">"
      ]
     },
     "metadata": {
      "needs_background": "light"
     },
     "output_type": "display_data"
    }
   ],
   "source": [
    "# Calcul de la PCA pour visualiser chaque pays sous forme de points 2D colorés\n",
    "from sklearn.preprocessing import StandardScaler\n",
    "from sklearn.decomposition import PCA\n",
    "del Clean[\"Country\"]\n",
    "\n",
    "# Standardization prealable\n",
    "x = StandardScaler().fit_transform(Clean)\n",
    "# PCA\n",
    "mapca = PCA(n_components=2)\n",
    "xpca = mapca.fit_transform(x)\n",
    "# categorie de bonheur et points 2D \n",
    "visufeatures = np.concatenate([xpca, B1], axis = 1)\n",
    "\n",
    "# Affichage\n",
    "fig = plt.figure(figsize = (8,8))\n",
    "ax = fig.add_subplot(1,1,1) \n",
    "ax.set_xlabel('PC1')\n",
    "ax.set_ylabel('PC2')\n",
    "ax.set_title('Bonheur et pays')\n",
    "targets = intitule_bonheur.keys()\n",
    "names = intitule_bonheur.values()\n",
    "colors = ['r', 'g', 'b', 'y']\n",
    "for target, color in zip(targets,colors):\n",
    "    indices = np.where(B1 == target)[0]\n",
    "    ax.scatter(visufeatures[indices][:,0], \n",
    "               visufeatures[indices][:,1],\n",
    "               c = color)\n",
    "ax.legend(names)\n",
    "ax.grid()"
   ]
  },
  {
   "cell_type": "markdown",
   "metadata": {
    "colab_type": "text",
    "id": "gglUPZHtfOfZ"
   },
   "source": [
    "## Clustering\n",
    "\n",
    "Nous cherchons maintenant à voir si, étant données les colonnes (variables) disponibles, mais sans le score de bonheur (happiness score) dans l'apprentissage, nous pouvons approcher la classification faite et visualisée ci-avant sur la base du happiness score. Autrement dit, nous cherchons à vérifier dans quelle mesure ce score de bonheur est issu des autres variables observées. Pour cela, nous allons utiliser l'algorithme de classification non-supervisée, $k$-moyennes, qui ne considérera pas du tout le score de bonheur (puisque d'une certaine manière c'est ce que nous cherchons à retrouver).\n",
    "\n",
    "En scikit-learn, l'algorithme des kmeans est géré par la classe *sklearn.cluster.KMeans* dont la [documentation](https://scikit-learn.org/stable/modules/generated/sklearn.cluster.KMeans.html) peu s'avérer très utile.\n",
    "\n",
    "**Question.**\n",
    "1. Stocker dans une variable *X* les 7 attributs descriptifs (on enlève Happiness Score que nous allons essayer de retrouver à l'intérieur des clusters)\n",
    "2. Réaliser un clustering à l'aide de l'algorithme des k-means sur l'ensemble de ces données, avec un *k* raisonable.\n",
    "3. Représenter visuellement l'attribution de chaque classe à chaque pays.\n",
    "4. Au regard de l'objectif présenté, analyser et comparer **visuellement** le résultat précédent qui était basé uniquement sur les percentiles liés à l'indice de bonheur (*Happiness.Score*) qui n'a pas servi au clustering. "
   ]
  },
  {
   "cell_type": "code",
   "execution_count": 6,
   "metadata": {
    "colab": {},
    "colab_type": "code",
    "id": "6UT6nKlMfOfb"
   },
   "outputs": [
    {
     "name": "stdout",
     "output_type": "stream",
     "text": [
      "[0 0 0 0 0 0 0 0 0 0 2 2 0 0 0 0 0 0 0 2 0 2 0 2 2 1 0 0 2 0 0 0 0 0 1 2 0\n",
      " 0 0 0 0 0 2 2 2 0 0 0 0 2 1 0 2 0 0 2 0 2 0 0 0 1 0 0 0 1 0 0 0 0 1 0 0 0\n",
      " 0 1 0 0 0 2 1 0 0 2 0 1 0 0 1 0 3 1 2 1 2 3 1 1 3 1 1 0 3 1 1 2 3 1 1 3 1\n",
      " 3 3 1 3 3 1 1 3 1 1 3 3 3 1 3 3 3 1 3 3 1 3 3 3 3 3 3 3 3 3 1 3 3 3 3 3 3\n",
      " 3 3 1 1 1 3 3]\n",
      "[[1.30216748 1.36087818 0.70977111 0.44668758 0.2505683  0.14871792\n",
      "  1.95375033]\n",
      " [1.03028425 1.17919196 0.58307371 0.42786393 0.27221722 0.12575216\n",
      "  1.2007232 ]\n",
      " [0.90582598 1.18241543 0.540809   0.42955885 0.20668854 0.09804618\n",
      "  2.66549532]\n",
      " [0.45201849 0.91108697 0.26249626 0.3174509  0.23983232 0.09091954\n",
      "  1.81087018]]\n",
      "155\n"
     ]
    }
   ],
   "source": [
    "# Q1\n",
    "aveugle = Clean.copy()\n",
    "del aveugle['Happiness.Score']\n",
    "\n",
    "XK = aveugle # le dataset sur lequel on va travailler\n",
    "# 7 columns (variables)\n",
    "\n",
    "# Q2\n",
    "from sklearn.cluster import KMeans\n",
    "\n",
    "clusterer = KMeans(n_clusters = 4) # 4 pour comparaison avec le nombre de percentiles considérés auparavant\n",
    "clusterer.fit(XK) # apprentissage du clustering sur les données rendues aveugles\n",
    "print(clusterer.labels_)\n",
    "print(clusterer.cluster_centers_)\n",
    "print(len(clusterer.labels_))\n",
    "LB = np.ndarray((len(clusterer.labels_), 1))\n",
    "for i in range(len(clusterer.labels_)):\n",
    "    LB[i,0] = clusterer.labels_[i]"
   ]
  },
  {
   "cell_type": "code",
   "execution_count": 7,
   "metadata": {},
   "outputs": [
    {
     "name": "stdout",
     "output_type": "stream",
     "text": [
      "\n"
     ]
    },
    {
     "data": {
      "image/png": "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\n",
      "text/plain": [
       "<figure size="" 576x576="" with="" 1="" axes="">"
      ]
     },
     "metadata": {
      "needs_background": "light"
     },
     "output_type": "display_data"
    }
   ],
   "source": [
    "#Q3\n",
    "# Standardization prealable\n",
    "xk = StandardScaler().fit_transform(XK)\n",
    "# PCA\n",
    "makpca = PCA(n_components=2)\n",
    "xkpca = makpca.fit_transform(xk)\n",
    "# categorie de bonheur et points 2D \n",
    "print()\n",
    "xkfeatures = np.concatenate([xkpca, LB], axis = 1)\n",
    "\n",
    "# Affichage\n",
    "fig = plt.figure(figsize = (8,8))\n",
    "ax = fig.add_subplot(1,1,1) \n",
    "ax.set_xlabel('PC1')\n",
    "ax.set_ylabel('PC2')\n",
    "ax.set_title('Bonheur et pays')\n",
    "targets = [0, 1, 2, 3]\n",
    "colors = ['r', 'g', 'b', 'y']\n",
    "for target, color in zip(targets,colors):\n",
    "    indices = np.where(clusterer.labels_ == target)[0]\n",
    "    ax.scatter(xkfeatures[indices][:,0], \n",
    "               xkfeatures[indices][:,1],\n",
    "               c = color)\n",
    "ax.legend(targets)\n",
    "ax.grid()"
   ]
  },
  {
   "cell_type": "code",
   "execution_count": 8,
   "metadata": {},
   "outputs": [
    {
     "data": {
      "text/plain": [
       "<figure size="" 720x1440="" with="" 0="" axes="">"
      ]
     },
     "metadata": {},
     "output_type": "display_data"
    },
    {
     "data": {
      "image/png": "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\n",
      "text/plain": [
       "<figure size="" 432x288="" with="" 2="" axes="">"
      ]
     },
     "metadata": {
      "needs_background": "light"
     },
     "output_type": "display_data"
    }
   ],
   "source": [
    "# Q4\n",
    "fig = plt.figure(figsize = (10,20))\n",
    "f, (ax1, ax2) = plt.subplots(1, 2)\n",
    "ax1.set_xlabel('PC1')\n",
    "ax1.set_ylabel('PC2')\n",
    "ax1.set_title('Bonheur et pays sans HS')\n",
    "targets = [0, 1, 2, 3]\n",
    "colors = ['r', 'g', 'b', 'y']\n",
    "for target, color in zip(targets,colors):\n",
    "    indices = np.where(clusterer.labels_ == target)[0]\n",
    "    ax1.scatter(xkfeatures[indices][:,0], \n",
    "               xkfeatures[indices][:,1],\n",
    "               c = color)\n",
    "ax1.legend(targets)\n",
    "ax1.grid()\n",
    "\n",
    "xkfeaturesHS = np.concatenate([xkpca, B1], axis = 1)\n",
    "ax2.set_xlabel('PC1')\n",
    "ax2.set_ylabel('PC2')\n",
    "ax2.set_title('Bonheur et pays selon HS')\n",
    "targets = [3, 1, 0, 2]\n",
    "colors = ['r', 'g', 'b', 'y']\n",
    "for target, color in zip(targets,colors):\n",
    "    indices = np.where(B1 == target)[0]\n",
    "    ax2.scatter(xkfeaturesHS[indices][:,0], \n",
    "               xkfeaturesHS[indices][:,1],\n",
    "               c = color)\n",
    "ax2.legend(targets)\n",
    "ax2.grid()"
   ]
  },
  {
   "cell_type": "markdown",
   "metadata": {},
   "source": [
    "On visualise ci-dessus à gauche les pays classés (coloriés) selon le bonheur suite au clustering sans prise en compte du Happiness Score, et à droite le coloriage des pays selon l'appartenance de leur Happiness Score à un des quatre quartiles. Nous avons essayé d'aligner les classes. Les axes sont basés sur la PCA réalisée sans prise en compte sur HS.\n",
    "\n",
    "A noter qu'à droite, la répartition des pays dans les catégories de bonheur est équitable puisque basée sur les quartiles, alors qu'elle est moins équitable suite au clusterig (à gauche). Notre clustering avec $k=4$ est visuellement de qualité moyenne au regard du score de Happiness."
   ]
  },
  {
   "cell_type": "markdown",
   "metadata": {
    "colab_type": "text",
    "id": "_gmRkFrTMo2s"
   },
   "source": [
    "## Evaluation de la qualité\n",
    "\n",
    "Pour évaluer **quantitativement** la qualité d'un clustering, l'analyse **visuelle** précédente ne suffit plus : nous devons quantifier la qualité du clustering en se basant sur des mesures adéqautes. \n",
    "\n",
    "Q1.  Nous savons (depuis le cours) que nous devons regarder les distances intra-classes et inter-classes. Mais avant de faire cela, nous ne pouvons  pas nous empêcher de regarder en détail ce que donne notre clustering à l'aide de la partie supervisée des données (avouez que ce serait dommage, non ? C'est déjà ce que nous avions abordé avec nos percentiles sur l'indice du bonheur, maintenant nous allons nous basé sur le rang de bonheur !).\n",
    "\n",
    "L'idée est donc la suivante : puisque l'on connaît le classement de chaque pays (colonne *Happiness.rank* initialement présente dans les données), on peut regarder pays par pays et regarder combien sont dans la bonne classe (ou dans la mauvaise). On va considérer qu'un pays est dans la bonne classe si le précédent dans le classement et le suivant sont **tous les deux** dans la même classe que lui ; il est dans la mauvaise classe sinon."
   ]
  },
  {
   "cell_type": "code",
   "execution_count": 9,
   "metadata": {
    "colab": {},
    "colab_type": "code",
    "id": "sFmpLYU7SiVi"
   },
   "outputs": [
    {
     "name": "stdout",
     "output_type": "stream",
     "text": [
      "[1 1 1 1 1 1 1 1 1 0 0 0 0 1 1 1 1 1 0 0 0 0 0 0 0 0 0 0 0 0 1 1 1 0 0 0 0\n",
      " 1 1 1 1 0 0 1 0 0 1 1 0 0 0 0 0 0 0 0 0 0 0 1 0 0 0 1 0 0 0 1 1 0 0 0 1 1\n",
      " 0 0 0 1 0 0 0 0 0 0 0 0 0 0 0 0 0 0 0 0 0 0 0 0 0 0 0 0 0 0 0 0 0 0 0 0 0\n",
      " 0 0 0 0 0 0 0 0 0 0 0 1 0 0 0 1 0 0 0 0 0 0 1 1 1 1 1 1 1 0 0 0 1 1 1 1 1\n",
      " 1 0 0 1 0 0 1]\n",
      "0.3096774193548387\n"
     ]
    }
   ],
   "source": [
    "# print(donnees)\n",
    "# les donnees sont triees par ordre croissant du rang de bonheur\n",
    "nbex = donnees.shape[0]\n",
    "correct = np.ones(nbex, dtype=int)\n",
    "for iex in range (nbex-2):\n",
    "    if LB[iex+1] == LB[iex] and LB[iex+1] == LB[iex+2]:\n",
    "        correct[iex+1] = 1\n",
    "    else :\n",
    "        correct[iex+1] = 0\n",
    "print(correct)\n",
    "print(correct.sum()*1./nbex)"
   ]
  },
  {
   "cell_type": "markdown",
   "metadata": {},
   "source": [
    "taux de bonne classification à 0,31 ce qui n'est pas terrible pour notre clustering au regard de cette métrique."
   ]
  },
  {
   "cell_type": "markdown",
   "metadata": {
    "colab_type": "text",
    "id": "iq1RmzK2ViDY"
   },
   "source": [
    "Q2. Cette façon de faire n'est toutefois pas satisfaisante : d'abord elle repose sur l'utilisation d'une information \"supervisée\" ce qui n'est pas possible normalement~; ensuite parce que nous ne savons pas comment le score est calculé : les différents critères sont sans doute pondérés pour l'obtenir. \n",
    "\n",
    "L'idée ici est de regarder dans un premier temps la distance moyenne des éléments dans chacun des clusters (calcul de l'homogénéité de chaque cluster -- appelée aussi intra-classes). En déduire l'homogénéité moyenne du clustering obtenu. On peut obtenir les points moyens de chaque cluster en lisant la documentation des kmeans."
   ]
  },
  {
   "cell_type": "code",
   "execution_count": 10,
   "metadata": {
    "colab": {},
    "colab_type": "code",
    "id": "TJ6zJopvcUCu"
   },
   "outputs": [
    {
     "name": "stdout",
     "output_type": "stream",
     "text": [
      "Homogénéité intra-cluster =  [0.56272414 1.09301003 0.79823773 1.05073718] Homogénéité moyenne =  0.8761772709601138\n"
     ]
    }
   ],
   "source": [
    "# points moyens de chaque cluster\n",
    "from sklearn.metrics.pairwise import euclidean_distances\n",
    "import math\n",
    "\n",
    "# Calcul de l'homogeneite de chacun des nbc clusters\n",
    "# okmeans : environnement et resultat du clustering \n",
    "# affectations: association d'un cluster a chaque exemple\n",
    "# nbc: nombre de clusters\n",
    "def homogeneite(okmeans, affectations, data):\n",
    "    pm = okmeans.cluster_centers_ # centres (points moyens) des clusters\n",
    "    k = pm.shape[0] # nb de clusters\n",
    "    H = np.zeros(k) # tab des homogeneite de chaque cluster\n",
    "    for kcluster in range(k):\n",
    "        indices = np.where(affectations == kcluster) # indices des exemples de ce cluster kcluster\n",
    "        nbk = len(indices) # nb d'exemples dans le cluster kcluster\n",
    "        sdist = 0. # initialisation de la somme des distances\n",
    "        for j in indices: # pour chaque exemple du cluster \n",
    "            crtx = np.array(data.iloc[j,:])[0] # desc de l'exemple j sur 7 colonnes\n",
    "            # distance augmentee de celle entre le centre de gravite et exemple courant\n",
    "            sqr = np.dot(pm[kcluster], pm[kcluster]) - 2 * np.dot(pm[kcluster], crtx) + np.dot(crtx, crtx)\n",
    "            if (sqr &lt; 0):\n",
    "                sqr = 0 # approcimation, peut etre negatif a $10^{-16}$ près\n",
    "            sdist = sdist + math.sqrt(sqr) \n",
    "                        \n",
    "        H[kcluster] = sdist / nbk # homogeneite intra cluster\n",
    "    return H\n",
    "      \n",
    "HLB = homogeneite(clusterer, LB, aveugle) # objet de clustering, tab[iex]= cluster affecte a exemple iex, nb clusters\n",
    "    \n",
    "print('Homogénéité intra-cluster = ', HLB, \"Homogénéité moyenne = \", HLB.mean())\n",
    "\n"
   ]
  },
  {
   "cell_type": "markdown",
   "metadata": {},
   "source": [
    "Nous constatons que certains clusters sont plus homogènes que d'autres."
   ]
  },
  {
   "cell_type": "markdown",
   "metadata": {
    "colab_type": "text",
    "id": "Om7H0yRecbPn"
   },
   "source": [
    "Q3. Il faut maintenant calculer la distance entre cluster (séparabilité aka éloignement). Pour cela, une façon de faire est de calculer le barycentre de chacun des cluster, puis de calculer la distance entre chacun de ces centre de gravité deux par deux. Il est possible que vous trouviez dans la documentation une façon de récupérer les coordonnées des barycentre directement à partir du classifieur (on dit ça, on dit rien). Calculer ainsi la séparabilité entre chaque couple de cluster, et terminer par le score global de séparabilité du clustering."
   ]
  },
  {
   "cell_type": "code",
   "execution_count": 11,
   "metadata": {
    "colab": {},
    "colab_type": "code",
    "id": "4sl2XW1hcqZB"
   },
   "outputs": [
    {
     "name": "stdout",
     "output_type": "stream",
     "text": [
      "séparabilité 2-2 \n",
      "[[0.         0.83149437 0.85372778 1.07967263]\n",
      " [0.83149437 0.         1.47238189 0.94645335]\n",
      " [0.85372778 1.47238189 0.         1.04934264]\n",
      " [1.07967263 0.94645335 1.04934264 0.        ]]\n",
      "séparabilité globale =  1.0388454449472562\n"
     ]
    }
   ],
   "source": [
    "def separabilite(okmeans):\n",
    "    pm = okmeans.cluster_centers_ # centres (points moyens) des clusters\n",
    "    k = pm.shape[0] # nb de clusters\n",
    "    #\n",
    "    # separabilite 2 a 2\n",
    "    E = np.zeros((k,k)) \n",
    "    for kc_l in range(k):\n",
    "        for kc_c in range(k):\n",
    "            E[kc_l, kc_c] = math.sqrt(np.dot(pm[kc_l], pm[kc_l]) \\\n",
    "                    - 2 * np.dot(pm[kc_l], pm[kc_c]) \\\n",
    "                    + np.dot(pm[kc_c], pm[kc_c]))\n",
    "    #\n",
    "    # separabilite globale\n",
    "    # Il existe moyens bcp plus compacts en python pour cela, mais restons basiques\n",
    "    Ef = 0. \n",
    "    for kc_l in range(k):\n",
    "        kc_c = kc_l + 1\n",
    "        while (kc_c &lt; k) :\n",
    "            Ef = Ef + E[kc_l, kc_c]\n",
    "            kc_c += 1\n",
    "    Ef = Ef * 2/(k*(k-1))\n",
    "    return (E, Ef)\n",
    "\n",
    "S2, SG = separabilite(clusterer)\n",
    "print('séparabilité 2-2 ')\n",
    "print(S2)\n",
    "print(\"séparabilité globale = \", SG)"
   ]
  },
  {
   "cell_type": "markdown",
   "metadata": {},
   "source": [
    "On vérifie que les séparabilités 2-2 sont bien nulles sur la diagonale, et que la matrice est symétrique. Certains couples de clusters sont plus séparés que d'autres (ex. 3-4 vs 3-2)"
   ]
  },
  {
   "cell_type": "markdown",
   "metadata": {},
   "source": [
    "Q4. Calculer maintenant le score de silhouette de chaque donnée de l'échantillon. Quelle est la proportion de silhouettes négatives ? Qu'est-ce que cela signifie ?"
   ]
  },
  {
   "cell_type": "code",
   "execution_count": 12,
   "metadata": {},
   "outputs": [
    {
     "name": "stdout",
     "output_type": "stream",
     "text": [
      "\n",
      "les SIL ( k = 4 ) =  [ 0.36288956  0.31693319  0.30331349  0.35943054  0.19910713  0.33699091\n",
      "  0.42041083  0.44988112  0.45971709  0.47191047  0.22025391  0.39691523\n",
      "  0.47272986  0.4087101   0.43406496  0.52435631  0.4773908   0.31744461\n",
      "  0.38927466  0.08072291  0.3830078   0.41756359  0.04011388  0.26202652\n",
      "  0.43521217 -0.03114219  0.22728367  0.34916139  0.5093075   0.17140218\n",
      "  0.52103656  0.34761661  0.45696978  0.52912476  0.00843259  0.37179951\n",
      "  0.45073163  0.43591847  0.32408978  0.42637215  0.35246408  0.46468867\n",
      "  0.37464915 -0.00655471  0.50208337  0.46825754  0.17072928  0.46118545\n",
      "  0.2731208   0.46181507 -0.09049888  0.25207046  0.32873967  0.48881481\n",
      "  0.43848532  0.48497961  0.24337954  0.34477238  0.37917837  0.45886467\n",
      "  0.20599539  0.01551902  0.07939978  0.29000002  0.26082917 -0.02318481\n",
      "  0.35903397  0.39836954  0.46231932  0.19908606  0.25572874  0.12376005\n",
      "  0.3914735   0.3050772   0.34675111 -0.12748096  0.33104737  0.17990083\n",
      "  0.29495042  0.30142567  0.1152145   0.3489968   0.29918021  0.28940718\n",
      "  0.29611957  0.16972158  0.32048239  0.22033713  0.20854138  0.22691004\n",
      "  0.05570424 -0.16849056  0.11978413  0.1306614   0.10752417  0.27288425\n",
      "  0.32511128 -0.0688003   0.36221492  0.29675449  0.02295729  0.08276392\n",
      "  0.14346518 -0.12088613  0.29463221  0.0559152   0.09542399  0.07526123\n",
      "  0.11009965  0.36327878  0.08133034  0.38326084  0.22653286 -0.02070466\n",
      "  0.44757418  0.46105896  0.24011138  0.17868425  0.47651207  0.36512869\n",
      "  0.05276343  0.14882563  0.2995638   0.33292475 -0.02348758  0.28118517\n",
      "  0.41436804  0.50491853  0.13474379  0.32272057  0.35539191  0.35522994\n",
      "  0.40234006  0.55043042  0.54246644  0.41496883  0.43161871  0.48602968\n",
      "  0.29219416  0.23029915  0.38570669  0.35342153  0.48175453  0.47980592\n",
      "  0.45907518  0.21605671  0.53054071  0.5325012   0.49904671  0.50616253\n",
      "  0.13174625  0.01341566  0.19530664  0.49576988  0.33137415]\n",
      "la SIL moyenne =  0.2940099404093094\n"
     ]
    }
   ],
   "source": [
    "# Calcul de la silhouette de l'ex iex du jeu data repartis en nbc clusters dans affectations\n",
    "def silhouette(data, affectations, iex, nbc):\n",
    "    cluster = affectations[iex,0] # le cluster affecte a l'exemple\n",
    "    ex = np.array(data.iloc[iex,:]) # description du point iex\n",
    "    #\n",
    "    # Eloignement des points hors cluster de x\n",
    "    minb = 10000. # b(x) dans le cours dont on cherche le minimum\n",
    "    for kprime in range(nbc):\n",
    "        if kprime != int(cluster): # exemples classes autrement que iex\n",
    "            autres = np.where(affectations == float(kprime))[0] # indices des exemples des points hors cluster de iex\n",
    "            sommeprime = 0.\n",
    "            nbiexi = 0 # nombre d'exemples hors du cluster de ex\n",
    "            for iexi in autres: # pour tous les exemples de cluster different de ex\n",
    "                exi = np.array(data.iloc[iexi,:]) # description de l'exemple courant\n",
    "                sommeprime = sommeprime + math.dist(ex, exi) # update de la somme des distances à iex\n",
    "                nbiexi += 1\n",
    "            if nbiexi != 0: # calcul de minb\n",
    "                if sommeprime / nbiexi &lt; minb:\n",
    "                    minb = sommeprime / nbiexi\n",
    "            else: # si tous points dans meme cluster (cas special)\n",
    "                minb = 0.\n",
    "    #         \n",
    "    # proximite des points du cluster de iex\n",
    "    copains = np.where(affectations == cluster)[0] # indices des exemples des points de meme cluster que iex\n",
    "    somme = 0.\n",
    "    nbiexi = 0 # nb exemples du cluster de iex\n",
    "    for iexi in copains: # pour tous les ex de meme cluster que iex\n",
    "        exi = np.array(data.iloc[iexi,:]) # description de l'exemple\n",
    "        somme = somme + math.dist(ex, exi) # update de la somme des distances\n",
    "        nbiexi += 1\n",
    "    if nbiexi-1 != 0:\n",
    "        a =  somme / (nbiexi-1)\n",
    "    else: # iex est le seul element de son cluster (cas special)\n",
    "        a = 0.\n",
    "    #\n",
    "    # Calcul de la silhouette de l'exemple iex    \n",
    "    silh = (minb - a) / max(a, minb)\n",
    "    return silh\n",
    "\n",
    "#y = np.array(aveugle.iloc[3,:])\n",
    "\n",
    "SIL = np.zeros((155)) # les silhouettes de tous les exemples\n",
    "for i in range(155): # pour chaque exemple du jeu\n",
    "    SIL[i] = silhouette(aveugle, LB, i, 4)\n",
    "    \n",
    "print ()\n",
    "print('les SIL ( k =', 4,') = ',SIL)\n",
    "print('la SIL moyenne = ', SIL.mean())"
   ]
  },
  {
   "cell_type": "markdown",
   "metadata": {},
   "source": [
    "Q5. Refaire les Q2, Q3 et Q4 pour d'autres valeurs de $k$ (par exemple $k=2, 5, 10$) : Quel(s) $k$ vous semble(nt) meilleur(s) ? Si besoin, vous pouvez produire un graphique avec $k$ en abscisse, et les trois courbes en ordonnées avec des couleurs différentes (homogénéité moyenne, séparabilité globale, et silhouette moyenne). Si vous avez encore du mal à decider, est-ceque l'indice de Davies aiderait ?"
   ]
  },
  {
   "cell_type": "code",
   "execution_count": 13,
   "metadata": {},
   "outputs": [
    {
     "name": "stdout",
     "output_type": "stream",
     "text": [
      "****************"
     ]
    }
   ],
   "source": [
    "intK = range(4,20,1)\n",
    "\n",
    "Homogeneites = []\n",
    "Separabilites = []\n",
    "Separabilites2_2 = []\n",
    "Silhouettes = []\n",
    "\n",
    "def experience(intervalle_k, data):\n",
    "    for k in intervalle_k:\n",
    "        print('*',end='')\n",
    "        #\n",
    "        # Apprentissage d'un partitionnement de type kmeans avec k clusters\n",
    "        clusterer = KMeans(n_clusters = k) \n",
    "        clusterer.fit(data)\n",
    "        #\n",
    "        # Recuperation des affectations de chaque exemple du jeu de donnees\n",
    "        LB = np.ndarray((len(clusterer.labels_), 1))\n",
    "        for i in range(len(clusterer.labels_)):\n",
    "            LB[i,0] = clusterer.labels_[i]\n",
    "        #\n",
    "        # Calcul des homogeneites\n",
    "        H = homogeneite(clusterer, LB, data)\n",
    "        Homogeneites.append(H)\n",
    "        #\n",
    "        # Calcul des separabilites\n",
    "        S2, SG = separabilite(clusterer)\n",
    "        Separabilites.append(SG)\n",
    "        Separabilites2_2.append(S2)\n",
    "        #\n",
    "        # Calcul des silhouettes de chaque exemple du jeu d'apprentissage\n",
    "        Silh = np.zeros((155))\n",
    "        for i in range(155):\n",
    "            Silh[i] = silhouette(data, LB, i, k)   \n",
    "        Silhouettes.append(Silh.mean())\n",
    "        # \n",
    "        # Production du resume (on pourrait faire des courbes avec k en abscisse...)\n",
    "    return Homogeneites, Separabilites2_2, Separabilites, Silhouettes\n",
    "    \n",
    "H, S2, S, Sil = experience(intK, aveugle)"
   ]
  },
  {
   "cell_type": "code",
   "execution_count": 14,
   "metadata": {},
   "outputs": [
    {
     "data": {
      "image/png": "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\n",
      "text/plain": [
       "<figure size="" 432x288="" with="" 1="" axes="">"
      ]
     },
     "metadata": {
      "needs_background": "light"
     },
     "output_type": "display_data"
    }
   ],
   "source": [
    "# production des courbes performances / nb de clusters\n",
    "HFig = []\n",
    "SFig = []\n",
    "SilFig = []\n",
    "for k in intK:\n",
    "\n",
    "    HFig.append(H[k-4].mean())\n",
    "    SFig.append(S[k-4])\n",
    "    SilFig.append(Sil[k-4].mean())\n",
    "\n",
    "plt.plot(intK, HFig, label = \"Homogeneite\")\n",
    "plt.plot(intK, SFig, label = \"Separabilité\")\n",
    "plt.plot(intK, SilFig, label = \"Silhouette\")\n",
    "plt.legend()\n",
    "plt.show()"
   ]
  },
  {
   "cell_type": "markdown",
   "metadata": {},
   "source": [
    "Il semble que plus le nombre de clusters augmente, plus la silhouette moyenne des points de l'échantillon diminue, ce qui n'est pas bon signe.\n",
    "\n",
    "La séparabilité fluctue le long de k, ainsi que l'homogénéité même si cette dernière diminue globalement avec k. \n",
    "\n",
    "Un bon compromis entre ces trois mesures pourrait être k = 6 ou 7. Il faudrait calculer les indices de Davies."
   ]
  },
  {
   "cell_type": "code",
   "execution_count": 15,
   "metadata": {},
   "outputs": [],
   "source": [
    "def Davies_Bouldin(Hom, Sep2_2):\n",
    "    k = Sep2_2.shape[0] # nb de clusters\n",
    "    db_max = 0 # initialisation de l'indice de Davies Bouldin\n",
    "    for ic1 in range(k):\n",
    "        for ic2 in range(ic1+1, k):\n",
    "            db_cur = ( Hom[ic1] + Hom[ic2] ) / Sep2_2[ic1,ic2]\n",
    "            if db_cur &gt; db_max:\n",
    "                db_max = db_cur\n",
    "    #print(db_max)\n",
    "    return db_max/k\n",
    "\n",
    "\n"
   ]
  },
  {
   "cell_type": "code",
   "execution_count": 16,
   "metadata": {},
   "outputs": [
    {
     "name": "stdout",
     "output_type": "stream",
     "text": [
      "****************"
     ]
    }
   ],
   "source": [
    "intK = range(4,20,1)\n",
    "\n",
    "def experience_bouldin(intervalle_k, data):\n",
    "    Homogeneites = []\n",
    "    Separabilites = []\n",
    "    Separabilites2_2 = []\n",
    "    Silhouettes = []\n",
    "    DBouldin = []\n",
    "    for k in intervalle_k:\n",
    "        print('*',end='')\n",
    "        #\n",
    "        # Apprentissage d'un partitionnement de type kmeans avec k clusters\n",
    "        clusterer = KMeans(n_clusters = k) \n",
    "        clusterer.fit(data)\n",
    "        #\n",
    "        # Recuperation des affectations de chaque exemple du jeu de donnees\n",
    "        LB = np.ndarray((len(clusterer.labels_), 1))\n",
    "        for i in range(len(clusterer.labels_)):\n",
    "            LB[i,0] = clusterer.labels_[i]\n",
    "        #\n",
    "        # Calcul des homogeneites\n",
    "        H = homogeneite(clusterer, LB, data)\n",
    "        Homogeneites.append(H)\n",
    "        #\n",
    "        # Calcul des separabilites\n",
    "        S2, SG = separabilite(clusterer)\n",
    "        Separabilites.append(SG)\n",
    "        Separabilites2_2.append(S2)\n",
    "        #\n",
    "        # Calcul des silhouettes de chaque exemple du jeu d'apprentissage\n",
    "        Silh = np.zeros((155))\n",
    "        for i in range(155):\n",
    "            Silh[i] = silhouette(data, LB, i, k)   \n",
    "        Silhouettes.append(Silh.mean())\n",
    "        #\n",
    "        # Calcul des indice de Davies Bouldin\n",
    "        D = Davies_Bouldin(H, S2)\n",
    "        DBouldin.append(D)\n",
    "        # \n",
    "        # Production du resume (on pourrait faire des courbes avec k en abscisse...)\n",
    "    return Homogeneites, Separabilites2_2, Separabilites, Silhouettes, DBouldin\n",
    "    \n",
    "H, S2, S, Sil, DB = experience_bouldin(intK, aveugle)\n",
    "    "
   ]
  },
  {
   "cell_type": "code",
   "execution_count": 17,
   "metadata": {},
   "outputs": [
    {
     "data": {
      "image/png": "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\n",
      "text/plain": [
       "<figure size="" 432x288="" with="" 1="" axes="">"
      ]
     },
     "metadata": {
      "needs_background": "light"
     },
     "output_type": "display_data"
    }
   ],
   "source": [
    "# production des affichages pour afficher les tendances\n",
    "HFig = []\n",
    "SFig = []\n",
    "SilFig = []\n",
    "DFig = []\n",
    "\n",
    "for k in intK:\n",
    "\n",
    "    HFig.append(H[k-4].mean())\n",
    "    SFig.append(S[k-4])\n",
    "    SilFig.append(Sil[k-4].mean())\n",
    "    DFig.append(DB[k-4])\n",
    "\n",
    "plt.plot(intK, HFig, label = \"Homogeneite\")\n",
    "plt.plot(intK, SFig, label = \"Separabilité\")\n",
    "plt.plot(intK, SilFig, label = \"Silhouette\")\n",
    "plt.plot(intK, DFig, label = \"Davies Bouldin\")\n",
    "plt.legend()\n",
    "plt.show()"
   ]
  },
  {
   "cell_type": "markdown",
   "metadata": {},
   "source": [
    "Nous constatons que l'indice de Davies Bouldin diminue avec les clusters, donc finalement il nous faut peut être un $k$ encore plus grand. Affinons la recherche."
   ]
  },
  {
   "cell_type": "code",
   "execution_count": 18,
   "metadata": {},
   "outputs": [
    {
     "name": "stdout",
     "output_type": "stream",
     "text": [
      "********************"
     ]
    }
   ],
   "source": [
    "intK = range(20,40,1)\n",
    "H, S2, S, Sil, DB = experience_bouldin(intK, aveugle)\n"
   ]
  },
  {
   "cell_type": "code",
   "execution_count": 19,
   "metadata": {},
   "outputs": [
    {
     "data": {
      "image/png": "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\n",
      "text/plain": [
       "<figure size="" 432x288="" with="" 1="" axes="">"
      ]
     },
     "metadata": {
      "needs_background": "light"
     },
     "output_type": "display_data"
    }
   ],
   "source": [
    "HFig = []\n",
    "SFig = []\n",
    "SilFig = []\n",
    "DFig = []\n",
    "\n",
    "for k in intK:\n",
    "\n",
    "    HFig.append(H[k-20].mean())\n",
    "    SFig.append(S[k-20])\n",
    "    SilFig.append(Sil[k-20].mean())\n",
    "    DFig.append(DB[k-20])\n",
    "\n",
    "plt.plot(intK, HFig, label = \"Homogeneite\")\n",
    "plt.plot(intK, SFig, label = \"Separabilité\")\n",
    "plt.plot(intK, SilFig, label = \"Silhouette\")\n",
    "plt.plot(intK, DFig, label = \"Davies Bouldin\")\n",
    "plt.legend()\n",
    "plt.show()"
   ]
  },
  {
   "cell_type": "markdown",
   "metadata": {},
   "source": [
    "La valeur $k=30$ semble la plus petite plutôt correcte au regard de Davies Bouldin."
   ]
  },
  {
   "cell_type": "markdown",
   "metadata": {},
   "source": [
    "## Etude de la stabilité (Bonus)\n",
    "\n",
    "Nous pouvons étudier la stabilité d'un algorithme de clustering pour un échantillon donné en observant la variation des mesures de qualité ci-avant, en fonction de la variation de l'échantillon et/ou de l'initialisation. Ici, nous proposons d'étudier cette stabilité en procédant comme suit:\n",
    "\n",
    "Répéter 20 fois (avec le meilleur $k$ trouvé précédemment):\n",
    "1. Prendre 80% de l'échantillon initial\n",
    "2. Lancer l'algorithmede clustering \n",
    "3. Calculer homogénéité $H$, séparabilité $S$, l'indice de Davis-Bouldin ($D_b$) et la proportion de silhouettes négatives ($F$)\n",
    "\n",
    "Puis, pour chaque mesure de qualité, un diagramme de Tukey indiquant médiane et quartiles. Conclure sur la stabilité des $k$-moyennes sur le clustering de cet échantillon."
   ]
  },
  {
   "cell_type": "code",
   "execution_count": 24,
   "metadata": {},
   "outputs": [
    {
     "name": "stdout",
     "output_type": "stream",
     "text": [
      "HOMOGENEITE MOYENNE =  0.7319425721556232  STD = 0.2329308170281381 \n",
      " -- toutes  [0.89303872 0.3444425  0.87390374 0.63538449 0.5215165  0.40949121\n",
      " 0.95522636 1.08643991 0.73999226 1.13287525 0.64361775 0.65092711\n",
      " 0.43931697 0.91957963 1.13609238 0.15951784 0.63223219 0.63353614\n",
      " 0.55490412 0.72524431 0.83889705 0.73363168 0.71949775 0.86944852\n",
      " 0.48685767 0.74451203 0.91624759 0.87850331 0.62952912 1.05387308]\n",
      "SEPARABILITE MOYENNE =  1.1823828657426776  STD = 0.040986439990950065 \n",
      " -- toutes  [1.19293896 1.15841564 1.1440753  1.15825304 1.21277038 1.18157054\n",
      " 1.242572   1.07799105 1.16939444 1.22037528 1.21575816 1.21605796\n",
      " 1.22668964 1.176975   1.1211732  1.19824101 1.21190724 1.21288235\n",
      " 1.18830889 1.12130722]\n",
      "SILHOUETTE NEGATIVE MOYENNE =  0.008064516129032256  STD =  1.734723475976807e-18 \n",
      " -- toutes  [0.00806452 0.00806452 0.00806452 0.00806452 0.00806452 0.00806452\n",
      " 0.00806452 0.00806452 0.00806452 0.00806452 0.00806452 0.00806452\n",
      " 0.00806452 0.00806452 0.00806452 0.00806452 0.00806452 0.00806452\n",
      " 0.00806452 0.00806452]\n",
      "DAVIES BOULDIN MOYEN =  0.16691610401937715  STD =  0.012582975291128165 \n",
      " -- toutes  [0.15377751 0.15084083 0.16316958 0.15249831 0.17095225 0.16629798\n",
      " 0.17650474 0.16413565 0.16968404 0.17650474 0.14761068 0.17428447\n",
      " 0.15318439 0.18292837 0.17457083 0.1695162  0.14870324 0.19133517\n",
      " 0.16427982 0.18754328]\n"
     ]
    }
   ],
   "source": [
    "from numpy import random\n",
    "import numpy as np\n",
    "\n",
    "k = 30 # selon expe ci-avant\n",
    "nbexpe = 20\n",
    "H = np.zeros(nbexpe)\n",
    "S = np.zeros(nbexpe)\n",
    "D = np.zeros(nbexpe)\n",
    "F = np.zeros(nbexpe)\n",
    "\n",
    "for i in range(nbexpe):\n",
    "    n20 = int(aveugle.shape[0]*0.2)\n",
    "    drop_indices = np.random.choice(aveugle.index, n20, replace=False)\n",
    "    sub_aveugle = aveugle.drop(drop_indices) # 80 pct de l'echantillon initial\n",
    "    clusterer = KMeans(n_clusters = k) \n",
    "    clusterer.fit(sub_aveugle) # apprentissage du clustering sur sous -ensemble des donnees\n",
    "    #print(\"LABELS \", clusterer.labels_)\n",
    "    labels = np.ndarray((len(clusterer.labels_), 1), dtype=int) # affectation de chaque exemple\n",
    "    for iex in range(len(clusterer.labels_)): # enregistrement des affectations\n",
    "        labels[iex,0] = clusterer.labels_[iex]\n",
    "    \n",
    "    S2, S[i] = separabilite(clusterer)\n",
    "    H = homogeneite(clusterer, labels, sub_aveugle)\n",
    "    H[i] = H.mean()\n",
    "    D[i] = Davies_Bouldin(H, S2)\n",
    "    nbex = sub_aveugle.shape[0]\n",
    "    Silhouettes = np.zeros((nbex))\n",
    "    for it in range(nbex):\n",
    "        Silhouettes[it] = silhouette(sub_aveugle, labels, it, k)\n",
    "    F[i] = 1.*len(np.where(Silhouettes &lt; 0))/nbex\n",
    "\n",
    "print(\"HOMOGENEITE MOYENNE = \", H.mean(), \" STD =\", H.std(), \"\\n -- toutes \", H)\n",
    "print(\"SEPARABILITE MOYENNE = \", S.mean(), \" STD =\", S.std(), \"\\n -- toutes \", S)\n",
    "print(\"SILHOUETTE NEGATIVE MOYENNE = \", F.mean(), \" STD = \", F.std(), \"\\n -- toutes \", F)\n",
    "print(\"DAVIES BOULDIN MOYEN = \", D.mean(), \" STD = \", D.std(), \"\\n -- toutes \", D)\n"
   ]
  },
  {
   "cell_type": "markdown",
   "metadata": {},
   "source": [
    "Nous constatons une stabilité de toutes les mesures pour $k=30$, sauf celle d'homogénéité très instable (cf les écarts-types = std). En restant sur davies Bouldin, la stabilité est vraiment bonne (ordre $10^{-2})$. Nous pourrions aussi tout refaire pour $k=40$: nous pourrions affiner encore."
   ]
  },
  {
   "cell_type": "markdown",
   "metadata": {},
   "source": [
    "__Pour les plus curieu-ses-x__\n",
    "\n",
    "Faire une recherche sur l'indice de Rand permettant de mesure la stabilité d'un algorithme de clustering, et appliquer cette technique à l'étude du clustering précédent. Indiquer la source de documentation retenue. Conclure au regard de la technique précédente."
   ]
  },
  {
   "cell_type": "code",
   "execution_count": 21,
   "metadata": {},
   "outputs": [],
   "source": [
    "# A vous"
   ]
  },
  {
   "cell_type": "markdown",
   "metadata": {},
   "source": [
    "## Conclusion\n",
    "\n",
    "L'indice de bonheur est-il plutôt fondé sur les autres variables descriptives, ou sur le rang de bonheur ? Dans le premier cas, que signifie ce \"rang\" dans les données ? Dans le second cas, comment score et rang de bonheur sont-ils corrélés ?"
   ]
  },
  {
   "cell_type": "code",
   "execution_count": 22,
   "metadata": {},
   "outputs": [],
   "source": [
    "# A vous : code et texte libre bienvenus"
   ]
  }
 ],
 "metadata": {
  "colab": {
   "collapsed_sections": [],
   "name": "Correction-TP4-ISD.ipynb",
   "provenance": [],
   "version": "0.3.2"
  },
  "kernelspec": {
   "display_name": "Python 3",
   "language": "python",
   "name": "python3"
  },
  "language_info": {
   "codemirror_mode": {
    "name": "ipython",
    "version": 3
   },
   "file_extension": ".py",
   "mimetype": "text/x-python",
   "name": "python",
   "nbconvert_exporter": "python",
   "pygments_lexer": "ipython3",
   "version": "3.8.8"
  }
 },
 "nbformat": 4,
 "nbformat_minor": 1
}
</figure></figure></figure></figure></figure></figure></figure></figure></matplotlib.axis.ytick></matplotlib.axis.ytick></matplotlib.axis.ytick></matplotlib.axis.ytick></matplotlib.axis.ytick></matplotlib.axis.ytick></matplotlib.axis.ytick></matplotlib.axis.ytick></body></html>