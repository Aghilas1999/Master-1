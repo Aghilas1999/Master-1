{
 "cells": [
  {
   "cell_type": "markdown",
   "metadata": {
    "id": "7HDpECWMH0tB"
   },
   "source": [
    "# Introduction à la Science de Données M1 Informatique AMU 2022/23\n",
    "# TP1 - Prise en main de python, pandas, et de Scikit-Learn\n",
    "\n",
    "## 1. Python\n",
    "\n",
    "Python est un langage de programmation simple, qui peut être interprété dans un shell (terminal) ou via une interface comme celle-ci (on peut même éventuellement compiler du code python). Le plus souvent, nous allons travailler avec des Jupyter Notebook comme celui-ci dans ce cours. Le principe est le suivant : il y a des cellules dans lequel on tape du code (ou du texte, comme ici - double-clicker ici pour voir le code de cette cellule). Un fois le code écrit, on lance la cellule avec le bouton \"Exécuter\" (ou \"Run\"), en haut au milieu, et le code s'exécute ! Top, non ? \n",
    "\n",
    "On essaie ? *Exécuter* cette cellule pour lui redonner son apparence initiale si vous avez double-clické dessus, puis exécuter la suivante."
   ]
  },
  {
   "cell_type": "code",
   "execution_count": 1,
   "metadata": {
    "id": "-zuNGqREH0tM"
   },
   "outputs": [
    {
     "name": "stdout",
     "output_type": "stream",
     "text": [
      "Hello world!\n"
     ]
    }
   ],
   "source": [
    "print(\"Hello world!\")"
   ]
  },
  {
   "cell_type": "markdown",
   "metadata": {
    "id": "k5pwGwCJH0tg"
   },
   "source": [
    "### Variables et types\n",
    "Vous devez donc avoir compris que *exécuter* une cellule de code affiche le résultat en dessous.\n",
    "\n",
    "On peut écrire du code python comme si on utilisait une calculette (avec des variables). Même si on fera rapidement des choses plus évoluées, on commence par ça (vous pouvez modifier le contenu des cellule et les exécuter autant de fois que vous voulez) :"
   ]
  },
  {
   "cell_type": "code",
   "execution_count": 2,
   "metadata": {
    "id": "zWIKwVrKH0tj"
   },
   "outputs": [
    {
     "data": {
      "text/plain": [
       "2"
      ]
     },
     "execution_count": 2,
     "metadata": {},
     "output_type": "execute_result"
    }
   ],
   "source": [
    "2"
   ]
  },
  {
   "cell_type": "code",
   "execution_count": 3,
   "metadata": {
    "id": "-Ic0fUiDH0ts"
   },
   "outputs": [
    {
     "data": {
      "text/plain": [
       "4"
      ]
     },
     "execution_count": 3,
     "metadata": {},
     "output_type": "execute_result"
    }
   ],
   "source": [
    "2*2"
   ]
  },
  {
   "cell_type": "code",
   "execution_count": 4,
   "metadata": {
    "id": "60MSgLvUH0t2"
   },
   "outputs": [],
   "source": [
    "a = 2"
   ]
  },
  {
   "cell_type": "code",
   "execution_count": 5,
   "metadata": {
    "id": "QPLcgb-bH0t8"
   },
   "outputs": [
    {
     "data": {
      "text/plain": [
       "6"
      ]
     },
     "execution_count": 5,
     "metadata": {},
     "output_type": "execute_result"
    }
   ],
   "source": [
    "a*3"
   ]
  },
  {
   "cell_type": "code",
   "execution_count": 6,
   "metadata": {
    "id": "R_xhR0ZNH0uB"
   },
   "outputs": [
    {
     "data": {
      "text/plain": [
       "int"
      ]
     },
     "execution_count": 6,
     "metadata": {},
     "output_type": "execute_result"
    }
   ],
   "source": [
    "type(a)"
   ]
  },
  {
   "cell_type": "code",
   "execution_count": 7,
   "metadata": {
    "id": "vQEUCdX3H0uH"
   },
   "outputs": [
    {
     "data": {
      "text/plain": [
       "float"
      ]
     },
     "execution_count": 7,
     "metadata": {},
     "output_type": "execute_result"
    }
   ],
   "source": [
    "type(a*0.5)"
   ]
  },
  {
   "cell_type": "code",
   "execution_count": 8,
   "metadata": {
    "id": "upv0QMflH0uR"
   },
   "outputs": [],
   "source": [
    "b = a*3"
   ]
  },
  {
   "cell_type": "code",
   "execution_count": 9,
   "metadata": {
    "id": "irMp9BEYH0ud"
   },
   "outputs": [
    {
     "data": {
      "text/plain": [
       "6"
      ]
     },
     "execution_count": 9,
     "metadata": {},
     "output_type": "execute_result"
    }
   ],
   "source": [
    "b"
   ]
  },
  {
   "cell_type": "code",
   "execution_count": 10,
   "metadata": {
    "id": "TUTZnND_H0up"
   },
   "outputs": [
    {
     "name": "stdout",
     "output_type": "stream",
     "text": [
      "6\n"
     ]
    }
   ],
   "source": [
    "print(b)"
   ]
  },
  {
   "cell_type": "code",
   "execution_count": 11,
   "metadata": {
    "id": "stbBh87OH0uw"
   },
   "outputs": [
    {
     "name": "stdout",
     "output_type": "stream",
     "text": [
      "2 12 3 4 3.0 Vous suivez ?\n"
     ]
    }
   ],
   "source": [
    "c, d = 3, 4\n",
    "b = 4*c\n",
    "print(a, b, c, d, b/4, \"Vous suivez ?\")"
   ]
  },
  {
   "cell_type": "code",
   "execution_count": 12,
   "metadata": {
    "id": "hOBBV_QQH0u5"
   },
   "outputs": [
    {
     "name": "stdout",
     "output_type": "stream",
     "text": [
      "Avant :  2\n",
      "Après :  3\n"
     ]
    }
   ],
   "source": [
    "print(\"Avant : \", a)\n",
    "a += 1\n",
    "print(\"Après : \", a)"
   ]
  },
  {
   "cell_type": "code",
   "execution_count": 13,
   "metadata": {
    "id": "Cu6afqmFH0vB"
   },
   "outputs": [
    {
     "name": "stdout",
     "output_type": "stream",
     "text": [
      "4\n",
      "22\n"
     ]
    }
   ],
   "source": [
    "print(2+2)\n",
    "print(\"2\"+\"2\")"
   ]
  },
  {
   "cell_type": "code",
   "execution_count": 14,
   "metadata": {
    "id": "0d6Dh7LmH0vH"
   },
   "outputs": [
    {
     "ename": "TypeError",
     "evalue": "unsupported operand type(s) for +: 'int' and 'str'",
     "output_type": "error",
     "traceback": [
      "\u001b[0;31m---------------------------------------------------------------------------\u001b[0m",
      "\u001b[0;31mTypeError\u001b[0m                                 Traceback (most recent call last)",
      "\u001b[0;32m<ipython-input-14-db53bd892eed>\u001b[0m in \u001b[0;36m<module>\u001b[0;34m\u001b[0m\n\u001b[0;32m----> 1\u001b[0;31m \u001b[0mprint\u001b[0m\u001b[0;34m(\u001b[0m\u001b[0;36m2\u001b[0m\u001b[0;34m+\u001b[0m\u001b[0;34m\"2\"\u001b[0m\u001b[0;34m)\u001b[0m\u001b[0;34m\u001b[0m\u001b[0;34m\u001b[0m\u001b[0m\n\u001b[0m",
      "\u001b[0;31mTypeError\u001b[0m: unsupported operand type(s) for +: 'int' and 'str'"
     ]
    }
   ],
   "source": [
    "print(2+\"2\")"
   ]
  },
  {
   "cell_type": "markdown",
   "metadata": {
    "id": "d0KS6mhdH0vN"
   },
   "source": [
    "Un type particulier (et central) : les **listes**"
   ]
  },
  {
   "cell_type": "code",
   "execution_count": 16,
   "metadata": {
    "id": "HKx5S9dWH0vP"
   },
   "outputs": [
    {
     "name": "stdout",
     "output_type": "stream",
     "text": [
      "<class 'list'>\n",
      "3\n",
      "0\n",
      "Plus technique :\n",
      "2\n",
      "[0, 1]\n",
      "[1, 2]\n"
     ]
    }
   ],
   "source": [
    "li = [0, 1, 2]    # Definition d'une liste en extension\n",
    "\n",
    "print(type(li))\n",
    "print(len(li))\n",
    "print(li[0])\n",
    "\n",
    "print(\"Plus technique :\")\n",
    "print(li[-1])  # En partant de la fin\n",
    "print(li[:2])  # Un morceau contenant le début jusqu'à l'élément indexé par 2 NON inclus\n",
    "print(li[1:])  # Un morceau contenant la fin à partir de l'élément indexé par 1 inclus"
   ]
  },
  {
   "cell_type": "code",
   "execution_count": 17,
   "metadata": {
    "id": "VzoIFKBkH0vU"
   },
   "outputs": [
    {
     "name": "stdout",
     "output_type": "stream",
     "text": [
      "[0, 1, 2]\n",
      "[42, 1, 2, 'éléments de différent types']\n"
     ]
    }
   ],
   "source": [
    "print(li)\n",
    "li[0] = 42\n",
    "li.append(\"éléments de différent types\")\n",
    "print(li)"
   ]
  },
  {
   "cell_type": "markdown",
   "metadata": {
    "id": "r9cAzqLMH0ve"
   },
   "source": [
    "### Structures de controle\n",
    "Comme tout langage de programmation, on peut utiliser des structures de controle en python, comme des boucles ou des conditionnelles. Et comme les autres langages, cela fonctionne par blocs : qu'est-ce qui s'exécute si le *if* est vrai ? Qu'est-ce qui s'exécute de toute façon ? Qu'est-ce qui est dans la boucle ? etc.\n",
    "\n",
    "La plupart des langages de programmation que vous connaissez matérialisent les blocs par des caractères spéciaux, souvent une accolade *{* pour le commencer et une autre *}* pour le fermer. Ce n'est pas le cas de python : ce langage matérialise les blocs graphiquement, par des espaces. Il faut 4 espaces pour marquer un bloc:"
   ]
  },
  {
   "cell_type": "code",
   "execution_count": 18,
   "metadata": {
    "id": "Apuv2F5DH0vi"
   },
   "outputs": [
    {
     "name": "stdout",
     "output_type": "stream",
     "text": [
      "On n'est pas dans le if\n",
      "On est dans le if\n",
      "Là encore\n",
      "Là on n'y est plus\n"
     ]
    }
   ],
   "source": [
    "print(\"On n'est pas dans le if\")     # Ceci est un commentaire\n",
    "if True:\n",
    "    print(\"On est dans le if\")\n",
    "    print(\"Là encore\")\n",
    "print(\"Là on n'y est plus\")"
   ]
  },
  {
   "cell_type": "markdown",
   "metadata": {
    "id": "Jh7HcIYpH0vp"
   },
   "source": [
    "Et c'est pareil pour les boucles:"
   ]
  },
  {
   "cell_type": "code",
   "execution_count": 19,
   "metadata": {
    "id": "ws6gZyCrH0vq"
   },
   "outputs": [
    {
     "name": "stdout",
     "output_type": "stream",
     "text": [
      "Avant la boucle\n",
      "Tour de boucle numéro 0\n",
      "Tour de boucle numéro 1\n",
      "Tour de boucle numéro 2\n",
      "Tour de boucle numéro 3\n",
      "Tour de boucle numéro 4\n",
      "Tour de boucle numéro 5\n",
      "Tour de boucle numéro 6\n",
      "Tour de boucle numéro 7\n",
      "Tour de boucle numéro 8\n",
      "Tour de boucle numéro 9\n",
      "Tour de boucle numéro 10\n",
      "Après la boucle\n"
     ]
    }
   ],
   "source": [
    "print(\"Avant la boucle\")\n",
    "for i in range(0, 11):\n",
    "    print(\"Tour de boucle numéro\", i)\n",
    "print(\"Après la boucle\")"
   ]
  },
  {
   "cell_type": "markdown",
   "metadata": {
    "id": "vX6wRT3jH0v2"
   },
   "source": [
    "##### Boucle et liste\n",
    "On peut remplir des listes avec des boucles:"
   ]
  },
  {
   "cell_type": "code",
   "execution_count": 20,
   "metadata": {
    "id": "xMuf3fqjH0v3"
   },
   "outputs": [
    {
     "name": "stdout",
     "output_type": "stream",
     "text": [
      "[0, 1, 2, 3, 4, 5, 6, 7, 8, 9]\n"
     ]
    }
   ],
   "source": [
    "li = []\n",
    "for i in range(10):\n",
    "    li.append(i)\n",
    "print(li)"
   ]
  },
  {
   "cell_type": "markdown",
   "metadata": {
    "id": "FEob5PvDH0v-"
   },
   "source": [
    "(Mais en fait on n'a même pas besoin de boucle explicite !!!!!) :"
   ]
  },
  {
   "cell_type": "code",
   "execution_count": 21,
   "metadata": {
    "id": "iFf_JCXUH0wC"
   },
   "outputs": [
    {
     "name": "stdout",
     "output_type": "stream",
     "text": [
      "[0, 2, 4, 6, 8, 10, 12, 14, 16, 18]\n"
     ]
    }
   ],
   "source": [
    "li = [i*2 for i in range(10)]\n",
    "print(li)"
   ]
  },
  {
   "cell_type": "markdown",
   "metadata": {
    "id": "UwxQAlndH0wL"
   },
   "source": [
    "##### Combinaison\n",
    "Bien entendu, c'est récursif : on peut mettre des blocs dans des blocs qui contiennent des blocks, etc.\n",
    "\n",
    "**Question** Alors, que fait le code ci-dessous ? Que valent a et b à la fin ? "
   ]
  },
  {
   "cell_type": "code",
   "execution_count": 22,
   "metadata": {
    "id": "fHOiyJpwH0wN"
   },
   "outputs": [],
   "source": [
    "a, b = 0, 0\n",
    "for i in range(10):\n",
    "    if a % 2 == 0:\n",
    "        a+=i\n",
    "        if b < 5:\n",
    "            a-=i\n",
    "        else:\n",
    "            b+=i\n",
    "    else:\n",
    "        b-=i"
   ]
  },
  {
   "cell_type": "markdown",
   "metadata": {
    "id": "fW4gf7YnH0wY"
   },
   "source": [
    "#### A vous !\n",
    "**Question** Insérez 1 cellule ci-dessous (cliquez ici puis utilisez le menu du haut...). Puis écrivez y le code qui calcule et affiche la somme des 10 premiers entiers au carré."
   ]
  },
  {
   "cell_type": "code",
   "execution_count": 23,
   "metadata": {},
   "outputs": [
    {
     "name": "stdout",
     "output_type": "stream",
     "text": [
      "2025\n"
     ]
    }
   ],
   "source": [
    "somme = 0\n",
    "for i in range(10):\n",
    "    somme += i\n",
    "print(somme**2)"
   ]
  },
  {
   "cell_type": "markdown",
   "metadata": {
    "id": "Db5MLZ_TH0wZ"
   },
   "source": [
    "**Question** Dans la cellule suivante, écrire un code comprenant 1 boucle et 1 conditionnelle qui tire un nombre au hasard entre 1 et 100 et qui laisse 10 chances à l'utilisateur pour trouver ce nombre. On utilisera une bibliothèque (on dit *module* en python) qui génère des nombres aléatoires en l'important:"
   ]
  },
  {
   "cell_type": "code",
   "execution_count": 27,
   "metadata": {
    "id": "wi2Qfar_H0wa"
   },
   "outputs": [
    {
     "name": "stdout",
     "output_type": "stream",
     "text": [
      "Entrer un nombre: 50\n",
      "trop petit\n",
      "Entrer un nombre: 75\n",
      "trop grand\n",
      "Entrer un nombre: 64\n",
      "trop petit\n",
      "Entrer un nombre: 70\n",
      "trop grand\n",
      "Entrer un nombre: 67\n",
      "trop petit\n",
      "Entrer un nombre: 68\n",
      "trop petit\n",
      "Entrer un nombre: 69\n",
      "bravo\n",
      "vous avez gagne en 7 coups\n"
     ]
    }
   ],
   "source": [
    "import random   # On importe la librairie\n",
    "a_trouver = random.randint(0,100)    # On on génère alétoirement un nombre\n",
    "mon_nombre = -1\n",
    "nb_essais = 0\n",
    "while (nb_essais<10 and mon_nombre != a_trouver):\n",
    "    nb_essais += 1\n",
    "    mon_nombre = int(input(\"Entrer un nombre: \")) # On demande à rentrer un nombre\n",
    "    if (mon_nombre < a_trouver):\n",
    "        print(\"trop petit\")\n",
    "    elif (mon_nombre > a_trouver):\n",
    "        print(\"trop grand\")\n",
    "    else: \n",
    "        print('bravo')\n",
    "\n",
    "if (mon_nombre == a_trouver):\n",
    "    print('vous avez gagne en '+str(nb_essais)+' coups')\n",
    "else:\n",
    "    print('vous avez depasse le nombre de coups autorises')\n",
    "    "
   ]
  },
  {
   "cell_type": "markdown",
   "metadata": {
    "id": "QQ5qhjrkH0wi"
   },
   "source": [
    "### Fonctions\n",
    "Bien entendu, il est possible de définir et d'utiliser des fonctions en python:"
   ]
  },
  {
   "cell_type": "code",
   "execution_count": 28,
   "metadata": {
    "id": "jLKlsxU9H0wj"
   },
   "outputs": [],
   "source": [
    "def carre(x):\n",
    "    return x*x"
   ]
  },
  {
   "cell_type": "code",
   "execution_count": 29,
   "metadata": {
    "id": "K7BKTsPvH0wr"
   },
   "outputs": [
    {
     "data": {
      "text/plain": [
       "4"
      ]
     },
     "execution_count": 29,
     "metadata": {},
     "output_type": "execute_result"
    }
   ],
   "source": [
    "carre(2)"
   ]
  },
  {
   "cell_type": "markdown",
   "metadata": {
    "id": "6irEAB32H0wv"
   },
   "source": [
    "Et on peut même renvoyer plusieurs valeurs:"
   ]
  },
  {
   "cell_type": "code",
   "execution_count": 30,
   "metadata": {
    "id": "Fu0XSRNzH0wx"
   },
   "outputs": [
    {
     "name": "stdout",
     "output_type": "stream",
     "text": [
      "(6, 7, 8)\n",
      "7\n"
     ]
    }
   ],
   "source": [
    "def trois_suivants(x):\n",
    "    return (x+1, x+2, x+3)\n",
    "S = trois_suivants(5)\n",
    "print(S)\n",
    "print(S[1])"
   ]
  },
  {
   "cell_type": "markdown",
   "metadata": {
    "id": "09xb5GHBH0w6"
   },
   "source": [
    "Attention, un tuple (comme le triplet que retourne cette fonction) n'est pas mutable: il contient une ou des valeurs qui ne sont pas modifiables. "
   ]
  },
  {
   "cell_type": "code",
   "execution_count": 31,
   "metadata": {
    "id": "UftmCrHPH0w7"
   },
   "outputs": [
    {
     "ename": "TypeError",
     "evalue": "'tuple' object does not support item assignment",
     "output_type": "error",
     "traceback": [
      "\u001b[0;31m---------------------------------------------------------------------------\u001b[0m",
      "\u001b[0;31mTypeError\u001b[0m                                 Traceback (most recent call last)",
      "\u001b[0;32m<ipython-input-31-3b221297ced0>\u001b[0m in \u001b[0;36m<module>\u001b[0;34m\u001b[0m\n\u001b[0;32m----> 1\u001b[0;31m \u001b[0mS\u001b[0m\u001b[0;34m[\u001b[0m\u001b[0;36m1\u001b[0m\u001b[0;34m]\u001b[0m\u001b[0;34m=\u001b[0m\u001b[0;36m3\u001b[0m   \u001b[0;31m# Ceci va donc donner un erreur !\u001b[0m\u001b[0;34m\u001b[0m\u001b[0;34m\u001b[0m\u001b[0m\n\u001b[0m",
      "\u001b[0;31mTypeError\u001b[0m: 'tuple' object does not support item assignment"
     ]
    }
   ],
   "source": [
    "S[1]=3   # Ceci va donc donner un erreur !"
   ]
  },
  {
   "cell_type": "markdown",
   "metadata": {
    "id": "7W_gAjnNH0xG"
   },
   "source": [
    "Si vous voulez modifier les valeurs, il faut faire une liste:"
   ]
  },
  {
   "cell_type": "code",
   "execution_count": 32,
   "metadata": {
    "id": "bIhbEqbvH0xH"
   },
   "outputs": [
    {
     "name": "stdout",
     "output_type": "stream",
     "text": [
      "[6, 7, 8]\n",
      "[6, 3, 8]\n",
      "(6, 7, 8)\n"
     ]
    }
   ],
   "source": [
    "L = list(S)\n",
    "print(L)\n",
    "L[1] = 3\n",
    "print(L)\n",
    "print(S)"
   ]
  },
  {
   "cell_type": "markdown",
   "metadata": {
    "id": "BOesqxEpH0xK"
   },
   "source": [
    "Ou alors, vous récuperez les valeurs de la fonction dans des variables séparées :"
   ]
  },
  {
   "cell_type": "code",
   "execution_count": 33,
   "metadata": {
    "id": "6NRZCj-5H0xL"
   },
   "outputs": [
    {
     "name": "stdout",
     "output_type": "stream",
     "text": [
      "43 44 45\n",
      "24\n"
     ]
    }
   ],
   "source": [
    "x_1, x_2, x_3 = trois_suivants(42)\n",
    "print(x_1, x_2, x_3)\n",
    "x_1 = 24\n",
    "print(x_1)"
   ]
  },
  {
   "cell_type": "markdown",
   "metadata": {
    "id": "FMjdW9AqH0xN"
   },
   "source": [
    "## 2. Scikit-Learn\n",
    "Scikit-learn est un logiciel écrit en Python, qui nécessite l'installation préalable du langage  Python et des librairies  *NumPy* et  *SciPy* (pour le calcul scientifique), dans des versions qui doivent vérifier certaines contraintes de compatibilité. Sur votre machine personnelle, le plus simple est d'installer une distribution de Python complète, comme Anaconda (https://docs.anaconda.com/anaconda/install/), qui comprend la plupart des librairies courantes développées en Python, dont les trois citées plus haut. Sur les PC de la salle, tout est normalement installé...\n",
    "\n",
    "Le site officiel du logiciel  Scikit-learn est :  http://scikit-learn.org/stable/index.html \n",
    "\n",
    "La documentation en ligne est complète, et devra être consultée chaque fois que nécessaire :\n",
    " \thttp://scikit-learn.org/stable/documentation.html \n",
    "    \n",
    "Des tutoriaux sont disponibles a l'adresse suivante :\n",
    " \thttp://scikit-learn.org/stable/tutorial/index.html\n",
    "\n",
    "### Jeux de données en Scikit-Learn\n",
    "\n",
    "Un certain nombre de jeux de données sont disponibles dans scikit-learn. Il est également possible de générer des données artificielles ou de récupérer des données externes (on fera ça dans les prochains TPs).\n",
    "\n",
    "Documentation relative au chargement de jeux de données :\n",
    "\thttp://scikit-learn.org/stable/datasets/ \n",
    "\n",
    "Les jeux de données disponibles dans scikit-learn sont : iris, boston, diabetes, digits, linnerud, sample images, 20newsgroups.\n",
    "Chacun de ces jeux de données se récupère à l'aide de la commande load_nom-jeu qu'il faut dans un premier temps charger. Par exemple, pour récupérer le jeu iris :"
   ]
  },
  {
   "cell_type": "code",
   "execution_count": 35,
   "metadata": {
    "id": "KGE3DxB1H0xO"
   },
   "outputs": [],
   "source": [
    "from sklearn.datasets import load_iris  #importation de la commande\n",
    "irisData = load_iris()"
   ]
  },
  {
   "cell_type": "markdown",
   "metadata": {
    "id": "qhM6j0I2H0xQ"
   },
   "source": [
    "On se retrouve alors avec une variable qui contient le jeu de données (ici on l'a appelé *irisData*)\n",
    "\n",
    "Les variables des jeux de données comprennent un certain nombres d'attributs parmi (tous ne sont pas toujours définis) : data, target, target_names, feature_names, DESCR :\n",
    "- *.data* est un tableau de dimensions *(n,m)*. Chacune des *n* lignes correspond à une donnée, chacune des *m* colonnes à un attribut \n",
    "- *.target* stocke les classes (étiquettes/label) de chaque instance (dans le cas supervisé) : c'est un vecteur de taille *n* dont la première valeur est la classe de la donnée de la première ligne de la matrice .data, la deuxième valeur est la classe de la deuxième ligne, etc.\n",
    "- *.target_names* contient le nom des classes\n",
    "- *.feature_names* contient le nom des attributs\n",
    "- *.DESCR* est un texte décrivant le jeu de données."
   ]
  },
  {
   "cell_type": "code",
   "execution_count": 36,
   "metadata": {
    "id": "TdZWSqHiH0xT"
   },
   "outputs": [
    {
     "data": {
      "text/plain": [
       "array([[5.1, 3.5, 1.4, 0.2],\n",
       "       [4.9, 3. , 1.4, 0.2],\n",
       "       [4.7, 3.2, 1.3, 0.2],\n",
       "       [4.6, 3.1, 1.5, 0.2],\n",
       "       [5. , 3.6, 1.4, 0.2],\n",
       "       [5.4, 3.9, 1.7, 0.4],\n",
       "       [4.6, 3.4, 1.4, 0.3],\n",
       "       [5. , 3.4, 1.5, 0.2],\n",
       "       [4.4, 2.9, 1.4, 0.2],\n",
       "       [4.9, 3.1, 1.5, 0.1],\n",
       "       [5.4, 3.7, 1.5, 0.2],\n",
       "       [4.8, 3.4, 1.6, 0.2],\n",
       "       [4.8, 3. , 1.4, 0.1],\n",
       "       [4.3, 3. , 1.1, 0.1],\n",
       "       [5.8, 4. , 1.2, 0.2],\n",
       "       [5.7, 4.4, 1.5, 0.4],\n",
       "       [5.4, 3.9, 1.3, 0.4],\n",
       "       [5.1, 3.5, 1.4, 0.3],\n",
       "       [5.7, 3.8, 1.7, 0.3],\n",
       "       [5.1, 3.8, 1.5, 0.3],\n",
       "       [5.4, 3.4, 1.7, 0.2],\n",
       "       [5.1, 3.7, 1.5, 0.4],\n",
       "       [4.6, 3.6, 1. , 0.2],\n",
       "       [5.1, 3.3, 1.7, 0.5],\n",
       "       [4.8, 3.4, 1.9, 0.2],\n",
       "       [5. , 3. , 1.6, 0.2],\n",
       "       [5. , 3.4, 1.6, 0.4],\n",
       "       [5.2, 3.5, 1.5, 0.2],\n",
       "       [5.2, 3.4, 1.4, 0.2],\n",
       "       [4.7, 3.2, 1.6, 0.2],\n",
       "       [4.8, 3.1, 1.6, 0.2],\n",
       "       [5.4, 3.4, 1.5, 0.4],\n",
       "       [5.2, 4.1, 1.5, 0.1],\n",
       "       [5.5, 4.2, 1.4, 0.2],\n",
       "       [4.9, 3.1, 1.5, 0.2],\n",
       "       [5. , 3.2, 1.2, 0.2],\n",
       "       [5.5, 3.5, 1.3, 0.2],\n",
       "       [4.9, 3.6, 1.4, 0.1],\n",
       "       [4.4, 3. , 1.3, 0.2],\n",
       "       [5.1, 3.4, 1.5, 0.2],\n",
       "       [5. , 3.5, 1.3, 0.3],\n",
       "       [4.5, 2.3, 1.3, 0.3],\n",
       "       [4.4, 3.2, 1.3, 0.2],\n",
       "       [5. , 3.5, 1.6, 0.6],\n",
       "       [5.1, 3.8, 1.9, 0.4],\n",
       "       [4.8, 3. , 1.4, 0.3],\n",
       "       [5.1, 3.8, 1.6, 0.2],\n",
       "       [4.6, 3.2, 1.4, 0.2],\n",
       "       [5.3, 3.7, 1.5, 0.2],\n",
       "       [5. , 3.3, 1.4, 0.2],\n",
       "       [7. , 3.2, 4.7, 1.4],\n",
       "       [6.4, 3.2, 4.5, 1.5],\n",
       "       [6.9, 3.1, 4.9, 1.5],\n",
       "       [5.5, 2.3, 4. , 1.3],\n",
       "       [6.5, 2.8, 4.6, 1.5],\n",
       "       [5.7, 2.8, 4.5, 1.3],\n",
       "       [6.3, 3.3, 4.7, 1.6],\n",
       "       [4.9, 2.4, 3.3, 1. ],\n",
       "       [6.6, 2.9, 4.6, 1.3],\n",
       "       [5.2, 2.7, 3.9, 1.4],\n",
       "       [5. , 2. , 3.5, 1. ],\n",
       "       [5.9, 3. , 4.2, 1.5],\n",
       "       [6. , 2.2, 4. , 1. ],\n",
       "       [6.1, 2.9, 4.7, 1.4],\n",
       "       [5.6, 2.9, 3.6, 1.3],\n",
       "       [6.7, 3.1, 4.4, 1.4],\n",
       "       [5.6, 3. , 4.5, 1.5],\n",
       "       [5.8, 2.7, 4.1, 1. ],\n",
       "       [6.2, 2.2, 4.5, 1.5],\n",
       "       [5.6, 2.5, 3.9, 1.1],\n",
       "       [5.9, 3.2, 4.8, 1.8],\n",
       "       [6.1, 2.8, 4. , 1.3],\n",
       "       [6.3, 2.5, 4.9, 1.5],\n",
       "       [6.1, 2.8, 4.7, 1.2],\n",
       "       [6.4, 2.9, 4.3, 1.3],\n",
       "       [6.6, 3. , 4.4, 1.4],\n",
       "       [6.8, 2.8, 4.8, 1.4],\n",
       "       [6.7, 3. , 5. , 1.7],\n",
       "       [6. , 2.9, 4.5, 1.5],\n",
       "       [5.7, 2.6, 3.5, 1. ],\n",
       "       [5.5, 2.4, 3.8, 1.1],\n",
       "       [5.5, 2.4, 3.7, 1. ],\n",
       "       [5.8, 2.7, 3.9, 1.2],\n",
       "       [6. , 2.7, 5.1, 1.6],\n",
       "       [5.4, 3. , 4.5, 1.5],\n",
       "       [6. , 3.4, 4.5, 1.6],\n",
       "       [6.7, 3.1, 4.7, 1.5],\n",
       "       [6.3, 2.3, 4.4, 1.3],\n",
       "       [5.6, 3. , 4.1, 1.3],\n",
       "       [5.5, 2.5, 4. , 1.3],\n",
       "       [5.5, 2.6, 4.4, 1.2],\n",
       "       [6.1, 3. , 4.6, 1.4],\n",
       "       [5.8, 2.6, 4. , 1.2],\n",
       "       [5. , 2.3, 3.3, 1. ],\n",
       "       [5.6, 2.7, 4.2, 1.3],\n",
       "       [5.7, 3. , 4.2, 1.2],\n",
       "       [5.7, 2.9, 4.2, 1.3],\n",
       "       [6.2, 2.9, 4.3, 1.3],\n",
       "       [5.1, 2.5, 3. , 1.1],\n",
       "       [5.7, 2.8, 4.1, 1.3],\n",
       "       [6.3, 3.3, 6. , 2.5],\n",
       "       [5.8, 2.7, 5.1, 1.9],\n",
       "       [7.1, 3. , 5.9, 2.1],\n",
       "       [6.3, 2.9, 5.6, 1.8],\n",
       "       [6.5, 3. , 5.8, 2.2],\n",
       "       [7.6, 3. , 6.6, 2.1],\n",
       "       [4.9, 2.5, 4.5, 1.7],\n",
       "       [7.3, 2.9, 6.3, 1.8],\n",
       "       [6.7, 2.5, 5.8, 1.8],\n",
       "       [7.2, 3.6, 6.1, 2.5],\n",
       "       [6.5, 3.2, 5.1, 2. ],\n",
       "       [6.4, 2.7, 5.3, 1.9],\n",
       "       [6.8, 3. , 5.5, 2.1],\n",
       "       [5.7, 2.5, 5. , 2. ],\n",
       "       [5.8, 2.8, 5.1, 2.4],\n",
       "       [6.4, 3.2, 5.3, 2.3],\n",
       "       [6.5, 3. , 5.5, 1.8],\n",
       "       [7.7, 3.8, 6.7, 2.2],\n",
       "       [7.7, 2.6, 6.9, 2.3],\n",
       "       [6. , 2.2, 5. , 1.5],\n",
       "       [6.9, 3.2, 5.7, 2.3],\n",
       "       [5.6, 2.8, 4.9, 2. ],\n",
       "       [7.7, 2.8, 6.7, 2. ],\n",
       "       [6.3, 2.7, 4.9, 1.8],\n",
       "       [6.7, 3.3, 5.7, 2.1],\n",
       "       [7.2, 3.2, 6. , 1.8],\n",
       "       [6.2, 2.8, 4.8, 1.8],\n",
       "       [6.1, 3. , 4.9, 1.8],\n",
       "       [6.4, 2.8, 5.6, 2.1],\n",
       "       [7.2, 3. , 5.8, 1.6],\n",
       "       [7.4, 2.8, 6.1, 1.9],\n",
       "       [7.9, 3.8, 6.4, 2. ],\n",
       "       [6.4, 2.8, 5.6, 2.2],\n",
       "       [6.3, 2.8, 5.1, 1.5],\n",
       "       [6.1, 2.6, 5.6, 1.4],\n",
       "       [7.7, 3. , 6.1, 2.3],\n",
       "       [6.3, 3.4, 5.6, 2.4],\n",
       "       [6.4, 3.1, 5.5, 1.8],\n",
       "       [6. , 3. , 4.8, 1.8],\n",
       "       [6.9, 3.1, 5.4, 2.1],\n",
       "       [6.7, 3.1, 5.6, 2.4],\n",
       "       [6.9, 3.1, 5.1, 2.3],\n",
       "       [5.8, 2.7, 5.1, 1.9],\n",
       "       [6.8, 3.2, 5.9, 2.3],\n",
       "       [6.7, 3.3, 5.7, 2.5],\n",
       "       [6.7, 3. , 5.2, 2.3],\n",
       "       [6.3, 2.5, 5. , 1.9],\n",
       "       [6.5, 3. , 5.2, 2. ],\n",
       "       [6.2, 3.4, 5.4, 2.3],\n",
       "       [5.9, 3. , 5.1, 1.8]])"
      ]
     },
     "execution_count": 36,
     "metadata": {},
     "output_type": "execute_result"
    }
   ],
   "source": [
    "irisData.data"
   ]
  },
  {
   "cell_type": "markdown",
   "metadata": {},
   "source": [
    "Ci-dessus nous visualison la matrice de description des données: 150 données sont ainsi décrites (une par ligne). Chaque ligne décrit un individu = l'observation d'une fleur iris à travers quatre mesures réelles. Naïvement, on peut dire que deux individus sont proches si leurs mesures sont toutes très proches."
   ]
  },
  {
   "cell_type": "code",
   "execution_count": 37,
   "metadata": {
    "id": "OXkitLY6H0xU"
   },
   "outputs": [
    {
     "data": {
      "text/plain": [
       "array([0, 0, 0, 0, 0, 0, 0, 0, 0, 0, 0, 0, 0, 0, 0, 0, 0, 0, 0, 0, 0, 0,\n",
       "       0, 0, 0, 0, 0, 0, 0, 0, 0, 0, 0, 0, 0, 0, 0, 0, 0, 0, 0, 0, 0, 0,\n",
       "       0, 0, 0, 0, 0, 0, 1, 1, 1, 1, 1, 1, 1, 1, 1, 1, 1, 1, 1, 1, 1, 1,\n",
       "       1, 1, 1, 1, 1, 1, 1, 1, 1, 1, 1, 1, 1, 1, 1, 1, 1, 1, 1, 1, 1, 1,\n",
       "       1, 1, 1, 1, 1, 1, 1, 1, 1, 1, 1, 1, 2, 2, 2, 2, 2, 2, 2, 2, 2, 2,\n",
       "       2, 2, 2, 2, 2, 2, 2, 2, 2, 2, 2, 2, 2, 2, 2, 2, 2, 2, 2, 2, 2, 2,\n",
       "       2, 2, 2, 2, 2, 2, 2, 2, 2, 2, 2, 2, 2, 2, 2, 2, 2, 2])"
      ]
     },
     "execution_count": 37,
     "metadata": {},
     "output_type": "execute_result"
    }
   ],
   "source": [
    "irisData.target"
   ]
  },
  {
   "cell_type": "markdown",
   "metadata": {},
   "source": [
    "Ci dessus nous visualisons le tableau des entiers représentant les classes de nos individus en lignes: les 50 premiers sont de classe 0, puis les cinquante suivants sont de classe 1, et les 50 derniers sont de classe 2.\n",
    "\n",
    "Ci-dessous le nom associé à chacun de ces \"numéros\" de classe (0 = 'setosa', 1 = 'versicolor', etc.)"
   ]
  },
  {
   "cell_type": "code",
   "execution_count": 38,
   "metadata": {
    "id": "ZwU_r-XwH0xZ"
   },
   "outputs": [
    {
     "data": {
      "text/plain": [
       "array(['setosa', 'versicolor', 'virginica'], dtype='<U10')"
      ]
     },
     "execution_count": 38,
     "metadata": {},
     "output_type": "execute_result"
    }
   ],
   "source": [
    "irisData.target_names"
   ]
  },
  {
   "cell_type": "markdown",
   "metadata": {
    "id": "G0IU_jmpH0xc"
   },
   "source": [
    "Noter que le type de tous ces éléments est *array*, un type très utile et central en python pour nous (en fait, le vrai type est s'appelle *ndarray* qui est un type propre à numpy : faites type(irisData.target) par exemple pour vous en assurer : il ne faut pas toujours croire ce que le notebook affiche !)"
   ]
  },
  {
   "cell_type": "markdown",
   "metadata": {
    "id": "Safe4zN-H0xd"
   },
   "source": [
    "##### Le jeu de données Iris (Fisher, 1936)\n",
    "Iris est un ensemble (=jeu) de données introduit en 1936 par R. Fisher comme un exemple d'analyse discriminante. Cet ensemble contient 150 exemples de critères observés sur 3 espèces différentes d'iris de Gaspésie (Setosa, Versicolor, Verginica). Chaque exemple est composé de quatre attributs (longueur et largeur des sépales en cm, longueur et largeur des pétales en cm) et d'une classe (l'espèce).\n",
    "\n",
    "**Question.** Exécutez **une à une** les commandes suivantes et comprenez ce qu'elles réalisent (vous aurez à les réutiliser)."
   ]
  },
  {
   "cell_type": "code",
   "execution_count": 39,
   "metadata": {
    "id": "FHIaHRZKH0xi"
   },
   "outputs": [
    {
     "data": {
      "text/plain": [
       "150"
      ]
     },
     "execution_count": 39,
     "metadata": {},
     "output_type": "execute_result"
    }
   ],
   "source": [
    "len(irisData.data)"
   ]
  },
  {
   "cell_type": "code",
   "execution_count": 40,
   "metadata": {},
   "outputs": [
    {
     "data": {
      "text/plain": [
       "'setosa'"
      ]
     },
     "execution_count": 40,
     "metadata": {},
     "output_type": "execute_result"
    }
   ],
   "source": [
    "irisData.target_names[0]"
   ]
  },
  {
   "cell_type": "code",
   "execution_count": 41,
   "metadata": {},
   "outputs": [
    {
     "data": {
      "text/plain": [
       "'virginica'"
      ]
     },
     "execution_count": 41,
     "metadata": {},
     "output_type": "execute_result"
    }
   ],
   "source": [
    "irisData.target_names[2]"
   ]
  },
  {
   "cell_type": "code",
   "execution_count": 42,
   "metadata": {},
   "outputs": [
    {
     "data": {
      "text/plain": [
       "'virginica'"
      ]
     },
     "execution_count": 42,
     "metadata": {},
     "output_type": "execute_result"
    }
   ],
   "source": [
    "irisData.target_names[-1]"
   ]
  },
  {
   "cell_type": "markdown",
   "metadata": {},
   "source": [
    "l'index -1 correspond au dernier index de la liste. Comme la liste irisData.target_names comporte 3 éléments, -1 est équivalent à 2 (avec modulo 3)"
   ]
  },
  {
   "cell_type": "code",
   "execution_count": 43,
   "metadata": {},
   "outputs": [
    {
     "data": {
      "text/plain": [
       "'virginica'"
      ]
     },
     "execution_count": 43,
     "metadata": {},
     "output_type": "execute_result"
    }
   ],
   "source": [
    "irisData.target_names[len(irisData.target_names)-1] # correction de l'erreur"
   ]
  },
  {
   "cell_type": "markdown",
   "metadata": {},
   "source": [
    "La plage des indices va de 0 à la longueur de la liste moins 1. len(L) indique la longueur de la liste L."
   ]
  },
  {
   "cell_type": "code",
   "execution_count": 44,
   "metadata": {},
   "outputs": [
    {
     "data": {
      "text/plain": [
       "(150, 4)"
      ]
     },
     "execution_count": 44,
     "metadata": {},
     "output_type": "execute_result"
    }
   ],
   "source": [
    "irisData.data.shape"
   ]
  },
  {
   "cell_type": "markdown",
   "metadata": {},
   "source": [
    "irisData.data est un tableau de dimensions (shape) 150 lignes et 4 colonnes."
   ]
  },
  {
   "cell_type": "code",
   "execution_count": 45,
   "metadata": {},
   "outputs": [
    {
     "data": {
      "text/plain": [
       "array([5.1, 3.5, 1.4, 0.2])"
      ]
     },
     "execution_count": 45,
     "metadata": {},
     "output_type": "execute_result"
    }
   ],
   "source": [
    "irisData.data[0]"
   ]
  },
  {
   "cell_type": "markdown",
   "metadata": {},
   "source": [
    "Première ligne du tableau irisData.data, cette ligne est elle-même un tableau (array)"
   ]
  },
  {
   "cell_type": "code",
   "execution_count": 46,
   "metadata": {},
   "outputs": [
    {
     "data": {
      "text/plain": [
       "3.5"
      ]
     },
     "execution_count": 46,
     "metadata": {},
     "output_type": "execute_result"
    }
   ],
   "source": [
    "irisData.data[0][1]"
   ]
  },
  {
   "cell_type": "markdown",
   "metadata": {},
   "source": [
    "Deuxième élément de la première ligne du tableau irisData.data (cette ligne est elle-même un tableau (array), son second élément est celui d'index 1). On remarque la notation [.][.]"
   ]
  },
  {
   "cell_type": "code",
   "execution_count": 47,
   "metadata": {},
   "outputs": [
    {
     "data": {
      "text/plain": [
       "array([3.5, 3. , 3.2, 3.1, 3.6, 3.9, 3.4, 3.4, 2.9, 3.1, 3.7, 3.4, 3. ,\n",
       "       3. , 4. , 4.4, 3.9, 3.5, 3.8, 3.8, 3.4, 3.7, 3.6, 3.3, 3.4, 3. ,\n",
       "       3.4, 3.5, 3.4, 3.2, 3.1, 3.4, 4.1, 4.2, 3.1, 3.2, 3.5, 3.6, 3. ,\n",
       "       3.4, 3.5, 2.3, 3.2, 3.5, 3.8, 3. , 3.8, 3.2, 3.7, 3.3, 3.2, 3.2,\n",
       "       3.1, 2.3, 2.8, 2.8, 3.3, 2.4, 2.9, 2.7, 2. , 3. , 2.2, 2.9, 2.9,\n",
       "       3.1, 3. , 2.7, 2.2, 2.5, 3.2, 2.8, 2.5, 2.8, 2.9, 3. , 2.8, 3. ,\n",
       "       2.9, 2.6, 2.4, 2.4, 2.7, 2.7, 3. , 3.4, 3.1, 2.3, 3. , 2.5, 2.6,\n",
       "       3. , 2.6, 2.3, 2.7, 3. , 2.9, 2.9, 2.5, 2.8, 3.3, 2.7, 3. , 2.9,\n",
       "       3. , 3. , 2.5, 2.9, 2.5, 3.6, 3.2, 2.7, 3. , 2.5, 2.8, 3.2, 3. ,\n",
       "       3.8, 2.6, 2.2, 3.2, 2.8, 2.8, 2.7, 3.3, 3.2, 2.8, 3. , 2.8, 3. ,\n",
       "       2.8, 3.8, 2.8, 2.8, 2.6, 3. , 3.4, 3.1, 3. , 3.1, 3.1, 3.1, 2.7,\n",
       "       3.2, 3.3, 3. , 2.5, 3. , 3.4, 3. ])"
      ]
     },
     "execution_count": 47,
     "metadata": {},
     "output_type": "execute_result"
    }
   ],
   "source": [
    "irisData.data[:,1]    # Celle-ci, il faut vraiment la comprendre !"
   ]
  },
  {
   "cell_type": "markdown",
   "metadata": {},
   "source": [
    "Il s'agit ici de sélectionner toutes les lignes: première partie  [:,\n",
    "\n",
    "puis pour chacun la valeur de la deuxième colonne (celle d'index 1): seconde partie ,1]"
   ]
  },
  {
   "cell_type": "code",
   "execution_count": 48,
   "metadata": {},
   "outputs": [
    {
     "data": {
      "text/plain": [
       "array([[5.1, 3.5, 1.4, 0.2],\n",
       "       [4.9, 3. , 1.4, 0.2],\n",
       "       [4.7, 3.2, 1.3, 0.2],\n",
       "       [4.6, 3.1, 1.5, 0.2],\n",
       "       [5. , 3.6, 1.4, 0.2],\n",
       "       [5.4, 3.9, 1.7, 0.4],\n",
       "       [4.6, 3.4, 1.4, 0.3],\n",
       "       [5. , 3.4, 1.5, 0.2],\n",
       "       [4.4, 2.9, 1.4, 0.2],\n",
       "       [4.9, 3.1, 1.5, 0.1],\n",
       "       [5.4, 3.7, 1.5, 0.2],\n",
       "       [4.8, 3.4, 1.6, 0.2],\n",
       "       [4.8, 3. , 1.4, 0.1],\n",
       "       [4.3, 3. , 1.1, 0.1],\n",
       "       [5.8, 4. , 1.2, 0.2],\n",
       "       [5.7, 4.4, 1.5, 0.4],\n",
       "       [5.4, 3.9, 1.3, 0.4],\n",
       "       [5.1, 3.5, 1.4, 0.3],\n",
       "       [5.7, 3.8, 1.7, 0.3],\n",
       "       [5.1, 3.8, 1.5, 0.3],\n",
       "       [5.4, 3.4, 1.7, 0.2],\n",
       "       [5.1, 3.7, 1.5, 0.4],\n",
       "       [4.6, 3.6, 1. , 0.2],\n",
       "       [5.1, 3.3, 1.7, 0.5],\n",
       "       [4.8, 3.4, 1.9, 0.2],\n",
       "       [5. , 3. , 1.6, 0.2],\n",
       "       [5. , 3.4, 1.6, 0.4],\n",
       "       [5.2, 3.5, 1.5, 0.2],\n",
       "       [5.2, 3.4, 1.4, 0.2],\n",
       "       [4.7, 3.2, 1.6, 0.2],\n",
       "       [4.8, 3.1, 1.6, 0.2],\n",
       "       [5.4, 3.4, 1.5, 0.4],\n",
       "       [5.2, 4.1, 1.5, 0.1],\n",
       "       [5.5, 4.2, 1.4, 0.2],\n",
       "       [4.9, 3.1, 1.5, 0.2],\n",
       "       [5. , 3.2, 1.2, 0.2],\n",
       "       [5.5, 3.5, 1.3, 0.2],\n",
       "       [4.9, 3.6, 1.4, 0.1],\n",
       "       [4.4, 3. , 1.3, 0.2],\n",
       "       [5.1, 3.4, 1.5, 0.2],\n",
       "       [5. , 3.5, 1.3, 0.3],\n",
       "       [4.5, 2.3, 1.3, 0.3],\n",
       "       [4.4, 3.2, 1.3, 0.2],\n",
       "       [5. , 3.5, 1.6, 0.6],\n",
       "       [5.1, 3.8, 1.9, 0.4],\n",
       "       [4.8, 3. , 1.4, 0.3],\n",
       "       [5.1, 3.8, 1.6, 0.2],\n",
       "       [4.6, 3.2, 1.4, 0.2],\n",
       "       [5.3, 3.7, 1.5, 0.2],\n",
       "       [5. , 3.3, 1.4, 0.2]])"
      ]
     },
     "execution_count": 48,
     "metadata": {},
     "output_type": "execute_result"
    }
   ],
   "source": [
    "irisData.data[irisData.target==0]    # Et celle-ci aussi !!!"
   ]
  },
  {
   "cell_type": "markdown",
   "metadata": {},
   "source": [
    "Ici, on sélectionne seulement une partie du tableau 2D, en ne gardant que les tableaux 1D dont la classe vaut 0 dans le tableau target. La correspondance se fait via les indices."
   ]
  },
  {
   "cell_type": "code",
   "execution_count": 49,
   "metadata": {},
   "outputs": [
    {
     "data": {
      "text/plain": [
       "array([4.9, 3. , 1.4, 0.2])"
      ]
     },
     "execution_count": 49,
     "metadata": {},
     "output_type": "execute_result"
    }
   ],
   "source": [
    "irisData.data[:][1]  # pourquoi n'a-t-on pas le même résultat qu'avec [:,1] ?"
   ]
  },
  {
   "cell_type": "markdown",
   "metadata": {},
   "source": [
    "Dans [:,1] vu précédemment, on sélectionne ensemble (sur un tableau 2D), toutes les lignes (chaque ligne étant un tableau), et pour chacune le second élément (index 1).\n",
    "\n",
    "Ci-dessus, la notation [:] sélectionne en réalité toutes les lignes et toutes les colonnes (donc ça ne sert à rien...), donc on obtient le même tableau, et ensuite la seconde ligne... C'est équivalent à:"
   ]
  },
  {
   "cell_type": "code",
   "execution_count": 50,
   "metadata": {},
   "outputs": [
    {
     "data": {
      "text/plain": [
       "array([4.9, 3. , 1.4, 0.2])"
      ]
     },
     "execution_count": 50,
     "metadata": {},
     "output_type": "execute_result"
    }
   ],
   "source": [
    "irisData.data[1]"
   ]
  },
  {
   "cell_type": "markdown",
   "metadata": {
    "id": "0yI3SusIH0xn"
   },
   "source": [
    "Il est très important que chacune des instructions ci-dessus soient comprises pour aller vers une manipulation facilitées des tableaux et matrices de données par la suite."
   ]
  },
  {
   "cell_type": "markdown",
   "metadata": {
    "id": "SEFjsCJUH0xo"
   },
   "source": [
    "##### Visualiser les données\n",
    "Scikit-Learn  intègre la librairie matplotlib  (http://matplotlib.org/) qui propose de très nombreuses primitives permettant de faire des dessins, et la librairie pylab, qui intègre les librairies NumPy, SciPy  et Matplotlib .\n",
    "\n",
    "Exécutez les commandes suivantes et comprenez ce qu'elles réalisent :"
   ]
  },
  {
   "cell_type": "code",
   "execution_count": 51,
   "metadata": {
    "id": "6DGx0G1SH0xq"
   },
   "outputs": [
    {
     "data": {
      "image/png": "[encoded data removed]",
      "text/plain": [
       "<Figure size 432x288 with 1 Axes>"
      ]
     },
     "metadata": {
      "needs_background": "light"
     },
     "output_type": "display_data"
    }
   ],
   "source": [
    "%matplotlib inline     \n",
    "# Commande uniquement Notebook : permet l'affichage des courbes\n",
    "import matplotlib.pyplot as plt        \n",
    "#permet d'importer 'pyplot' et de remplacer son nom par 'plt'\n",
    "X = irisData.data\n",
    "Color = irisData.target\n",
    "abscisse = 0\n",
    "ordonnee = 1\n",
    "\n",
    "plt.scatter(X[:, abscisse], X[:, ordonnee], c=Color)   \n",
    "# Définition des abscisses et des ordonnées, ainsi que de la couleur\n",
    "plt.show()    \n",
    "# Affichage de la courbe"
   ]
  },
  {
   "cell_type": "markdown",
   "metadata": {
    "id": "knCEqH8DH0x1"
   },
   "source": [
    "C'est bien mais pas super : il manque de l'information pour être un vrai graphique. On améliore :"
   ]
  },
  {
   "cell_type": "code",
   "execution_count": 52,
   "metadata": {
    "id": "MieZPNfeH0x2"
   },
   "outputs": [
    {
     "data": {
      "image/png": "[encoded data removed]",
      "text/plain": [
       "<Figure size 432x288 with 1 Axes>"
      ]
     },
     "metadata": {
      "needs_background": "light"
     },
     "output_type": "display_data"
    }
   ],
   "source": [
    "plt.xlabel(irisData.feature_names[abscisse])    # Nomage de l'axe des abscisses\n",
    "plt.ylabel(irisData.feature_names[ordonnee])    # Nomage de l'axe des ordonnées   \n",
    "plt.title(\"Données Iris - Dimensions des sépales uniquement\") # Et il faut un tritre\n",
    "\n",
    "plt.scatter(X[:, abscisse], X[:, ordonnee], c=Color)   # Redefinition des abscisses, ordonnees, et couleurs\n",
    "plt.show()\n"
   ]
  },
  {
   "cell_type": "markdown",
   "metadata": {
    "id": "LyVDdnW1H0x8"
   },
   "source": [
    "ça commence à ressembler à quelque chose, non ? Reste 2 petits problèmes : il manque la légende pour expliquer le code couleur, et les couleurs ne sont pas très belles (ça c'est une question de goût, mais quand même). Voilà un façon (un peu différente) d'y remédier :"
   ]
  },
  {
   "cell_type": "code",
   "execution_count": 53,
   "metadata": {
    "id": "u-7semNOH0x9"
   },
   "outputs": [
    {
     "data": {
      "image/png": "[encoded data removed]",
      "text/plain": [
       "<Figure size 432x288 with 1 Axes>"
      ]
     },
     "metadata": {
      "needs_background": "light"
     },
     "output_type": "display_data"
    }
   ],
   "source": [
    "y = irisData.target\n",
    "colors=[\"red\",\"green\",\"blue\"]\n",
    "differentes_target = set(irisData.target)    # Enlève les doublons\n",
    "for i in differentes_target:\n",
    "\tplt.scatter(X[y==i][:, abscisse],X[y==i][:,ordonnee],color=colors[i], label=irisData.target_names[i])\n",
    "plt.legend()\n",
    "plt.xlabel(irisData.feature_names[abscisse])\n",
    "plt.ylabel(irisData.feature_names[ordonnee])\n",
    "plt.title(\"Données Iris - dimensions des sépales uniquement\")\n",
    "plt.show()"
   ]
  },
  {
   "cell_type": "markdown",
   "metadata": {
    "id": "PHKRGAP0H0yB"
   },
   "source": [
    "**Question.** Les données iris sont décrites par 4 attributs. Il y a donc 6 couples d'attributs à confronter avec ce type de nuage de points en 2 dimensions. En modifiant le code ci-dessus, déterminez visuellement le(s) couple(s) d'attributs qui semble le mieux à même de séparer clairement les exemples des 3 classes d'iris."
   ]
  },
  {
   "cell_type": "code",
   "execution_count": 54,
   "metadata": {
    "id": "nDRnfz_vH0yD"
   },
   "outputs": [
    {
     "data": {
      "image/png": "[encoded data removed]",
      "text/plain": [
       "<Figure size 432x288 with 1 Axes>"
      ]
     },
     "metadata": {
      "needs_background": "light"
     },
     "output_type": "display_data"
    },
    {
     "data": {
      "image/png": "[encoded data removed]",
      "text/plain": [
       "<Figure size 432x288 with 6 Axes>"
      ]
     },
     "metadata": {
      "needs_background": "light"
     },
     "output_type": "display_data"
    }
   ],
   "source": [
    "import pylab as pl\n",
    "\n",
    "from sklearn.datasets import load_iris\n",
    "irisData=load_iris()\n",
    "\n",
    "\n",
    "X=irisData.data\n",
    "Y=irisData.target\n",
    "\n",
    "x = 0\n",
    "y = 1\n",
    "\n",
    "colors=['red','green','blue']\n",
    "\n",
    "for i in range(3):\n",
    "    pl.scatter(X[Y==i][:, x],X[Y==i][:,y],color=colors[i],\\\n",
    "               label=irisData.target_names[i])\n",
    "    \n",
    "pl.legend()\n",
    "pl.xlabel(irisData.feature_names[x])\n",
    "pl.ylabel(irisData.feature_names[y])\n",
    "pl.title(u\"Données Iris - dimension des sépales uniquement\")\n",
    "pl.show()\n",
    "\n",
    "# Exercice :\n",
    "\n",
    "fig, axs = pl.subplots(2, 3)\n",
    "\n",
    "k = 0\n",
    "for x in range(3):\n",
    "    for y in range(x+1,4):\n",
    "        i = k // 3\n",
    "        j = k % 3\n",
    "        k = k+1\n",
    "        for c in range(3):\n",
    "            axs[i,j].scatter(X[Y==c][:, x],X[Y==c][:,y],color=colors[c],\\\n",
    "                label=irisData.target_names[c])\n",
    "        axs[i,j].set_xlabel(irisData.feature_names[x])\n",
    "        axs[i,j].set_ylabel(irisData.feature_names[y])\n",
    "pl.show()"
   ]
  },
  {
   "cell_type": "markdown",
   "metadata": {},
   "source": [
    "Dans la plupart des graphiques, la classe rouge peut être linéairement séparée des deux autres à l'aide de seulement deux attributs. Par contre, on constate qu'avec la plupart des couples de variables, les classes bleue et verte sont souvent confondues (très peu dans le cas de sepal-width / petal width). "
   ]
  },
  {
   "cell_type": "markdown",
   "metadata": {
    "id": "tIRdxF14H0yF"
   },
   "source": [
    "##### Extraire des statistiques des données\n",
    "Un autre type de données est très utile : les dictionnaires. Alors qu'une liste est indexée par des entiers positifs, un dictionnaire peut être indexé par (presque) tout :"
   ]
  },
  {
   "cell_type": "code",
   "execution_count": 55,
   "metadata": {
    "id": "nkHo1lzjH0yH"
   },
   "outputs": [
    {
     "name": "stdout",
     "output_type": "stream",
     "text": [
      "['Ready Player One', 'Magnolia']\n",
      "Les clés :  dict_keys(['film', 'duree', 42])\n",
      "Les valeurs :  dict_values([['Ready Player One', 'Magnolia'], [120, 90], ['et', 'oui']])\n",
      "A la fin :  {'film': ['Ready Player One', 'Magnolia', 'Les valseuses'], 'duree': [120, 90], 42: ['et', 'oui'], 'Annee': 2018}\n"
     ]
    }
   ],
   "source": [
    "d = {}    # Création d'un dictionnaire vide\n",
    "d = {\"film\":[\"Ready Player One\", \"Magnolia\"], \"duree\": [120, 90], 42:[\"et\", \"oui\"] }\n",
    "print(d[\"film\"])\n",
    "print(\"Les clés : \", d.keys())\n",
    "print(\"Les valeurs : \", d.values())\n",
    "d[\"film\"].append(\"Les valseuses\")\n",
    "d[\"Annee\"]=2018\n",
    "print(\"A la fin : \", d)"
   ]
  },
  {
   "cell_type": "markdown",
   "metadata": {
    "id": "uBFz8-O-H0yI"
   },
   "source": [
    "**Question.** En lisant les données une par une, remplir un dictionnaire *dico* dont les clés sont les noms des features dans le jeu de données iris."
   ]
  },
  {
   "cell_type": "code",
   "execution_count": 56,
   "metadata": {
    "id": "HJCiePktH0yJ"
   },
   "outputs": [
    {
     "name": "stdout",
     "output_type": "stream",
     "text": [
      "{'sepal length (cm)': array([5.1, 4.9, 4.7, 4.6, 5. , 5.4, 4.6, 5. , 4.4, 4.9, 5.4, 4.8, 4.8,\n",
      "       4.3, 5.8, 5.7, 5.4, 5.1, 5.7, 5.1, 5.4, 5.1, 4.6, 5.1, 4.8, 5. ,\n",
      "       5. , 5.2, 5.2, 4.7, 4.8, 5.4, 5.2, 5.5, 4.9, 5. , 5.5, 4.9, 4.4,\n",
      "       5.1, 5. , 4.5, 4.4, 5. , 5.1, 4.8, 5.1, 4.6, 5.3, 5. , 7. , 6.4,\n",
      "       6.9, 5.5, 6.5, 5.7, 6.3, 4.9, 6.6, 5.2, 5. , 5.9, 6. , 6.1, 5.6,\n",
      "       6.7, 5.6, 5.8, 6.2, 5.6, 5.9, 6.1, 6.3, 6.1, 6.4, 6.6, 6.8, 6.7,\n",
      "       6. , 5.7, 5.5, 5.5, 5.8, 6. , 5.4, 6. , 6.7, 6.3, 5.6, 5.5, 5.5,\n",
      "       6.1, 5.8, 5. , 5.6, 5.7, 5.7, 6.2, 5.1, 5.7, 6.3, 5.8, 7.1, 6.3,\n",
      "       6.5, 7.6, 4.9, 7.3, 6.7, 7.2, 6.5, 6.4, 6.8, 5.7, 5.8, 6.4, 6.5,\n",
      "       7.7, 7.7, 6. , 6.9, 5.6, 7.7, 6.3, 6.7, 7.2, 6.2, 6.1, 6.4, 7.2,\n",
      "       7.4, 7.9, 6.4, 6.3, 6.1, 7.7, 6.3, 6.4, 6. , 6.9, 6.7, 6.9, 5.8,\n",
      "       6.8, 6.7, 6.7, 6.3, 6.5, 6.2, 5.9]), 'sepal width (cm)': array([3.5, 3. , 3.2, 3.1, 3.6, 3.9, 3.4, 3.4, 2.9, 3.1, 3.7, 3.4, 3. ,\n",
      "       3. , 4. , 4.4, 3.9, 3.5, 3.8, 3.8, 3.4, 3.7, 3.6, 3.3, 3.4, 3. ,\n",
      "       3.4, 3.5, 3.4, 3.2, 3.1, 3.4, 4.1, 4.2, 3.1, 3.2, 3.5, 3.6, 3. ,\n",
      "       3.4, 3.5, 2.3, 3.2, 3.5, 3.8, 3. , 3.8, 3.2, 3.7, 3.3, 3.2, 3.2,\n",
      "       3.1, 2.3, 2.8, 2.8, 3.3, 2.4, 2.9, 2.7, 2. , 3. , 2.2, 2.9, 2.9,\n",
      "       3.1, 3. , 2.7, 2.2, 2.5, 3.2, 2.8, 2.5, 2.8, 2.9, 3. , 2.8, 3. ,\n",
      "       2.9, 2.6, 2.4, 2.4, 2.7, 2.7, 3. , 3.4, 3.1, 2.3, 3. , 2.5, 2.6,\n",
      "       3. , 2.6, 2.3, 2.7, 3. , 2.9, 2.9, 2.5, 2.8, 3.3, 2.7, 3. , 2.9,\n",
      "       3. , 3. , 2.5, 2.9, 2.5, 3.6, 3.2, 2.7, 3. , 2.5, 2.8, 3.2, 3. ,\n",
      "       3.8, 2.6, 2.2, 3.2, 2.8, 2.8, 2.7, 3.3, 3.2, 2.8, 3. , 2.8, 3. ,\n",
      "       2.8, 3.8, 2.8, 2.8, 2.6, 3. , 3.4, 3.1, 3. , 3.1, 3.1, 3.1, 2.7,\n",
      "       3.2, 3.3, 3. , 2.5, 3. , 3.4, 3. ]), 'petal length (cm)': array([1.4, 1.4, 1.3, 1.5, 1.4, 1.7, 1.4, 1.5, 1.4, 1.5, 1.5, 1.6, 1.4,\n",
      "       1.1, 1.2, 1.5, 1.3, 1.4, 1.7, 1.5, 1.7, 1.5, 1. , 1.7, 1.9, 1.6,\n",
      "       1.6, 1.5, 1.4, 1.6, 1.6, 1.5, 1.5, 1.4, 1.5, 1.2, 1.3, 1.4, 1.3,\n",
      "       1.5, 1.3, 1.3, 1.3, 1.6, 1.9, 1.4, 1.6, 1.4, 1.5, 1.4, 4.7, 4.5,\n",
      "       4.9, 4. , 4.6, 4.5, 4.7, 3.3, 4.6, 3.9, 3.5, 4.2, 4. , 4.7, 3.6,\n",
      "       4.4, 4.5, 4.1, 4.5, 3.9, 4.8, 4. , 4.9, 4.7, 4.3, 4.4, 4.8, 5. ,\n",
      "       4.5, 3.5, 3.8, 3.7, 3.9, 5.1, 4.5, 4.5, 4.7, 4.4, 4.1, 4. , 4.4,\n",
      "       4.6, 4. , 3.3, 4.2, 4.2, 4.2, 4.3, 3. , 4.1, 6. , 5.1, 5.9, 5.6,\n",
      "       5.8, 6.6, 4.5, 6.3, 5.8, 6.1, 5.1, 5.3, 5.5, 5. , 5.1, 5.3, 5.5,\n",
      "       6.7, 6.9, 5. , 5.7, 4.9, 6.7, 4.9, 5.7, 6. , 4.8, 4.9, 5.6, 5.8,\n",
      "       6.1, 6.4, 5.6, 5.1, 5.6, 6.1, 5.6, 5.5, 4.8, 5.4, 5.6, 5.1, 5.1,\n",
      "       5.9, 5.7, 5.2, 5. , 5.2, 5.4, 5.1]), 'petal width (cm)': array([0.2, 0.2, 0.2, 0.2, 0.2, 0.4, 0.3, 0.2, 0.2, 0.1, 0.2, 0.2, 0.1,\n",
      "       0.1, 0.2, 0.4, 0.4, 0.3, 0.3, 0.3, 0.2, 0.4, 0.2, 0.5, 0.2, 0.2,\n",
      "       0.4, 0.2, 0.2, 0.2, 0.2, 0.4, 0.1, 0.2, 0.2, 0.2, 0.2, 0.1, 0.2,\n",
      "       0.2, 0.3, 0.3, 0.2, 0.6, 0.4, 0.3, 0.2, 0.2, 0.2, 0.2, 1.4, 1.5,\n",
      "       1.5, 1.3, 1.5, 1.3, 1.6, 1. , 1.3, 1.4, 1. , 1.5, 1. , 1.4, 1.3,\n",
      "       1.4, 1.5, 1. , 1.5, 1.1, 1.8, 1.3, 1.5, 1.2, 1.3, 1.4, 1.4, 1.7,\n",
      "       1.5, 1. , 1.1, 1. , 1.2, 1.6, 1.5, 1.6, 1.5, 1.3, 1.3, 1.3, 1.2,\n",
      "       1.4, 1.2, 1. , 1.3, 1.2, 1.3, 1.3, 1.1, 1.3, 2.5, 1.9, 2.1, 1.8,\n",
      "       2.2, 2.1, 1.7, 1.8, 1.8, 2.5, 2. , 1.9, 2.1, 2. , 2.4, 2.3, 1.8,\n",
      "       2.2, 2.3, 1.5, 2.3, 2. , 2. , 1.8, 2.1, 1.8, 1.8, 1.8, 2.1, 1.6,\n",
      "       1.9, 2. , 2.2, 1.5, 1.4, 2.3, 2.4, 1.8, 1.8, 2.1, 2.4, 2.3, 1.9,\n",
      "       2.3, 2.5, 2.3, 1.9, 2. , 2.3, 1.8])}\n"
     ]
    }
   ],
   "source": [
    "col = 0\n",
    "dico = {}\n",
    "for name in irisData.feature_names:\n",
    "    dico[name] = irisData.data[:,col]\n",
    "    col += 1\n",
    "\n",
    "print(dico)"
   ]
  },
  {
   "cell_type": "markdown",
   "metadata": {
    "id": "-cRc9ADcH0yL"
   },
   "source": [
    "**Question.** Ecrire une fonction display_stat qui prend en entrée un dictionnaire avec les clés de la question précédente et renvoie les statistiques 'moyenne', 'valeur max', 'valeur min', et 'déviation standard' pour chacun des 4 attributs. Ces fonctions sont toutes déjà définies dans le module numpy. Le résultat pourra se présenter sous la forme d'un tableau (pas aussi beau, là c'est du markdown):\n",
    "\n",
    "| Attribut | min | max | moyenne | std |\n",
    "| --- | --- | --- | --- | --- |\n",
    "| sepal_length | 4.30 | 7.90 | 5.84 | 0.83 |\n",
    "| sepal_width | 2.00 |4.40 | 3.05 | 0.43 |\n",
    "| petal_length | 1.00 | 6.90 | 3.76 | 1.76 |\n",
    "| petal_width | 0.10 | 2.50 | 1.20 | 0.76 |\n",
    "\n"
   ]
  },
  {
   "cell_type": "code",
   "execution_count": 57,
   "metadata": {
    "id": "gq6BaF8UH0yM"
   },
   "outputs": [
    {
     "name": "stdout",
     "output_type": "stream",
     "text": [
      "sepal length (cm) :  4.3 \t 7.9 \t 5.843333333333334 \t 0.8253012917851409\n",
      "sepal width (cm) :  2.0 \t 4.4 \t 3.0573333333333337 \t 0.4344109677354946\n",
      "petal length (cm) :  1.0 \t 6.9 \t 3.7580000000000005 \t 1.759404065775303\n",
      "petal width (cm) :  0.1 \t 2.5 \t 1.1993333333333336 \t 0.7596926279021594\n"
     ]
    }
   ],
   "source": [
    "import numpy as np\n",
    "\n",
    "def display_stat(d):\n",
    "    for key, val in d.items():\n",
    "        print(key, ': ', val.min(), '\\t', val.max(), '\\t', val.mean(), '\\t',val.std())\n",
    "# A vous\n",
    "display_stat(dico)"
   ]
  },
  {
   "cell_type": "markdown",
   "metadata": {
    "id": "Klbj_dFtH0yP"
   },
   "source": [
    "**Question.** (ne pas y passer plus de 15mn, mais à essayer tout de même). Utiliser cette fonction sur les données pour chacune des classes. Pour cela, il pourrait être utile de créer un dictionnaire par classe. \n",
    "\n",
    "Astuce: on peut s'intéresser à la fonction numpy.where(tab=condition), qui retourne un tableau bi-dimensionnel dont le premier item contient les INDICES des éléments de tab qui satisfont la condition. (En réalité, cette fonction permet beaucoup plus de choses, cf. la documentation complète, mais nous n'en avons pas besoin ici.)"
   ]
  },
  {
   "cell_type": "code",
   "execution_count": 62,
   "metadata": {},
   "outputs": [
    {
     "name": "stdout",
     "output_type": "stream",
     "text": [
      "(array([3, 4]),)\n",
      "[[1.5e-323]\n",
      " [2.0e-323]]\n"
     ]
    }
   ],
   "source": [
    "t_in = np.array([3, 7, 8, 9, 10])\n",
    "t_out = np.where(t_in > 8)\n",
    "print(t_out)"
   ]
  },
  {
   "cell_type": "code",
   "execution_count": 59,
   "metadata": {
    "id": "8zS6moYdH0yQ"
   },
   "outputs": [
    {
     "name": "stdout",
     "output_type": "stream",
     "text": [
      "classe  setosa : \n",
      "sepal length (cm) :  4.3 \t 5.8 \t 5.006 \t 0.3489469873777391\n",
      "sepal width (cm) :  2.3 \t 4.4 \t 3.428 \t 0.37525458025186054\n",
      "petal length (cm) :  1.0 \t 1.9 \t 1.4620000000000002 \t 0.17191858538273283\n",
      "petal width (cm) :  0.1 \t 0.6 \t 0.24599999999999997 \t 0.1043264108459598\n",
      "classe  versicolor : \n",
      "sepal length (cm) :  4.9 \t 7.0 \t 5.936 \t 0.5109833656783751\n",
      "sepal width (cm) :  2.0 \t 3.4 \t 2.7700000000000005 \t 0.31064449134018135\n",
      "petal length (cm) :  3.0 \t 5.1 \t 4.26 \t 0.4651881339845203\n",
      "petal width (cm) :  1.0 \t 1.8 \t 1.3259999999999998 \t 0.19576516544063705\n",
      "classe  virginica : \n",
      "sepal length (cm) :  4.9 \t 7.9 \t 6.587999999999998 \t 0.6294886813914926\n",
      "sepal width (cm) :  2.2 \t 3.8 \t 2.974 \t 0.3192553836664309\n",
      "petal length (cm) :  4.5 \t 6.9 \t 5.5520000000000005 \t 0.546347874526844\n",
      "petal width (cm) :  1.4 \t 2.5 \t 2.0260000000000002 \t 0.2718896835115301\n"
     ]
    }
   ],
   "source": [
    "dico_classes = {}\n",
    "Y = irisData.target\n",
    "for classe in irisData.target_names:\n",
    "    iclasse = np.where(irisData.target_names==classe)\n",
    "    dico = {}\n",
    "    ex = []\n",
    "    for i in range(len(Y)):\n",
    "        if Y[i]==iclasse:\n",
    "            ex.append(i)\n",
    "    col = 0\n",
    "    for name in irisData.feature_names:\n",
    "        dico[name] = irisData.data[ex,col]\n",
    "        col += 1\n",
    "    dico_classes[classe] = dico\n",
    "    print(\"classe \", classe, \": \")\n",
    "    display_stat(dico)"
   ]
  },
  {
   "cell_type": "markdown",
   "metadata": {},
   "source": [
    "## 3. Effets de normalisation\n",
    "\n",
    "**Question.** Ecrire les instructions python qui permettent de récupérer le jeu de données pommes-bananes (fruits.csv)."
   ]
  },
  {
   "cell_type": "code",
   "execution_count": 12,
   "metadata": {},
   "outputs": [
    {
     "data": {
      "text/html": [
       "<div>\n",
       "<style scoped>\n",
       "    .dataframe tbody tr th:only-of-type {\n",
       "        vertical-align: middle;\n",
       "    }\n",
       "\n",
       "    .dataframe tbody tr th {\n",
       "        vertical-align: top;\n",
       "    }\n",
       "\n",
       "    .dataframe thead th {\n",
       "        text-align: right;\n",
       "    }\n",
       "</style>\n",
       "<table border=\"1\" class=\"dataframe\">\n",
       "  <thead>\n",
       "    <tr style=\"text-align: right;\">\n",
       "      <th></th>\n",
       "      <th>Weight</th>\n",
       "      <th>Length</th>\n",
       "      <th>Fruit</th>\n",
       "    </tr>\n",
       "  </thead>\n",
       "  <tbody>\n",
       "    <tr>\n",
       "      <th>count</th>\n",
       "      <td>20.000000</td>\n",
       "      <td>20.000000</td>\n",
       "      <td>20.000000</td>\n",
       "    </tr>\n",
       "    <tr>\n",
       "      <th>mean</th>\n",
       "      <td>155.450000</td>\n",
       "      <td>12.950000</td>\n",
       "      <td>0.500000</td>\n",
       "    </tr>\n",
       "    <tr>\n",
       "      <th>std</th>\n",
       "      <td>29.247537</td>\n",
       "      <td>5.423875</td>\n",
       "      <td>0.512989</td>\n",
       "    </tr>\n",
       "    <tr>\n",
       "      <th>min</th>\n",
       "      <td>112.000000</td>\n",
       "      <td>6.000000</td>\n",
       "      <td>0.000000</td>\n",
       "    </tr>\n",
       "    <tr>\n",
       "      <th>25%</th>\n",
       "      <td>142.000000</td>\n",
       "      <td>7.750000</td>\n",
       "      <td>0.000000</td>\n",
       "    </tr>\n",
       "    <tr>\n",
       "      <th>50%</th>\n",
       "      <td>150.500000</td>\n",
       "      <td>13.500000</td>\n",
       "      <td>0.500000</td>\n",
       "    </tr>\n",
       "    <tr>\n",
       "      <th>75%</th>\n",
       "      <td>171.750000</td>\n",
       "      <td>18.000000</td>\n",
       "      <td>1.000000</td>\n",
       "    </tr>\n",
       "    <tr>\n",
       "      <th>max</th>\n",
       "      <td>206.000000</td>\n",
       "      <td>20.000000</td>\n",
       "      <td>1.000000</td>\n",
       "    </tr>\n",
       "  </tbody>\n",
       "</table>\n",
       "</div>"
      ],
      "text/plain": [
       "           Weight     Length      Fruit\n",
       "count   20.000000  20.000000  20.000000\n",
       "mean   155.450000  12.950000   0.500000\n",
       "std     29.247537   5.423875   0.512989\n",
       "min    112.000000   6.000000   0.000000\n",
       "25%    142.000000   7.750000   0.000000\n",
       "50%    150.500000  13.500000   0.500000\n",
       "75%    171.750000  18.000000   1.000000\n",
       "max    206.000000  20.000000   1.000000"
      ]
     },
     "execution_count": 12,
     "metadata": {},
     "output_type": "execute_result"
    }
   ],
   "source": [
    "import pandas as pd\n",
    "poba = pd.read_csv('fruits.csv')\n",
    "poba.describe()"
   ]
  },
  {
   "cell_type": "markdown",
   "metadata": {},
   "source": [
    "**Question.** Pour chaque type de normalisation vu en cours (slide 18 du CM1), écrire le code d'une fonction qui prend en paramètre la matrice de données initiale, et retourne une copie normalisée de cette matrice. **Attention**, la dernière colonne indique la catégorie (classe du fruit, pommme ou banane: cette colonne ne doit pas être prise en compte dans les normalisations.\n",
    "\n",
    "On donne la première normalisation (MinMax), pour aider la prise en main des fonctionnalités pandas:"
   ]
  },
  {
   "cell_type": "code",
   "execution_count": 93,
   "metadata": {},
   "outputs": [],
   "source": [
    "# X est un dataframe\n",
    "def normaMinMax(X):\n",
    "    Xn = X.copy()\n",
    "    Xn.drop(columns=\"Fruit\") # pour ne pas tenir compte de cette information\n",
    "    nbl, nbc = Xn.shape\n",
    "    for i in range(nbl):\n",
    "        for j in range(nbc):\n",
    "            Xn.iloc[i,j] = ( X.iloc[i,j] - X.iloc[:,j].min() ) / (X.iloc[:,j].max() - X.iloc[:,j].min())\n",
    "    Xn[\"Fruit\"] = X[\"Fruit\"]\n",
    "    return Xn"
   ]
  },
  {
   "cell_type": "code",
   "execution_count": 94,
   "metadata": {},
   "outputs": [],
   "source": [
    "# A vous\n",
    "\n",
    "def normaMean(X):\n",
    "    Xn = X.copy()\n",
    "    Xn.drop(columns=\"Fruit\") # pour ne pas tenir compte de cette information\n",
    "    nbl, nbc = Xn.shape\n",
    "    for i in range(nbl):\n",
    "        for j in range(nbc):\n",
    "            mean_j = X.iloc[:,j].mean()\n",
    "            Xn.iloc[i,j] = ( X.iloc[i,j] - mean_j ) / (X.iloc[:,j].max() - X.iloc[:,j].min())\n",
    "    Xn[\"Fruit\"] = X[\"Fruit\"]\n",
    "    return Xn\n",
    "\n",
    "def normaStandard(X):\n",
    "    Xn = X.copy()\n",
    "    Xn.drop(columns=\"Fruit\") # pour ne pas tenir compte de cette information\n",
    "    nbl, nbc = Xn.shape\n",
    "    for i in range(nbl):\n",
    "        for j in range(nbc):\n",
    "            mean_j = X.iloc[:,j].mean()\n",
    "            std_j = X.iloc[:,j].std()\n",
    "            Xn.iloc[i,j] = ( X.iloc[i,j] - mean_j ) / std_j\n",
    "    Xn[\"Fruit\"] = X[\"Fruit\"]\n",
    "    return Xn\n",
    "\n",
    "from numpy import linalg as LA\n",
    "\n",
    "def normaProjBall(X):\n",
    "    Xn = X.copy()\n",
    "    Xn.drop(columns=\"Fruit\") # pour ne pas tenir compte de cette information\n",
    "    nbl, nbc = Xn.shape\n",
    "    for i in range(nbl):\n",
    "        for j in range(nbc):\n",
    "            mean_j = X.iloc[:,j].mean()\n",
    "            norm_j = LA.norm(np.array(X.iloc[:,j]))\n",
    "            Xn.iloc[i,j] = ( X.iloc[i,j] - mean_j ) / norm_j\n",
    "    Xn[\"Fruit\"] = X[\"Fruit\"]\n",
    "    return Xn"
   ]
  },
  {
   "cell_type": "markdown",
   "metadata": {},
   "source": [
    "**Question.** Pour chaque type de normalisation ci-avant, produire le nuage de points ainsi normalisé."
   ]
  },
  {
   "cell_type": "code",
   "execution_count": 92,
   "metadata": {},
   "outputs": [
    {
     "data": {
      "image/png": "[encoded data removed]",
      "text/plain": [
       "<Figure size 504x360 with 1 Axes>"
      ]
     },
     "metadata": {
      "needs_background": "light"
     },
     "output_type": "display_data"
    },
    {
     "data": {
      "image/png": "[encoded data removed]",
      "text/plain": [
       "<Figure size 1152x720 with 4 Axes>"
      ]
     },
     "metadata": {
      "needs_background": "light"
     },
     "output_type": "display_data"
    }
   ],
   "source": [
    "import pylab as pl\n",
    "\n",
    "colors = [\"red\", \"blue\"]\n",
    "fruits = [\"pomme\", \"banane\"]\n",
    "titre = [\"MinMax\", \"Moyenne\", \"Standardisation\", \"Sphere\"]\n",
    "\n",
    "pl.figure(figsize = (7,5))\n",
    "\n",
    "TXd = np.array(poba.iloc[:,0:2]) # deux premieres colonnes\n",
    "TXt = np.array(poba.iloc[:,2])    \n",
    "for c in range(2):\n",
    "    pl.scatter(TXd[TXt==c][:, 0], TXd[TXt==c][:, 1], color = colors[c],\\\n",
    "               label = fruits[c])\n",
    "    \n",
    "pl.legend()\n",
    "pl.xlabel(\"Weight\")\n",
    "pl.ylabel(\"Length\")\n",
    "pl.title(\"Donnees initiales\")\n",
    "pl.show()\n",
    "\n",
    "N = [normaMinMax(poba), normaMean(poba), normaStandard(poba), normaProjBall(poba)]\n",
    "fig, axs = pl.subplots(2, 2, figsize=(16,10))\n",
    "\n",
    "k = 0 # indice du nuage de points\n",
    "for x in range(2): #  position du nuage de points a afficher sur abscisse de grille de nuages\n",
    "    for y in range(2): # position du nuage de points a afficher sur ordonnee de grille de nuages\n",
    "        i = k // 2\n",
    "        j = k % 2\n",
    "        TNkd = np.array(N[k].iloc[:,0:2]) # deux premieres colonnes\n",
    "        TNkt = np.array(N[k].iloc[:,2])   # derniere colonne: la classe pour la couleur\n",
    "        k = k + 1\n",
    "        for c in range(2): #pour chaque couleur (classe)\n",
    "            # affichage du nuage de points\n",
    "            axs[i,j].scatter(TNkd[TNkt==c][:,0], TNkd[TNkt==c][:,1], color = colors[c], label = fruits[c])\n",
    "        axs[i,j].set_xlabel(\"Weight\")\n",
    "        axs[i,j].set_ylabel(\"Length\")\n",
    "        axs[i,j].set_title(titre[k-1])\n",
    "pl.show()"
   ]
  },
  {
   "cell_type": "markdown",
   "metadata": {},
   "source": [
    "Commenter sur l'effet de chacune de ces normalisation (respect des variance, de la dispersion, de la topologie, etc.)## 3. sklearn et Pandas fonctionnent ensemble"
   ]
  },
  {
   "cell_type": "markdown",
   "metadata": {},
   "source": [
    "=> On remarque que les variances et dispersions semblent respectées quelle que soit le mode de normalisation choisie. Ce qui change, ce sont les plages de valeurs, l'amplitude relative des valeurs de chaque colonne, donc finalement la possibilité de comparer les deux colonnes (variables) qui sont du même ordre de grandeur, avec ou sans moyennes et/ou écart-types identiques."
   ]
  },
  {
   "cell_type": "markdown",
   "metadata": {},
   "source": [
    "## 4. Sklearn et Pandas fonctionnent ensemble\n",
    "\n",
    "En réalité, les quelques lignes de code données en cours utilisent la librairie pandas, compatible avec numpy. Pandas est un outil de référence en science des données, et doit être connu en sciences des données. \n",
    "Nous allons voir rapidement ici, comment passer de l'un à l'autre.\n",
    "\n",
    "Un DataFrame pandas est la structure de base pour stocker tout ce qui est nécessaire dans un jeu de données. La différence majeure avec un jeu de données sklearn est que target et features de sklearn sont toutes des séries dans pandas (des colonnes, des variables). Cela provient du fait que pandas est plus issu de la science statistique des données que par l'apprentissage automatique. A part cela, ces structures utilisent largement les structures classes/objets et dictionnaires.\n",
    "\n",
    "Voyons comment passer d'un jeu de données sklearn à un jeu de données pandas."
   ]
  },
  {
   "cell_type": "code",
   "execution_count": null,
   "metadata": {},
   "outputs": [],
   "source": [
    "import pandas as pd\n",
    "irisData = load_iris()\n",
    "irisdf = pd.DataFrame(data = np.c_[irisData['data'], irisData['target'].astype(int)],\n",
    "                      columns = irisData['feature_names'] + ['target'])\n",
    "irisdf"
   ]
  },
  {
   "cell_type": "markdown",
   "metadata": {},
   "source": [
    "La conversion inverse est plus délicate, car nous devons identifier et spécifier la target d'un dataset sklearn."
   ]
  },
  {
   "cell_type": "code",
   "execution_count": null,
   "metadata": {},
   "outputs": [],
   "source": [
    "# A vous\n",
    "from sklearn.utils import Bunch\n",
    "datasetIris = Bunch()\n",
    "datasetIris.data = irisdf.to_numpy()[:,0:-1]\n",
    "datasetIris.target = irisdf.to_numpy()[:,-1]\n",
    "print(datasetIris)"
   ]
  },
  {
   "cell_type": "markdown",
   "metadata": {
    "id": "WXkhXIZCl8YW"
   },
   "source": [
    "## 5. ACP  (bonus si rendu à J+2)\n",
    "\n",
    "Nous allons maintenant s'intéresser à la méthode ACP pour la réduction de dimension et la visualisation. Pour cela, nous allons utiliser le jeu de données de chiffrs manuscriptes `digits`.\n",
    "\n",
    " ![img](https://www.tensorflow.org/images/MNIST.png)"
   ]
  },
  {
   "cell_type": "markdown",
   "metadata": {
    "id": "KlbXp2fcrDUc"
   },
   "source": [
    "Le jeu de données `digits` est aussi disponible dans scikit-learn. Téléchargez le jeu de données `digits`.\n",
    "\n"
   ]
  },
  {
   "cell_type": "code",
   "execution_count": null,
   "metadata": {
    "id": "3Uy4ii_kl_uB"
   },
   "outputs": [],
   "source": [
    "from sklearn.datasets import load_digits\n",
    "digits = load_digits()\n"
   ]
  },
  {
   "cell_type": "markdown",
   "metadata": {
    "id": "0eg7c94Ms7iY"
   },
   "source": [
    "Affichez la dimension du jeu de données."
   ]
  },
  {
   "cell_type": "code",
   "execution_count": null,
   "metadata": {
    "id": "aKN8PZbutDZZ"
   },
   "outputs": [],
   "source": [
    "digits.data.shape"
   ]
  },
  {
   "cell_type": "markdown",
   "metadata": {
    "id": "1Rd34e16tKHV"
   },
   "source": [
    "Le jeu de données contient 1797 données. Chaque donnée est un vecteur de 64 valeurs. Ces valeurs correspondent aux pixels d'une image de taille $8 \\times 8$. Affichons quelques données."
   ]
  },
  {
   "cell_type": "code",
   "execution_count": null,
   "metadata": {
    "id": "ay3Ojdf1uFBv"
   },
   "outputs": [],
   "source": [
    "import matplotlib.pyplot as plt\n",
    "from itertools import product\n",
    "\n",
    "images = digits.images.astype(np.int_)\n",
    "print(images.shape)\n",
    "\n",
    "n_rows = 8\n",
    "n_cols = 8\n",
    "\n",
    "fig, ax = plt.subplots(nrows=n_rows, ncols=n_cols, figsize=(10, 10))\n",
    "for i, j in product(range(n_rows), range(n_cols)):\n",
    "    k = n_cols * i + j\n",
    "    image = images[k,0:8,0:8]\n",
    "    ax[i, j].imshow(image, cmap='binary', interpolation='none')\n",
    "    ax[i, j].axis('off')\n",
    "\n",
    "plt.show()\n",
    "plt.close()\n"
   ]
  },
  {
   "cell_type": "markdown",
   "metadata": {
    "id": "y5hV_XyuyKIi"
   },
   "source": [
    "Nous allons maintenant projeter les données dans un espace dans un espace de plus petite dimension utilisant l'ACP. Nous pouvons par exemple les projeter dans un espace de dimension 2. C'est à dire que nous allons transformer chaque donnée de dimension 64 en une donnée de dimension 2."
   ]
  },
  {
   "cell_type": "code",
   "execution_count": null,
   "metadata": {
    "id": "iE5JqZzTynhr"
   },
   "outputs": [],
   "source": [
    "from sklearn import decomposition\n",
    "pca = decomposition.PCA(2)  # projection dans espace à deux axes (deux dimensions)\n",
    "# fit_transform calcule l'ACP sur la base des données, ie les composantes principales, \n",
    "# puis y projète les données, par transformation linéaire des axes initiaux.\n",
    "donnees_projetes = pca.fit_transform(digits.data) \n",
    "print(digits.data.shape)\n",
    "print(donnees_projetes.shape)"
   ]
  },
  {
   "cell_type": "markdown",
   "metadata": {
    "id": "h0EIsyEUzQJq"
   },
   "source": [
    "Nous pouvons donc afficher les données projetées dans un graphique 2D."
   ]
  },
  {
   "cell_type": "code",
   "execution_count": null,
   "metadata": {
    "id": "YC0L1auwzbvV"
   },
   "outputs": [],
   "source": [
    "plt.figure(figsize=(10, 6))\n",
    "plt.scatter(donnees_projetes[:, 0], donnees_projetes[:, 1], c=digits.target, edgecolor='none', alpha=0.5,\n",
    "            cmap=plt.cm.get_cmap('nipy_spectral', 10))\n",
    "plt.xlabel('composante 1')\n",
    "plt.ylabel('composante 2')\n",
    "plt.colorbar();"
   ]
  },
  {
   "cell_type": "markdown",
   "metadata": {
    "id": "jyBus-8k1HFS"
   },
   "source": [
    "Analyser librement le résultat obtenu au regard d'une tâche de classification. Par exemple, est-il possible d'identifier les frontières entre les 10 classes de chiffres ? Quelles sont les plus grosses confusions entre chiffres ?"
   ]
  },
  {
   "cell_type": "markdown",
   "metadata": {},
   "source": [
    "On peut repérer les classes correspondant aux chiffres (par exemple, jaune = digit 6). Certaines sont homogènes en formant un cluster plutôt dense (le orange=7, le violet=1, etc.), et d'autres sont assez éclatés (par exemple, le vert 5, ou le bleu clair 3). \n",
    "\n",
    "Certaines classes se confondent peu avec les autres (ex. le gris foncé 0), alors qu'il existe des confusions entre certaines d'entre elles et beaucoup d'autres (ex. la classe 8 se mélange avec bleu vert et orange)."
   ]
  },
  {
   "cell_type": "markdown",
   "metadata": {},
   "source": [
    "Refaire cette ACP mais en ne conservant les 3 premières composantes principales, et visualiser la transformation des données dans le nouvel espace obtenu. Commenter au regard de l'espace 2D précédent."
   ]
  },
  {
   "cell_type": "code",
   "execution_count": null,
   "metadata": {},
   "outputs": [],
   "source": [
    "from sklearn import decomposition\n",
    "from mpl_toolkits.mplot3d import Axes3D\n",
    "\n",
    "pca = decomposition.PCA(3)  # projection de dim 64 à dim 2\n",
    "donnees_projetes = pca.fit_transform(digits.data)\n",
    "\n",
    "fig = plt.figure(figsize=(12,12))\n",
    "ax = fig.add_subplot(111, projection='3d')\n",
    "ax.scatter(donnees_projetes[:, 0], donnees_projetes[:, 1], donnees_projetes[:, 2], c=digits.target, edgecolor='none', alpha=0.5,\n",
    "            cmap=plt.cm.get_cmap('nipy_spectral', 10))\n",
    "ax.set_xlabel('composante 1')\n",
    "ax.set_ylabel('composante 2')\n",
    "ax.set_zlabel('composante 3')\n",
    "plt.show()"
   ]
  },
  {
   "cell_type": "markdown",
   "metadata": {},
   "source": [
    "La plupart des clusters se détachent mieux les uns des autres avec 3 variables plutôt qu'avec deux : il y a un vrai apport d'information au regard des confusions entre classes, et toujours la possibilité de visualiser le jeu de données."
   ]
  },
  {
   "cell_type": "markdown",
   "metadata": {},
   "source": [
    "## 6. Données manquantes"
   ]
  },
  {
   "cell_type": "markdown",
   "metadata": {},
   "source": [
    "Ci-après, nous modifions le jeu de données digits en éliminant de façon aléatoire des valeurs de colonnes pour certaines valeurs de colonnes dans certains exemples. Cette élimination revient à changer la valeur concernée vers la valeur \"Not a Number\" (`math.nan`)\n",
    "\n",
    "Nous créons trois versions du jeu avec données manquantes pour tester 3 méthodes."
   ]
  },
  {
   "cell_type": "code",
   "execution_count": null,
   "metadata": {},
   "outputs": [],
   "source": [
    "import numpy as np\n",
    "from sklearn.datasets import load_digits\n",
    "import random\n",
    "import math\n",
    "digits = load_digits()\n",
    "miss_digits = load_digits()\n",
    "nbmissingvalues = random.randint(1000,2000)\n",
    "for imissingvalue in range(nbmissingvalues):\n",
    "    lig = random.randint(0,1763)\n",
    "    col = random.randint(0,63)\n",
    "    miss_digits.data[lig,col] = math.nan\n",
    "mdd1 = miss_digits.data.copy() # pour tester methode 1\n",
    "mdd2 = miss_digits.data.copy() # pour tester methode 2 \n",
    "mdd3 = miss_digits.data.copy() # pour tester methode 3"
   ]
  },
  {
   "cell_type": "markdown",
   "metadata": {},
   "source": [
    "Combien de valeurs sont manquantes globalement ? Combien de valeurs sont manquantes, colonne par colonne~? \n",
    "\n",
    "Il est conseillé d'écrire ici deux fonctions pour répondre à ces questions, chacune prenant en paramètre la matrice des données, car elles pourront être réutilisées par la suite pour vérifier que les valeurs d'une matrice ont été complétées."
   ]
  },
  {
   "cell_type": "code",
   "execution_count": null,
   "metadata": {},
   "outputs": [],
   "source": [
    "\n",
    "def nb_val_manquantes(D):\n",
    "    nbmv = 0\n",
    "    for x in np.nditer(D):\n",
    "       if np.isnan(x):\n",
    "        nbmv += 1\n",
    "    return nbmv\n",
    "\n",
    "nbmv = nb_val_manquantes(mdd1)\n"
   ]
  },
  {
   "cell_type": "code",
   "execution_count": null,
   "metadata": {},
   "outputs": [],
   "source": [
    "def nbvmanquantes_col(X):\n",
    "    nbcol = X.shape[1]\n",
    "    nbmvcol = np.zeros(nbcol, dtype=int)\n",
    "    for col in range(nbcol):\n",
    "        for x in np.nditer(X[:,col]):\n",
    "            if np.isnan(x):\n",
    "                nbmvcol[col] += 1\n",
    "    return nbmvcol\n",
    "\n",
    "nbmvcol = nbvmanquantes_col(mdd1)\n",
    "print(\"Nombre de valeurs manquantes colonne par colonne \", nbmvcol)\n",
    "print(\"Verification: \", nbmv,\" = \", nbmvcol.sum(),\" ?\")"
   ]
  },
  {
   "cell_type": "markdown",
   "metadata": {},
   "source": [
    "On veut maintenant comparer trois méthodes pour compléter ces valeurs manquantes:\n",
    "\n",
    "1. Complétion stationnaire (valeur la plus fréquente pour cette colonne)\n",
    "2. Complétion par combinaison linéaire (moyenne des valeurs de cette colonne pour la classe de l'exemple concerné)\n",
    "3. Complétion par l'algorithme des $k$ plus proches voisins\n",
    "\n",
    "Pour mesurer la qualité de chaque méthode, nous calculons le score d'écart moyen au carré $e_m$ pour chaque méthode $m$. Pour chaque ligne $i$ et colonne $j$, soit $\\acute{x_{i,j}}$ la valeur imputée par $m$  à la variable $x_{i,j}$ qui était manquante. Alors nous avons $$e_m = \\sum_{i,j} (x_{i,j}-\\acute{x_{i,j}})^2$$\n",
    "Plus $e_m$ est petit, meilleure est la méthode $m$.\n",
    "\n",
    "(Notons que dans le cas de cet exercice, nous avons dans `digits` les vraies valeurs qui manquent dans `miss_digits`, mais en général nous ne pouvons pas puisque les valeurs manquent. Ici, l'objectif est de comparer lmes méthodes. Nous verrons dans d'autres TPs comment choisir la meilleure méthode dans le cas général).\n",
    "\n",
    "L'objectif de cet exercice est de réaliser ces trois méthodes, soit en les codant, soit en récupérant ce qui existe dans `sklearn` ou dans `pandas` (mais alors il faut être capable de lire la documentation). \n",
    "\n",
    "Indiquer le(s) programme(s) permettant de compléter les valeurs manquantes selon les trois méthodes ci-dessus, et les ordonner de la meilleure à la moins bonne. "
   ]
  },
  {
   "cell_type": "code",
   "execution_count": null,
   "metadata": {},
   "outputs": [],
   "source": [
    "# PREMIERE METHODE : stationnaire (pas de nouvelle valeur)\n",
    "data = mdd1\n",
    "print(\"VAL MANQUANTES AVANT \", nb_val_manquantes(mdd1))\n",
    "nbcol = data.shape[1]\n",
    "nbmvcol = np.zeros(nbcol, dtype=int)\n",
    "for col in range(nbcol):\n",
    "    freq = np.unique(data[:,col], return_counts=True)\n",
    "    index = np.argmax(freq[1])\n",
    "    mostfrequent_value = freq[0][index]\n",
    "    for i in range(data.shape[0]):\n",
    "        if np.isnan(data[i,col]):\n",
    "            data[i,col] = mostfrequent_value\n",
    "\n",
    "mdd1 = data\n",
    "\n",
    "print(\"VAL MANQUANTES APRES \", nb_val_manquantes(mdd1))"
   ]
  },
  {
   "cell_type": "code",
   "execution_count": null,
   "metadata": {},
   "outputs": [],
   "source": [
    "# DEUXIEME METHODE (moyenne conditionnee par les classes)\n",
    "nbcol = data.shape[1]\n",
    "print(\"VAL MANQUANTES AVANT \", nb_val_manquantes(mdd2))\n",
    "data = mdd2\n",
    "\n",
    "nbmvcol = np.zeros(nbcol, dtype=int)\n",
    "targets = miss_digits.target\n",
    "iex = []\n",
    "for classe in range(10): # index des exemples de chaque classe\n",
    "    iex.append(np.argwhere(targets==classe))\n",
    "for col in range(nbcol):\n",
    "#    moyenne_classes = np.zeros(10)\n",
    "    for classe in range(10):\n",
    "        # recuperation de la moyenne de cette colonne pour ex de classe classe\n",
    "        # ajustement pour garantir que la moyenne n'est pas NaN\n",
    "        moyenne = np.nanmean(data[iex[classe],col]) # non prise en compte des NaN dans moyenne\n",
    "        if np.isnan(moyenne):\n",
    "            moyenne = np.nanmean(data[:,col])\n",
    "        for i in iex[classe]:\n",
    "            # remplacement des valeurs manquantes\n",
    "            if np.isnan(data[i,col]):\n",
    "                data[i,col] = moyenne\n",
    "    \n",
    "mdd2 = data\n",
    "print(\"VAL MANQUANTES APRES \", nb_val_manquantes(mdd2))"
   ]
  },
  {
   "cell_type": "code",
   "execution_count": null,
   "metadata": {},
   "outputs": [],
   "source": [
    "# TROISIEME METHODE (completion selon kppv de sklearn)\n",
    "from sklearn.impute import KNNImputer\n",
    "import math\n",
    "\n",
    "print(\"VAL MANQUANTES AVANT \", nb_val_manquantes(mdd3))\n",
    "data = mdd3\n",
    "k = int(math.log(data.shape[0])) # heuristique pour nombre de voisins\n",
    "imputer = KNNImputer(n_neighbors=k)\n",
    "mdd3 = imputer.fit_transform(data)\n",
    "\n",
    "print(\"VAL MANQUANTES APRES \", nb_val_manquantes(mdd3))"
   ]
  },
  {
   "cell_type": "code",
   "execution_count": null,
   "metadata": {},
   "outputs": [],
   "source": [
    "# MEILLEURE METHODE ?\n",
    "def score_imputation(Xinit, Ximputed):\n",
    "    nb_row = Xinit.shape[0]\n",
    "    nb_col = Xinit.shape[1]\n",
    "    error = 0.\n",
    "    for i in range(nb_row):\n",
    "        for j in range(nb_col):\n",
    "            error = error + (Xinit[i,j] -  Ximputed[i,j]) ** 2\n",
    "    return error\n",
    "            "
   ]
  },
  {
   "cell_type": "code",
   "execution_count": null,
   "metadata": {},
   "outputs": [],
   "source": [
    "# Calcul de l'erreur de chaque methode\n",
    "data = load_digits().data\n",
    "erreur_stationnaire = score_imputation(data, mdd1)\n",
    "erreur_moy_condi = score_imputation(data, mdd2)\n",
    "erreur_kppv = score_imputation(data, mdd3)\n",
    "erreurs = [erreur_stationnaire, erreur_moy_condi, erreur_kppv]\n",
    "print(erreurs)"
   ]
  },
  {
   "cell_type": "markdown",
   "metadata": {},
   "source": [
    "La méthode des kppv a l'erreur la plus petite, donc est la meilleure au sens de la MSE. Ensuite, la méthode par moyenne conditionnellement aux classes est la seconde plus performante, suivie de la simple méthode stationnaire en bonne dernière. \n",
    "\n",
    "Il faudrait renouveler l'expérience plusieurs fois pour vérifier que ce résultat est stable (il dépend notamment du nombre de valeurs manquantes, et desquelles sont manquantes, ce qui est aléatoire). Ce classement des méthodes ne sera pas le même dans le cas d'autres jeux de données."
   ]
  }
 ],
 "metadata": {
  "colab": {
   "collapsed_sections": [],
   "name": "TP1_ISD.ipynb",
   "provenance": []
  },
  "kernelspec": {
   "display_name": "Python 3",
   "language": "python",
   "name": "python3"
  },
  "language_info": {
   "codemirror_mode": {
    "name": "ipython",
    "version": 3
   },
   "file_extension": ".py",
   "mimetype": "text/x-python",
   "name": "python",
   "nbconvert_exporter": "python",
   "pygments_lexer": "ipython3",
   "version": "3.8.8"
  }
 },
 "nbformat": 4,
 "nbformat_minor": 1
}
